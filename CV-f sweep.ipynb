{
 "cells": [
  {
   "cell_type": "code",
   "execution_count": 19,
   "id": "6d3200f5",
   "metadata": {},
   "outputs": [],
   "source": [
    "import pyvisa\n",
    "import numpy as np\n",
    "import time\n",
    "import pandas as pd\n",
    "import os\n",
    "import sys\n",
    "import CVCommands\n",
    "from os import path\n",
    "from simple_pid import PID\n",
    "from datetime import datetime\n",
    "from matplotlib import pyplot as plt\n",
    "from tqdm import tqdm, trange\n",
    "from pyvisa import ResourceManager, constants\n",
    "from usb.core import find as finddev\n",
    "from IPython.display import clear_output"
   ]
  },
  {
   "cell_type": "code",
   "execution_count": 24,
   "id": "a72b2d47",
   "metadata": {},
   "outputs": [],
   "source": [
    "sampName = 'OPV1'\n",
    "cellNum = '1'\n",
    "\n",
    "\n",
    "fastScan = False #Uses a voltage fit to speed up scan time, if fit is not available one will be made\n",
    "\n",
    "V_fitmax = 10 #Maximum Vsmu output\n",
    "V_fitmin = -2 #Minimum Vsmu output\n",
    "fitby = 'SMU' #'SMU' or 'CONTROL', fit by setting the value of the [SMU] or by [CONTROL]ling to setpoint value\n",
    "                #fitting by SMU is much faster\n",
    "\n",
    "#Values for CIGS fine scan\n",
    "V_i = 0.6 #Initial bias V (V)\n",
    "V_f = -1 #Final bias V (V)\n",
    "V_step = 100 #Number of steps\n",
    "\n",
    "Freq_i=2\n",
    "Freq_f=6\n",
    "Freq_step=5\n",
    "\n",
    "amp=0.05\n",
    "\n",
    "num_avg = 5 #Number of measurements to average\n",
    "\n",
    "delay = .1 #Delay between changing to new value\n",
    "\n",
    "holdbias = False #Toggle to hold device at bias before measurement\n",
    "hold_val = V_i #Voltage to hold at in V\n",
    "hold_time = 30 #Time to hold voltage in s\n",
    "\n",
    "pulseScan = False #Measurement V pulse on or off\n",
    "pulse_time = 10 #Pulse time in s\n",
    "\n",
    "####################################################\n",
    "\n",
    "#PID tuning parameters for V setpoint\n",
    "Ku = 1.3\n",
    "Tu = 1\n",
    "CVCommands.P = 0.45*Ku    #3.06\n",
    "CVCommands.I = 0.54*Ku/Tu    #2.8\n",
    "CVCommands.D = 0.0\n",
    "\n",
    "CVCommands.offset = 0.1 #Acceptable tolerance for voltage setpoint in V\n",
    "\n",
    "CVCommands.reset_i = 0 #Subtract this value from voltage setpoint to improve PID speed\n",
    "CVCommands.reset = 5 #Subtract value from setpoint after reset trigger\n",
    "\n",
    "CVCommands.reset_val = 1000 #Trigger voltage setpoint reset after iterations\n",
    "CVCommands.shutoff_val = 1000 #Max iterations before shutdown\n",
    "CVCommands.num_avg = num_avg\n",
    "CVCommands.mvavg_num = 20 #Number of points to calculate voltage setpoint moving average\n",
    "\n",
    "CVCommands.v_ceiling = 35 #Max allowable voltage sent to SMU, maximum value 35\n",
    "\n",
    "CVCommands.trig_delay = 0.1\n",
    "CVCommands.meas_speed = 'SLOW2' #FAST, MED, SLOW, SLOW2\n",
    "CVCommands.lowz = 'ON'\n",
    "\n",
    "CVCommands.LCR_timeout = 60*1000\n",
    "\n"
   ]
  },
  {
   "cell_type": "code",
   "execution_count": 25,
   "id": "f2100fd9",
   "metadata": {},
   "outputs": [
    {
     "name": "stderr",
     "output_type": "stream",
     "text": [
      "Frequency sweep:  80%|████████  | 4/5 [1:19:46<19:12, 1152.74s/it]\n",
      "Voltage sweep:   0%|          | 0/100 [00:00<?, ?it/s]\u001b[A"
     ]
    },
    {
     "name": "stdout",
     "output_type": "stream",
     "text": [
      "DC Bias set to 0.6V                                               \n",
      "\n"
     ]
    },
    {
     "name": "stderr",
     "output_type": "stream",
     "text": [
      "\n",
      "Voltage sweep:   1%|          | 1/100 [00:06<10:45,  6.52s/it]\u001b[A"
     ]
    },
    {
     "name": "stdout",
     "output_type": "stream",
     "text": [
      "DC Bias set to 0.584V                                           \n",
      "\n"
     ]
    },
    {
     "name": "stderr",
     "output_type": "stream",
     "text": [
      "\n",
      "Voltage sweep:   2%|▏         | 2/100 [00:13<10:48,  6.62s/it]\u001b[A"
     ]
    },
    {
     "name": "stdout",
     "output_type": "stream",
     "text": [
      "DC Bias set to 0.568V                                           \n",
      "\n"
     ]
    },
    {
     "name": "stderr",
     "output_type": "stream",
     "text": [
      "\n",
      "Voltage sweep:   3%|▎         | 3/100 [00:19<10:29,  6.49s/it]\u001b[A"
     ]
    },
    {
     "name": "stdout",
     "output_type": "stream",
     "text": [
      "DC Bias set to 0.552V                                           \n",
      "\n"
     ]
    },
    {
     "name": "stderr",
     "output_type": "stream",
     "text": [
      "\n",
      "Voltage sweep:   4%|▍         | 4/100 [00:26<10:23,  6.50s/it]\u001b[A"
     ]
    },
    {
     "name": "stdout",
     "output_type": "stream",
     "text": [
      "DC Bias set to 0.535V                                           \n",
      "\n"
     ]
    },
    {
     "name": "stderr",
     "output_type": "stream",
     "text": [
      "\n",
      "Voltage sweep:   5%|▌         | 5/100 [00:32<10:14,  6.47s/it]\u001b[A"
     ]
    },
    {
     "name": "stdout",
     "output_type": "stream",
     "text": [
      "DC Bias set to 0.519V                                           \n",
      "\n"
     ]
    },
    {
     "name": "stderr",
     "output_type": "stream",
     "text": [
      "\n",
      "Voltage sweep:   6%|▌         | 6/100 [00:38<10:07,  6.46s/it]\u001b[A"
     ]
    },
    {
     "name": "stdout",
     "output_type": "stream",
     "text": [
      "DC Bias set to 0.503V                                           \n",
      "\n"
     ]
    },
    {
     "name": "stderr",
     "output_type": "stream",
     "text": [
      "\n",
      "Voltage sweep:   7%|▋         | 7/100 [00:45<09:56,  6.42s/it]\u001b[A"
     ]
    },
    {
     "name": "stdout",
     "output_type": "stream",
     "text": [
      "DC Bias set to 0.487V                                            \n",
      "\n"
     ]
    },
    {
     "name": "stderr",
     "output_type": "stream",
     "text": [
      "\n",
      "Voltage sweep:   8%|▊         | 8/100 [00:51<09:41,  6.32s/it]\u001b[A"
     ]
    },
    {
     "name": "stdout",
     "output_type": "stream",
     "text": [
      "DC Bias set to 0.471V                                           \n",
      "\n"
     ]
    },
    {
     "name": "stderr",
     "output_type": "stream",
     "text": [
      "\n",
      "Voltage sweep:   9%|▉         | 9/100 [00:57<09:29,  6.26s/it]\u001b[A"
     ]
    },
    {
     "name": "stdout",
     "output_type": "stream",
     "text": [
      "DC Bias set to 0.455V                                           \n",
      "\n"
     ]
    },
    {
     "name": "stderr",
     "output_type": "stream",
     "text": [
      "\n",
      "Voltage sweep:  10%|█         | 10/100 [01:03<09:10,  6.11s/it]\u001b[A"
     ]
    },
    {
     "name": "stdout",
     "output_type": "stream",
     "text": [
      "V = 0.235089056,   V_SMU = 0.25V                               \r"
     ]
    },
    {
     "name": "stderr",
     "output_type": "stream",
     "text": [
      "Voltage sweep:  10%|█         | 10/100 [01:04<09:42,  6.47s/it]\n",
      "Frequency sweep:  80%|████████  | 4/5 [1:20:50<20:12, 1212.72s/it]"
     ]
    },
    {
     "name": "stdout",
     "output_type": "stream",
     "text": [
      "V = 0.264552864,   V_SMU = 0.28V                               \r"
     ]
    },
    {
     "name": "stderr",
     "output_type": "stream",
     "text": [
      "\n"
     ]
    },
    {
     "name": "stdout",
     "output_type": "stream",
     "text": [
      "\n",
      "Interrupt\n"
     ]
    },
    {
     "data": {
      "image/png": "[encoded data removed]",
      "text/plain": [
       "<Figure size 432x288 with 1 Axes>"
      ]
     },
     "metadata": {
      "needs_background": "light"
     },
     "output_type": "display_data"
    }
   ],
   "source": [
    "os.chdir('/home/pi/Desktop/CV')\n",
    "foldname = datetime.today().strftime('%m-%d-%Y')\n",
    "now = datetime.now()\n",
    "currtime = now.strftime(\"%m%d%y%H%M\")\n",
    "month_format=datetime.today().strftime('%m-%Y')\n",
    "currtime_format = now.strftime(\"%m/%d/%y %H:%M\")\n",
    "\n",
    "if os.path.isdir(month_format) is False:\n",
    "    os.mkdir(month_format)\n",
    "    os.chdir(month_format)\n",
    "else:\n",
    "    os.chdir(month_format)   \n",
    "\n",
    "if os.path.isdir(foldname) is False:\n",
    "    os.mkdir(foldname)\n",
    "\n",
    "os.chdir(foldname)\n",
    "\n",
    "CVFfoldname = ''.join(['CVF_',currtime])\n",
    "if os.path.isdir(CVFfoldname) is False:\n",
    "    os.mkdir(CVFfoldname)\n",
    "os.chdir(CVFfoldname)\n",
    "\n",
    "try:\n",
    "    DMM.query('*IDN?')\n",
    "except:\n",
    "    rm = pyvisa.ResourceManager()\n",
    "    rm.list_resources()\n",
    "    DMMdev = finddev(idVendor=0x05e6, idProduct=0x2100) #Device ID for DMM\n",
    "    DMMdev.reset() \n",
    "    DMM = rm.open_resource('USB0::1510::8448::1182494::0::INSTR')\n",
    "    LCR = rm.open_resource('GPIB0::17::INSTR')\n",
    "    SMU = rm.open_resource('GPIB0::24::INSTR')\n",
    "  \n",
    "    CVCommands.LCR = LCR\n",
    "    CVCommands.SMU = SMU\n",
    "    CVCommands.DMM = DMM\n",
    "    CVCommands.SMU_configure()\n",
    "    CVCommands.playstair()\n",
    "    CVCommands.playon()\n",
    "\n",
    "CVCommands.fastScan = fastScan\n",
    "CVCommands.sampName = sampName\n",
    "CVCommands.LCR_configure()\n",
    "CVCommands.LCR_CGD()\n",
    "\n",
    "error = False\n",
    "\n",
    "time.sleep(1)\n",
    "################################################\n",
    "\n",
    "if fastScan == True:\n",
    "    if path.exists(''.join(['/home/pi/Desktop/VoltageFits/','Vfitdata_',sampName])):\n",
    "        CVCommands.fit_df = pd.read_csv(''.join(['/home/pi/Desktop/VoltageFits/','Vfitdata_',sampName]),sep='\\t')\n",
    "    else:\n",
    "        CVCommands.voltFit(V_fitmin,V_fitmax,fitby)\n",
    "        CVCommands.fit_df = pd.read_csv(''.join(['/home/pi/Desktop/VoltageFits/','Vfitdata_',sampName]),sep='\\t') \n",
    "\n",
    "\n",
    "#Sets LCR oscilation voltage\n",
    "CVCommands.set_oscVolt(amp)\n",
    "\n",
    "try:\n",
    "    start_time = time.time()\n",
    "    for k in tqdm(np.logspace(Freq_i,Freq_f,Freq_step),desc='Frequency sweep'):\n",
    "        freq = k\n",
    "\n",
    "        CVCommands.setFreq(freq)\n",
    "\n",
    "        now = datetime.now()\n",
    "        currtime = now.strftime(\"%m%d%y%H%M\")\n",
    "\n",
    "        V_arr = []\n",
    "        c_arr = []\n",
    "        f_arr = []\n",
    "        g_arr = []\n",
    "        d_arr = []\n",
    "        time_arr = []\n",
    "        if holdbias is True:\n",
    "\n",
    "            CVCommands.setBias(hold_val,True,fastScan)\n",
    "\n",
    "            print('Waiting                                    ')\n",
    "            time.sleep(hold_time)        \n",
    "\n",
    "        for i in tqdm(np.linspace(V_i,V_f,V_step),desc=''.join(['Voltage sweep'])):\n",
    "\n",
    "            CVCommands.setBias(i,True,fastScan)\n",
    "\n",
    "            c, g, d = CVCommands.getData()\n",
    "\n",
    "            V_arr.append(float(DMM.query(':READ?')))\n",
    "            f_arr.append(freq)\n",
    "            c_arr.append(c)\n",
    "            g_arr.append(g)\n",
    "            d_arr.append(d)\n",
    "            \n",
    "            end_time = time.time()\n",
    "            time_tot = end_time-start_time\n",
    "            time_arr.append(time_tot)\n",
    "            if pulseScan == True:\n",
    "                CVCommands.setBias(0,True,fastScan)\n",
    "                DMM.query(':READ?')\n",
    "                time.sleep(pulse_time)\n",
    "\n",
    "        \n",
    "        tempdict = {\n",
    "            'DC Bias (V)' : V_arr,\n",
    "            'Capacitance (F)' : c_arr,\n",
    "            'Conductance (S)' : g_arr,\n",
    "            'Dissipation (D)' : d_arr,\n",
    "            'Frequency (Hz)' : f_arr,\n",
    "            'Scan time (s)' : time_arr\n",
    "\n",
    "        }\n",
    "\n",
    "\n",
    "\n",
    "        info_labels = ['Sample Name: ','Cell Number: ','V start: ','V final: ','V steps: ','Freq start: ','Freq final: ','Freq steps: ','AC amp: ','Start time: ']\n",
    "        info_data = [sampName,cellNum,V_i,V_f,V_step,10**Freq_i,10**Freq_f,Freq_step,amp,currtime_format]\n",
    "\n",
    "        dictlen = len(tempdict[list(tempdict.keys())[0]])\n",
    "        infolen = len(info_data)\n",
    "\n",
    "        if dictlen >= infolen:\n",
    "            info_labels = info_labels+[np.nan]*(dictlen-infolen)\n",
    "            info_data = info_data+[np.nan]*(dictlen-infolen)\n",
    "        else:\n",
    "            for i in tempdict:\n",
    "                tempdict[i] = tempdict[i]+[np.nan]*(infolen-dictlen)\n",
    "\n",
    "        tempdict['Info1'] = info_labels\n",
    "        tempdict['Info2'] = info_data\n",
    "        \n",
    "        print('Saving as: '+''.join([sampName,'_CV','_',currtime,'_',\"{:.0f}\".format(freq/1000),'kHz']))\n",
    "        globals()[''.join([sampName,'_CV','_',currtime,'_',\"{:.0f}\".format(freq/1000),'kHz'])] = pd.DataFrame(tempdict)\n",
    "        globals()[''.join([sampName,'_CV','_',currtime,'_',\"{:.0f}\".format(freq/1000),'kHz'])].to_csv(''.join([sampName,'_CV','_',currtime,'_',\"{:.0f}\".format(freq/1000),'kHz']),sep='\\t')\n",
    "\n",
    "        CVCommands.offBias()\n",
    "\n",
    "\n",
    "        print('Measurement complete')\n",
    "        print('Data saved')\n",
    "\n",
    "        plt.plot(globals()[''.join([sampName,'_CV','_',currtime,'_',\"{:.0f}\".format(freq/1000),'kHz'])]['DC Bias (V)']\n",
    "                 ,globals()[''.join([sampName,'_CV','_',currtime,'_',\"{:.0f}\".format(freq/1000),'kHz'])]['Capacitance (F)'])\n",
    "        clear_output(wait=True)\n",
    "except KeyboardInterrupt as e:\n",
    "    CVCommands.offBias()\n",
    "    error = True\n",
    "    print(e)\n",
    "    print('Interrupt')\n",
    "LCR.write(':TRIG INT')  \n",
    "if error == False:\n",
    "    time.sleep(0.5)\n",
    "    CVCommands.playchest()\n",
    "else:\n",
    "    CVCommands.playrand(10,0.05)"
   ]
  },
  {
   "cell_type": "code",
   "execution_count": null,
   "id": "d07c8bec",
   "metadata": {},
   "outputs": [],
   "source": []
  }
 ],
 "metadata": {
  "kernelspec": {
   "display_name": "Python 3 (ipykernel)",
   "language": "python",
   "name": "python3"
  },
  "language_info": {
   "codemirror_mode": {
    "name": "ipython",
    "version": 3
   },
   "file_extension": ".py",
   "mimetype": "text/x-python",
   "name": "python",
   "nbconvert_exporter": "python",
   "pygments_lexer": "ipython3",
   "version": "3.7.3"
  }
 },
 "nbformat": 4,
 "nbformat_minor": 5
}
