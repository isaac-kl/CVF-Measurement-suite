{
 "cells": [
  {
   "cell_type": "code",
   "execution_count": 2,
   "id": "6d3200f5",
   "metadata": {},
   "outputs": [],
   "source": [
    "import pyvisa\n",
    "import numpy as np\n",
    "import time\n",
    "import pandas as pd\n",
    "import os\n",
    "import sys\n",
    "import CVCommands\n",
    "import JVfunctions\n",
    "from os import path\n",
    "from simple_pid import PID\n",
    "from datetime import datetime\n",
    "from matplotlib import pyplot as plt\n",
    "from tqdm.auto import tqdm\n",
    "from pyvisa import ResourceManager, constants\n",
    "from usb.core import find as finddev\n",
    "from IPython.display import clear_output"
   ]
  },
  {
   "cell_type": "code",
   "execution_count": 7,
   "id": "a72b2d47",
   "metadata": {},
   "outputs": [],
   "source": [
    "sampName = 'CS610B-3'\n",
    "cellNum = '003'\n",
    "A = 0.17 #For JV scan\n",
    "\n",
    "fastScan = True #Uses a voltage fit to speed up scan time, if fit is not available one will be made\n",
    "\n",
    "V_fitmax = 15 #Maximum Vsmu output\n",
    "V_fitmin = -1 #Minimum Vsmu output\n",
    "fitby = 'SMU' #'SMU' or 'CONTROL', fit by setting the value of the [SMU] or by [CONTROL]ling to setpoint value\n",
    "                #fitting by SMU is much faster\n",
    "\n",
    "#Values for CIGS fine scan\n",
    "V_i = 1.4 #Initial bias V (V)\n",
    "V_f = -1 #Final bias V (V)\n",
    "V_step = 100 #Number of steps\n",
    "\n",
    "Freq_i=2\n",
    "Freq_f=6\n",
    "Freq_step=100\n",
    "\n",
    "amp=0.05\n",
    "\n",
    "num_avg = 5 #Number of measurements to average\n",
    "\n",
    "delay = .1 #Delay between changing to new value\n",
    "\n",
    "holdbias = True #Toggle to hold device at bias before measurement\n",
    "hold_val = V_i #Voltage to hold at in V\n",
    "hold_time = 30 #Time to hold voltage in s\n",
    "\n",
    "pulseScan = False #Measurement V pulse on or off\n",
    "pulse_time = 10 #Pulse time in s\n",
    "#Soak at voltage before taking measurement\n",
    "soak = False #Soak on/off\n",
    "soak_time=1 #Soak time in s\n",
    "\n",
    "takeJV = False\n",
    "V_jvi = 0\n",
    "V_jvf = 1\n",
    "jv_avg = 5\n",
    "jv_pts = 5\n",
    "plc = .01\n",
    "bufdelay = .01\n",
    "prebias = False\n",
    "biasV = 0\n",
    "biastime = 0\n",
    "pulse = False\n",
    "pulsedelay = 0\n",
    "\n",
    "####################################################\n",
    "\n",
    "#PID tuning parameters for V setpoint\n",
    "Ku = 1.3\n",
    "Tu = 1\n",
    "CVCommands.P = 0.45*Ku    #3.06\n",
    "CVCommands.I = 0.54*Ku/Tu    #2.8\n",
    "CVCommands.D = 0.0\n",
    "\n",
    "CVCommands.offset = 0.1 #Acceptable tolerance for voltage setpoint in V\n",
    "\n",
    "CVCommands.reset_i = 0 #Subtract this value from voltage setpoint to improve PID speed\n",
    "CVCommands.reset = 5 #Subtract value from setpoint after reset trigger\n",
    "\n",
    "CVCommands.reset_val = 1000 #Trigger voltage setpoint reset after iterations\n",
    "CVCommands.shutoff_val = 1000 #Max iterations before shutdown\n",
    "CVCommands.num_avg = num_avg\n",
    "CVCommands.mvavg_num = 20 #Number of points to calculate voltage setpoint moving average\n",
    "\n",
    "CVCommands.v_ceiling = 35 #Max allowable voltage sent to SMU, maximum value 35\n",
    "\n",
    "CVCommands.trig_delay = 1\n",
    "CVCommands.meas_speed = 'SLOW2' #FAST, MED, SLOW, SLOW2\n",
    "CVCommands.lowz = 'ON'\n",
    "\n",
    "CVCommands.LCR_timeout = 60*1000\n",
    "\n"
   ]
  },
  {
   "cell_type": "code",
   "execution_count": 8,
   "id": "f2100fd9",
   "metadata": {},
   "outputs": [
    {
     "name": "stdout",
     "output_type": "stream",
     "text": [
      "Creating voltage fit for: CS610B-3...\n"
     ]
    },
    {
     "data": {
      "application/vnd.jupyter.widget-view+json": {
       "model_id": "984aa9779c5f43bfa98eb17901761a11",
       "version_major": 2,
       "version_minor": 0
      },
      "text/plain": [
       "  0%|          | 0/100 [00:00<?, ?it/s]"
      ]
     },
     "metadata": {},
     "output_type": "display_data"
    },
    {
     "name": "stdout",
     "output_type": "stream",
     "text": [
      "Fitting complete\n",
      "Fit from Vmin = -0.99898784 to Vmax = 1.31092008\n",
      "Saved as Vfitdata_CS610B-3\n",
      "AC Voltage set to 0.05V                        \r"
     ]
    },
    {
     "data": {
      "application/vnd.jupyter.widget-view+json": {
       "model_id": "ea489224db5540c281a233708b2c046a",
       "version_major": 2,
       "version_minor": 0
      },
      "text/plain": [
       "Frequency sweep:   0%|          | 0/100 [00:00<?, ?it/s]"
      ]
     },
     "metadata": {},
     "output_type": "display_data"
    },
    {
     "name": "stdout",
     "output_type": "stream",
     "text": [
      "Waiting                                                      \n"
     ]
    },
    {
     "data": {
      "application/vnd.jupyter.widget-view+json": {
       "model_id": "bd4c7078bd464233b3632b33756667cb",
       "version_major": 2,
       "version_minor": 0
      },
      "text/plain": [
       "Voltage sweep:   0%|          | 0/100 [00:00<?, ?it/s]"
      ]
     },
     "metadata": {},
     "output_type": "display_data"
    },
    {
     "name": "stdout",
     "output_type": "stream",
     "text": [
      "Saving as: CS610B-3_CV_0217221052_0kHz                             \n",
      "Measurement complete\n",
      "Data saved\n",
      "Waiting                                                         \n"
     ]
    },
    {
     "data": {
      "application/vnd.jupyter.widget-view+json": {
       "model_id": "60e703674408446b88c59f68bcce4ed3",
       "version_major": 2,
       "version_minor": 0
      },
      "text/plain": [
       "Voltage sweep:   0%|          | 0/100 [00:00<?, ?it/s]"
      ]
     },
     "metadata": {},
     "output_type": "display_data"
    },
    {
     "name": "stdout",
     "output_type": "stream",
     "text": [
      "Saving as: CS610B-3_CV_0217221104_0kHz                              \n",
      "Measurement complete\n",
      "Data saved\n",
      "Waiting                                                         \n"
     ]
    },
    {
     "data": {
      "application/vnd.jupyter.widget-view+json": {
       "model_id": "d47a64f6aed741c8a4b839cf003e92c3",
       "version_major": 2,
       "version_minor": 0
      },
      "text/plain": [
       "Voltage sweep:   0%|          | 0/100 [00:00<?, ?it/s]"
      ]
     },
     "metadata": {},
     "output_type": "display_data"
    },
    {
     "name": "stdout",
     "output_type": "stream",
     "text": [
      "Saving as: CS610B-3_CV_0217221115_0kHz                             \n",
      "Measurement complete\n",
      "Data saved\n",
      "Waiting                                                         \n"
     ]
    },
    {
     "data": {
      "application/vnd.jupyter.widget-view+json": {
       "model_id": "fafc4e0e86a9403b8829e536f2163699",
       "version_major": 2,
       "version_minor": 0
      },
      "text/plain": [
       "Voltage sweep:   0%|          | 0/100 [00:00<?, ?it/s]"
      ]
     },
     "metadata": {},
     "output_type": "display_data"
    },
    {
     "name": "stdout",
     "output_type": "stream",
     "text": [
      "Saving as: CS610B-3_CV_0217221125_0kHz                             \n",
      "Measurement complete\n",
      "Data saved\n",
      "Waiting                                                         \n"
     ]
    },
    {
     "data": {
      "application/vnd.jupyter.widget-view+json": {
       "model_id": "607aa71159634548a06c79e49bf94aef",
       "version_major": 2,
       "version_minor": 0
      },
      "text/plain": [
       "Voltage sweep:   0%|          | 0/100 [00:00<?, ?it/s]"
      ]
     },
     "metadata": {},
     "output_type": "display_data"
    },
    {
     "name": "stdout",
     "output_type": "stream",
     "text": [
      "Saving as: CS610B-3_CV_0217221132_0kHz                             \n",
      "Measurement complete\n",
      "Data saved\n",
      "Waiting                                                         \n"
     ]
    },
    {
     "data": {
      "application/vnd.jupyter.widget-view+json": {
       "model_id": "533143e848f841759a8c08fefbdeaf97",
       "version_major": 2,
       "version_minor": 0
      },
      "text/plain": [
       "Voltage sweep:   0%|          | 0/100 [00:00<?, ?it/s]"
      ]
     },
     "metadata": {},
     "output_type": "display_data"
    },
    {
     "name": "stdout",
     "output_type": "stream",
     "text": [
      "Saving as: CS610B-3_CV_0217221139_0kHz                             \n",
      "Measurement complete\n",
      "Data saved\n",
      "Waiting                                                       \n"
     ]
    },
    {
     "data": {
      "application/vnd.jupyter.widget-view+json": {
       "model_id": "4a06c5752106498fa1dea47c41fc9e2e",
       "version_major": 2,
       "version_minor": 0
      },
      "text/plain": [
       "Voltage sweep:   0%|          | 0/100 [00:00<?, ?it/s]"
      ]
     },
     "metadata": {},
     "output_type": "display_data"
    },
    {
     "name": "stdout",
     "output_type": "stream",
     "text": [
      "Saving as: CS610B-3_CV_0217221145_0kHz                             \n",
      "Measurement complete\n",
      "Data saved\n",
      "Waiting                                                        \n"
     ]
    },
    {
     "data": {
      "application/vnd.jupyter.widget-view+json": {
       "model_id": "ec398cbc27724f6eb49118b1c83f384a",
       "version_major": 2,
       "version_minor": 0
      },
      "text/plain": [
       "Voltage sweep:   0%|          | 0/100 [00:00<?, ?it/s]"
      ]
     },
     "metadata": {},
     "output_type": "display_data"
    },
    {
     "name": "stdout",
     "output_type": "stream",
     "text": [
      "Saving as: CS610B-3_CV_0217221151_0kHz                              \n",
      "Measurement complete\n",
      "Data saved\n",
      "Waiting                                                        \n"
     ]
    },
    {
     "data": {
      "application/vnd.jupyter.widget-view+json": {
       "model_id": "b50c4838e23246b2989582c60eba138c",
       "version_major": 2,
       "version_minor": 0
      },
      "text/plain": [
       "Voltage sweep:   0%|          | 0/100 [00:00<?, ?it/s]"
      ]
     },
     "metadata": {},
     "output_type": "display_data"
    },
    {
     "name": "stdout",
     "output_type": "stream",
     "text": [
      "Saving as: CS610B-3_CV_0217221157_0kHz                             \n",
      "Measurement complete\n",
      "Data saved\n",
      "Waiting                                                       \n"
     ]
    },
    {
     "data": {
      "application/vnd.jupyter.widget-view+json": {
       "model_id": "dfb250e8b9f84044a7a203dde6c0b8ef",
       "version_major": 2,
       "version_minor": 0
      },
      "text/plain": [
       "Voltage sweep:   0%|          | 0/100 [00:00<?, ?it/s]"
      ]
     },
     "metadata": {},
     "output_type": "display_data"
    },
    {
     "name": "stdout",
     "output_type": "stream",
     "text": [
      "Saving as: CS610B-3_CV_0217221202_0kHz                             \n",
      "Measurement complete\n",
      "Data saved\n",
      "Waiting                                                       \n"
     ]
    },
    {
     "data": {
      "application/vnd.jupyter.widget-view+json": {
       "model_id": "a619a0a86ae74783ba7f536febd9ded6",
       "version_major": 2,
       "version_minor": 0
      },
      "text/plain": [
       "Voltage sweep:   0%|          | 0/100 [00:00<?, ?it/s]"
      ]
     },
     "metadata": {},
     "output_type": "display_data"
    },
    {
     "name": "stdout",
     "output_type": "stream",
     "text": [
      "Saving as: CS610B-3_CV_0217221208_0kHz                             \n",
      "Measurement complete\n",
      "Data saved\n",
      "Waiting                                                         \n"
     ]
    },
    {
     "data": {
      "application/vnd.jupyter.widget-view+json": {
       "model_id": "fafac9f666ea4b81ae4071deba841ba3",
       "version_major": 2,
       "version_minor": 0
      },
      "text/plain": [
       "Voltage sweep:   0%|          | 0/100 [00:00<?, ?it/s]"
      ]
     },
     "metadata": {},
     "output_type": "display_data"
    },
    {
     "name": "stdout",
     "output_type": "stream",
     "text": [
      "Saving as: CS610B-3_CV_0217221213_0kHz                              \n",
      "Measurement complete\n",
      "Data saved\n",
      "Waiting                                                       \n"
     ]
    },
    {
     "data": {
      "application/vnd.jupyter.widget-view+json": {
       "model_id": "46b82ac567064ef58e513890bbb5fa23",
       "version_major": 2,
       "version_minor": 0
      },
      "text/plain": [
       "Voltage sweep:   0%|          | 0/100 [00:00<?, ?it/s]"
      ]
     },
     "metadata": {},
     "output_type": "display_data"
    },
    {
     "name": "stdout",
     "output_type": "stream",
     "text": [
      "Saving as: CS610B-3_CV_0217221218_0kHz                             \n",
      "Measurement complete\n",
      "Data saved\n",
      "Waiting                                                       \n"
     ]
    },
    {
     "data": {
      "application/vnd.jupyter.widget-view+json": {
       "model_id": "d3507989159a41dbaa37d419f5dc3ec4",
       "version_major": 2,
       "version_minor": 0
      },
      "text/plain": [
       "Voltage sweep:   0%|          | 0/100 [00:00<?, ?it/s]"
      ]
     },
     "metadata": {},
     "output_type": "display_data"
    },
    {
     "name": "stdout",
     "output_type": "stream",
     "text": [
      "Saving as: CS610B-3_CV_0217221228_0kHz                             \n",
      "Measurement complete\n",
      "Data saved\n",
      "Waiting                                                     \n"
     ]
    },
    {
     "data": {
      "application/vnd.jupyter.widget-view+json": {
       "model_id": "d0aeeb8351a9451bab0f604d2415967f",
       "version_major": 2,
       "version_minor": 0
      },
      "text/plain": [
       "Voltage sweep:   0%|          | 0/100 [00:00<?, ?it/s]"
      ]
     },
     "metadata": {},
     "output_type": "display_data"
    },
    {
     "name": "stdout",
     "output_type": "stream",
     "text": [
      "Saving as: CS610B-3_CV_0217221238_0kHz                             \n",
      "Measurement complete\n",
      "Data saved\n",
      "Waiting                                                       \n"
     ]
    },
    {
     "data": {
      "application/vnd.jupyter.widget-view+json": {
       "model_id": "e2a6717bbfde42739389eaed8066bee3",
       "version_major": 2,
       "version_minor": 0
      },
      "text/plain": [
       "Voltage sweep:   0%|          | 0/100 [00:00<?, ?it/s]"
      ]
     },
     "metadata": {},
     "output_type": "display_data"
    },
    {
     "name": "stdout",
     "output_type": "stream",
     "text": [
      "Saving as: CS610B-3_CV_0217221247_0kHz                             \n",
      "Measurement complete\n",
      "Data saved\n",
      "Waiting                                                         \n"
     ]
    },
    {
     "data": {
      "application/vnd.jupyter.widget-view+json": {
       "model_id": "616680c4ebcc45f0b0afd0032d3834b8",
       "version_major": 2,
       "version_minor": 0
      },
      "text/plain": [
       "Voltage sweep:   0%|          | 0/100 [00:00<?, ?it/s]"
      ]
     },
     "metadata": {},
     "output_type": "display_data"
    },
    {
     "name": "stdout",
     "output_type": "stream",
     "text": [
      "Saving as: CS610B-3_CV_0217221255_0kHz                             \n",
      "Measurement complete\n",
      "Data saved\n",
      "Waiting                                                      \n"
     ]
    },
    {
     "data": {
      "application/vnd.jupyter.widget-view+json": {
       "model_id": "f02f11d6aa534880b281da72a15b2804",
       "version_major": 2,
       "version_minor": 0
      },
      "text/plain": [
       "Voltage sweep:   0%|          | 0/100 [00:00<?, ?it/s]"
      ]
     },
     "metadata": {},
     "output_type": "display_data"
    },
    {
     "name": "stdout",
     "output_type": "stream",
     "text": [
      "Saving as: CS610B-3_CV_0217221303_0kHz                             \n",
      "Measurement complete\n",
      "Data saved\n",
      "Waiting                                                       \n"
     ]
    },
    {
     "data": {
      "application/vnd.jupyter.widget-view+json": {
       "model_id": "ac65aa789fa74d2ea5dfdbb0ad7961f7",
       "version_major": 2,
       "version_minor": 0
      },
      "text/plain": [
       "Voltage sweep:   0%|          | 0/100 [00:00<?, ?it/s]"
      ]
     },
     "metadata": {},
     "output_type": "display_data"
    },
    {
     "name": "stdout",
     "output_type": "stream",
     "text": [
      "Saving as: CS610B-3_CV_0217221311_1kHz                             \n",
      "Measurement complete\n",
      "Data saved\n",
      "Waiting                                                         \n"
     ]
    },
    {
     "data": {
      "application/vnd.jupyter.widget-view+json": {
       "model_id": "8b7c22e92a6244ffaf58dfdb317abe62",
       "version_major": 2,
       "version_minor": 0
      },
      "text/plain": [
       "Voltage sweep:   0%|          | 0/100 [00:00<?, ?it/s]"
      ]
     },
     "metadata": {},
     "output_type": "display_data"
    },
    {
     "name": "stdout",
     "output_type": "stream",
     "text": [
      "Saving as: CS610B-3_CV_0217221320_1kHz                             \n",
      "Measurement complete\n",
      "Data saved\n",
      "Waiting                                                        \n"
     ]
    },
    {
     "data": {
      "application/vnd.jupyter.widget-view+json": {
       "model_id": "97665ecb45814defbe38b56de1300ffe",
       "version_major": 2,
       "version_minor": 0
      },
      "text/plain": [
       "Voltage sweep:   0%|          | 0/100 [00:00<?, ?it/s]"
      ]
     },
     "metadata": {},
     "output_type": "display_data"
    },
    {
     "name": "stdout",
     "output_type": "stream",
     "text": [
      "Saving as: CS610B-3_CV_0217221328_1kHz                             \n",
      "Measurement complete\n",
      "Data saved\n",
      "Waiting                                                       \n"
     ]
    },
    {
     "data": {
      "application/vnd.jupyter.widget-view+json": {
       "model_id": "af7316830cbe4eae8f86ef98e54895a7",
       "version_major": 2,
       "version_minor": 0
      },
      "text/plain": [
       "Voltage sweep:   0%|          | 0/100 [00:00<?, ?it/s]"
      ]
     },
     "metadata": {},
     "output_type": "display_data"
    },
    {
     "name": "stdout",
     "output_type": "stream",
     "text": [
      "Saving as: CS610B-3_CV_0217221337_1kHz                             \n",
      "Measurement complete\n",
      "Data saved\n",
      "Waiting                                                       \n"
     ]
    },
    {
     "data": {
      "application/vnd.jupyter.widget-view+json": {
       "model_id": "258569ef65354de08a6bd99a764957ad",
       "version_major": 2,
       "version_minor": 0
      },
      "text/plain": [
       "Voltage sweep:   0%|          | 0/100 [00:00<?, ?it/s]"
      ]
     },
     "metadata": {},
     "output_type": "display_data"
    },
    {
     "name": "stdout",
     "output_type": "stream",
     "text": [
      "Saving as: CS610B-3_CV_0217221344_1kHz                             \n",
      "Measurement complete\n",
      "Data saved\n",
      "Waiting                                                       \n"
     ]
    },
    {
     "data": {
      "application/vnd.jupyter.widget-view+json": {
       "model_id": "00a7f7521e424f77a9f30ad2e56f4706",
       "version_major": 2,
       "version_minor": 0
      },
      "text/plain": [
       "Voltage sweep:   0%|          | 0/100 [00:00<?, ?it/s]"
      ]
     },
     "metadata": {},
     "output_type": "display_data"
    },
    {
     "name": "stdout",
     "output_type": "stream",
     "text": [
      "Saving as: CS610B-3_CV_0217221351_1kHz                             \n",
      "Measurement complete\n",
      "Data saved\n",
      "Waiting                                                         \n"
     ]
    },
    {
     "data": {
      "application/vnd.jupyter.widget-view+json": {
       "model_id": "20681305681942a1a2daca00fbf20f70",
       "version_major": 2,
       "version_minor": 0
      },
      "text/plain": [
       "Voltage sweep:   0%|          | 0/100 [00:00<?, ?it/s]"
      ]
     },
     "metadata": {},
     "output_type": "display_data"
    },
    {
     "name": "stdout",
     "output_type": "stream",
     "text": [
      "Saving as: CS610B-3_CV_0217221358_1kHz                             \n",
      "Measurement complete\n",
      "Data saved\n",
      "Waiting                                                      \n"
     ]
    },
    {
     "data": {
      "application/vnd.jupyter.widget-view+json": {
       "model_id": "dd85440a88b1407282559d7eb4f13407",
       "version_major": 2,
       "version_minor": 0
      },
      "text/plain": [
       "Voltage sweep:   0%|          | 0/100 [00:00<?, ?it/s]"
      ]
     },
     "metadata": {},
     "output_type": "display_data"
    },
    {
     "name": "stdout",
     "output_type": "stream",
     "text": [
      "Saving as: CS610B-3_CV_0217221404_1kHz                             \n",
      "Measurement complete\n",
      "Data saved\n",
      "Waiting                                                        \n"
     ]
    },
    {
     "data": {
      "application/vnd.jupyter.widget-view+json": {
       "model_id": "3dfe3dc48a084c378a7de2b0d877b716",
       "version_major": 2,
       "version_minor": 0
      },
      "text/plain": [
       "Voltage sweep:   0%|          | 0/100 [00:00<?, ?it/s]"
      ]
     },
     "metadata": {},
     "output_type": "display_data"
    },
    {
     "name": "stdout",
     "output_type": "stream",
     "text": [
      "Saving as: CS610B-3_CV_0217221418_1kHz                             \n",
      "Measurement complete\n",
      "Data saved\n",
      "Waiting                                                         \n"
     ]
    },
    {
     "data": {
      "application/vnd.jupyter.widget-view+json": {
       "model_id": "db6343c58b10416dbcab79eb341cffb4",
       "version_major": 2,
       "version_minor": 0
      },
      "text/plain": [
       "Voltage sweep:   0%|          | 0/100 [00:00<?, ?it/s]"
      ]
     },
     "metadata": {},
     "output_type": "display_data"
    },
    {
     "name": "stdout",
     "output_type": "stream",
     "text": [
      "Saving as: CS610B-3_CV_0217221431_1kHz                             \n",
      "Measurement complete\n",
      "Data saved\n",
      "Waiting                                                        \n"
     ]
    },
    {
     "data": {
      "application/vnd.jupyter.widget-view+json": {
       "model_id": "ea6b599e2fe64d1d83a14ee8c9b01004",
       "version_major": 2,
       "version_minor": 0
      },
      "text/plain": [
       "Voltage sweep:   0%|          | 0/100 [00:00<?, ?it/s]"
      ]
     },
     "metadata": {},
     "output_type": "display_data"
    },
    {
     "name": "stdout",
     "output_type": "stream",
     "text": [
      "Saving as: CS610B-3_CV_0217221442_1kHz                             \n",
      "Measurement complete\n",
      "Data saved\n",
      "Waiting                                                       \n"
     ]
    },
    {
     "data": {
      "application/vnd.jupyter.widget-view+json": {
       "model_id": "19d6a3dbf643474aa1a06bf7ab709c23",
       "version_major": 2,
       "version_minor": 0
      },
      "text/plain": [
       "Voltage sweep:   0%|          | 0/100 [00:00<?, ?it/s]"
      ]
     },
     "metadata": {},
     "output_type": "display_data"
    },
    {
     "name": "stdout",
     "output_type": "stream",
     "text": [
      "Saving as: CS610B-3_CV_0217221452_1kHz                             \n",
      "Measurement complete\n",
      "Data saved\n",
      "Waiting                                                       \n"
     ]
    },
    {
     "data": {
      "application/vnd.jupyter.widget-view+json": {
       "model_id": "a64c75a768e84854b86409619644b244",
       "version_major": 2,
       "version_minor": 0
      },
      "text/plain": [
       "Voltage sweep:   0%|          | 0/100 [00:00<?, ?it/s]"
      ]
     },
     "metadata": {},
     "output_type": "display_data"
    },
    {
     "name": "stdout",
     "output_type": "stream",
     "text": [
      "Saving as: CS610B-3_CV_0217221500_2kHz                             \n",
      "Measurement complete\n",
      "Data saved\n",
      "Waiting                                                        \n"
     ]
    },
    {
     "data": {
      "application/vnd.jupyter.widget-view+json": {
       "model_id": "8a3006ec3d594d28b5d9fdefd9656859",
       "version_major": 2,
       "version_minor": 0
      },
      "text/plain": [
       "Voltage sweep:   0%|          | 0/100 [00:00<?, ?it/s]"
      ]
     },
     "metadata": {},
     "output_type": "display_data"
    },
    {
     "name": "stdout",
     "output_type": "stream",
     "text": [
      "Saving as: CS610B-3_CV_0217221508_2kHz                             \n",
      "Measurement complete\n",
      "Data saved\n",
      "Waiting                                                         \n"
     ]
    },
    {
     "data": {
      "application/vnd.jupyter.widget-view+json": {
       "model_id": "782c3ba381254e28ab177bc022b325ca",
       "version_major": 2,
       "version_minor": 0
      },
      "text/plain": [
       "Voltage sweep:   0%|          | 0/100 [00:00<?, ?it/s]"
      ]
     },
     "metadata": {},
     "output_type": "display_data"
    },
    {
     "name": "stdout",
     "output_type": "stream",
     "text": [
      "Saving as: CS610B-3_CV_0217221514_2kHz                             \n",
      "Measurement complete\n",
      "Data saved\n",
      "Waiting                                                         \n"
     ]
    },
    {
     "data": {
      "application/vnd.jupyter.widget-view+json": {
       "model_id": "b839856cd2594d488afed86ee0c9cb24",
       "version_major": 2,
       "version_minor": 0
      },
      "text/plain": [
       "Voltage sweep:   0%|          | 0/100 [00:00<?, ?it/s]"
      ]
     },
     "metadata": {},
     "output_type": "display_data"
    },
    {
     "name": "stdout",
     "output_type": "stream",
     "text": [
      "Saving as: CS610B-3_CV_0217221520_2kHz                             \n",
      "Measurement complete\n",
      "Data saved\n",
      "Waiting                                                    \n"
     ]
    },
    {
     "data": {
      "application/vnd.jupyter.widget-view+json": {
       "model_id": "1a1c01d473ac4568835255af4fef552e",
       "version_major": 2,
       "version_minor": 0
      },
      "text/plain": [
       "Voltage sweep:   0%|          | 0/100 [00:00<?, ?it/s]"
      ]
     },
     "metadata": {},
     "output_type": "display_data"
    },
    {
     "name": "stdout",
     "output_type": "stream",
     "text": [
      "Saving as: CS610B-3_CV_0217221529_2kHz                             \n",
      "Measurement complete\n",
      "Data saved\n",
      "Waiting                                                       \n"
     ]
    },
    {
     "data": {
      "application/vnd.jupyter.widget-view+json": {
       "model_id": "209d4cd297124e28b373cb00625a0dd5",
       "version_major": 2,
       "version_minor": 0
      },
      "text/plain": [
       "Voltage sweep:   0%|          | 0/100 [00:00<?, ?it/s]"
      ]
     },
     "metadata": {},
     "output_type": "display_data"
    },
    {
     "name": "stdout",
     "output_type": "stream",
     "text": [
      "Saving as: CS610B-3_CV_0217221538_3kHz                             \n",
      "Measurement complete\n",
      "Data saved\n",
      "Waiting                                                         \n"
     ]
    },
    {
     "data": {
      "application/vnd.jupyter.widget-view+json": {
       "model_id": "5a992ee91ee744ce82efde392c9593ed",
       "version_major": 2,
       "version_minor": 0
      },
      "text/plain": [
       "Voltage sweep:   0%|          | 0/100 [00:00<?, ?it/s]"
      ]
     },
     "metadata": {},
     "output_type": "display_data"
    },
    {
     "name": "stdout",
     "output_type": "stream",
     "text": [
      "Saving as: CS610B-3_CV_0217221546_3kHz                             \n",
      "Measurement complete\n",
      "Data saved\n",
      "Waiting                                                       \n"
     ]
    },
    {
     "data": {
      "application/vnd.jupyter.widget-view+json": {
       "model_id": "326791be1e494be98ba245665a9d2414",
       "version_major": 2,
       "version_minor": 0
      },
      "text/plain": [
       "Voltage sweep:   0%|          | 0/100 [00:00<?, ?it/s]"
      ]
     },
     "metadata": {},
     "output_type": "display_data"
    },
    {
     "name": "stdout",
     "output_type": "stream",
     "text": [
      "Saving as: CS610B-3_CV_0217221553_3kHz                             \n",
      "Measurement complete\n",
      "Data saved\n",
      "Waiting                                                       \n"
     ]
    },
    {
     "data": {
      "application/vnd.jupyter.widget-view+json": {
       "model_id": "5f9cf49f7d1c42e0b51e591f4f6dd903",
       "version_major": 2,
       "version_minor": 0
      },
      "text/plain": [
       "Voltage sweep:   0%|          | 0/100 [00:00<?, ?it/s]"
      ]
     },
     "metadata": {},
     "output_type": "display_data"
    },
    {
     "name": "stdout",
     "output_type": "stream",
     "text": [
      "Saving as: CS610B-3_CV_0217221604_3kHz                             \n",
      "Measurement complete\n",
      "Data saved\n",
      "Waiting                                                        \n"
     ]
    },
    {
     "data": {
      "application/vnd.jupyter.widget-view+json": {
       "model_id": "ab94607b9b42424d830f04d269d4a67d",
       "version_major": 2,
       "version_minor": 0
      },
      "text/plain": [
       "Voltage sweep:   0%|          | 0/100 [00:00<?, ?it/s]"
      ]
     },
     "metadata": {},
     "output_type": "display_data"
    },
    {
     "name": "stdout",
     "output_type": "stream",
     "text": [
      "Saving as: CS610B-3_CV_0217221613_4kHz                             \n",
      "Measurement complete\n",
      "Data saved\n",
      "Waiting                                                        \n"
     ]
    },
    {
     "data": {
      "application/vnd.jupyter.widget-view+json": {
       "model_id": "a6ef72a01eae467ba26cfe6767cca606",
       "version_major": 2,
       "version_minor": 0
      },
      "text/plain": [
       "Voltage sweep:   0%|          | 0/100 [00:00<?, ?it/s]"
      ]
     },
     "metadata": {},
     "output_type": "display_data"
    },
    {
     "name": "stdout",
     "output_type": "stream",
     "text": [
      "Saving as: CS610B-3_CV_0217221622_4kHz                             \n",
      "Measurement complete\n",
      "Data saved\n",
      "Waiting                                                        \n"
     ]
    },
    {
     "data": {
      "application/vnd.jupyter.widget-view+json": {
       "model_id": "60d1687bdb0348758baf0f246a981eb8",
       "version_major": 2,
       "version_minor": 0
      },
      "text/plain": [
       "Voltage sweep:   0%|          | 0/100 [00:00<?, ?it/s]"
      ]
     },
     "metadata": {},
     "output_type": "display_data"
    },
    {
     "name": "stdout",
     "output_type": "stream",
     "text": [
      "Saving as: CS610B-3_CV_0217221630_5kHz                             \n",
      "Measurement complete\n",
      "Data saved\n",
      "Waiting                                                       \n"
     ]
    },
    {
     "data": {
      "application/vnd.jupyter.widget-view+json": {
       "model_id": "d06dad85b17a49cab219539f614031c5",
       "version_major": 2,
       "version_minor": 0
      },
      "text/plain": [
       "Voltage sweep:   0%|          | 0/100 [00:00<?, ?it/s]"
      ]
     },
     "metadata": {},
     "output_type": "display_data"
    },
    {
     "name": "stdout",
     "output_type": "stream",
     "text": [
      "Saving as: CS610B-3_CV_0217221638_5kHz                             \n",
      "Measurement complete\n",
      "Data saved\n",
      "Waiting                                                         \n"
     ]
    },
    {
     "data": {
      "application/vnd.jupyter.widget-view+json": {
       "model_id": "559fa82d75214a4291014745c945eac1",
       "version_major": 2,
       "version_minor": 0
      },
      "text/plain": [
       "Voltage sweep:   0%|          | 0/100 [00:00<?, ?it/s]"
      ]
     },
     "metadata": {},
     "output_type": "display_data"
    },
    {
     "name": "stdout",
     "output_type": "stream",
     "text": [
      "Saving as: CS610B-3_CV_0217221645_5kHz                            \n",
      "Measurement complete\n",
      "Data saved\n",
      "Waiting                                                       \n"
     ]
    },
    {
     "data": {
      "application/vnd.jupyter.widget-view+json": {
       "model_id": "e6dbba4514e94b90ad48fb0634ed621f",
       "version_major": 2,
       "version_minor": 0
      },
      "text/plain": [
       "Voltage sweep:   0%|          | 0/100 [00:00<?, ?it/s]"
      ]
     },
     "metadata": {},
     "output_type": "display_data"
    },
    {
     "name": "stdout",
     "output_type": "stream",
     "text": [
      "Saving as: CS610B-3_CV_0217221654_6kHz                             \n",
      "Measurement complete\n",
      "Data saved\n",
      "Waiting                                                      \n"
     ]
    },
    {
     "data": {
      "application/vnd.jupyter.widget-view+json": {
       "model_id": "99e8538af1664d1c85bf260c67b85164",
       "version_major": 2,
       "version_minor": 0
      },
      "text/plain": [
       "Voltage sweep:   0%|          | 0/100 [00:00<?, ?it/s]"
      ]
     },
     "metadata": {},
     "output_type": "display_data"
    },
    {
     "name": "stdout",
     "output_type": "stream",
     "text": [
      "Saving as: CS610B-3_CV_0217221703_7kHz                             \n",
      "Measurement complete\n",
      "Data saved\n",
      "Waiting                                                         \n"
     ]
    },
    {
     "data": {
      "application/vnd.jupyter.widget-view+json": {
       "model_id": "7abfa513273f4cd2a3c6050ebf11fbb5",
       "version_major": 2,
       "version_minor": 0
      },
      "text/plain": [
       "Voltage sweep:   0%|          | 0/100 [00:00<?, ?it/s]"
      ]
     },
     "metadata": {},
     "output_type": "display_data"
    },
    {
     "name": "stdout",
     "output_type": "stream",
     "text": [
      "Saving as: CS610B-3_CV_0217221711_7kHz                             \n",
      "Measurement complete\n",
      "Data saved\n",
      "Waiting                                                       \n"
     ]
    },
    {
     "data": {
      "application/vnd.jupyter.widget-view+json": {
       "model_id": "87dde99d004a4c9e9db032d59f5dbc16",
       "version_major": 2,
       "version_minor": 0
      },
      "text/plain": [
       "Voltage sweep:   0%|          | 0/100 [00:00<?, ?it/s]"
      ]
     },
     "metadata": {},
     "output_type": "display_data"
    },
    {
     "name": "stdout",
     "output_type": "stream",
     "text": [
      "Saving as: CS610B-3_CV_0217221718_8kHz                             \n",
      "Measurement complete\n",
      "Data saved\n",
      "Waiting                                                        \n"
     ]
    },
    {
     "data": {
      "application/vnd.jupyter.widget-view+json": {
       "model_id": "9e9577224d3544a58eaddaefb6e1cd03",
       "version_major": 2,
       "version_minor": 0
      },
      "text/plain": [
       "Voltage sweep:   0%|          | 0/100 [00:00<?, ?it/s]"
      ]
     },
     "metadata": {},
     "output_type": "display_data"
    },
    {
     "name": "stdout",
     "output_type": "stream",
     "text": [
      "Saving as: CS610B-3_CV_0217221725_9kHz                             \n",
      "Measurement complete\n",
      "Data saved\n",
      "Waiting                                                       \n"
     ]
    },
    {
     "data": {
      "application/vnd.jupyter.widget-view+json": {
       "model_id": "aa753e7f4e6348249831e2fa66357b2e",
       "version_major": 2,
       "version_minor": 0
      },
      "text/plain": [
       "Voltage sweep:   0%|          | 0/100 [00:00<?, ?it/s]"
      ]
     },
     "metadata": {},
     "output_type": "display_data"
    },
    {
     "name": "stdout",
     "output_type": "stream",
     "text": [
      "Saving as: CS610B-3_CV_0217221732_10kHz                            \n",
      "Measurement complete\n",
      "Data saved\n",
      "Waiting                                                         \n"
     ]
    },
    {
     "data": {
      "application/vnd.jupyter.widget-view+json": {
       "model_id": "a71f4941d80d4e8da291f5257c7f8bac",
       "version_major": 2,
       "version_minor": 0
      },
      "text/plain": [
       "Voltage sweep:   0%|          | 0/100 [00:00<?, ?it/s]"
      ]
     },
     "metadata": {},
     "output_type": "display_data"
    },
    {
     "name": "stdout",
     "output_type": "stream",
     "text": [
      "Saving as: CS610B-3_CV_0217221738_10kHz                            \n",
      "Measurement complete\n",
      "Data saved\n",
      "Waiting                                                       \n"
     ]
    },
    {
     "data": {
      "application/vnd.jupyter.widget-view+json": {
       "model_id": "a1962c4745204aafaac61f4af72518bd",
       "version_major": 2,
       "version_minor": 0
      },
      "text/plain": [
       "Voltage sweep:   0%|          | 0/100 [00:00<?, ?it/s]"
      ]
     },
     "metadata": {},
     "output_type": "display_data"
    },
    {
     "name": "stdout",
     "output_type": "stream",
     "text": [
      "Saving as: CS610B-3_CV_0217221751_11kHz                            \n",
      "Measurement complete\n",
      "Data saved\n",
      "Waiting                                                       \n"
     ]
    },
    {
     "data": {
      "application/vnd.jupyter.widget-view+json": {
       "model_id": "4c34ab1c8a204a6cbfe574c64f17de9e",
       "version_major": 2,
       "version_minor": 0
      },
      "text/plain": [
       "Voltage sweep:   0%|          | 0/100 [00:00<?, ?it/s]"
      ]
     },
     "metadata": {},
     "output_type": "display_data"
    },
    {
     "name": "stdout",
     "output_type": "stream",
     "text": [
      "Saving as: CS610B-3_CV_0217221804_13kHz                            \n",
      "Measurement complete\n",
      "Data saved\n",
      "Waiting                                                         \n"
     ]
    },
    {
     "data": {
      "application/vnd.jupyter.widget-view+json": {
       "model_id": "86b1b016e2b04af48935ac8cb4ea7c5a",
       "version_major": 2,
       "version_minor": 0
      },
      "text/plain": [
       "Voltage sweep:   0%|          | 0/100 [00:00<?, ?it/s]"
      ]
     },
     "metadata": {},
     "output_type": "display_data"
    },
    {
     "name": "stdout",
     "output_type": "stream",
     "text": [
      "Saving as: CS610B-3_CV_0217221815_14kHz                            \n",
      "Measurement complete\n",
      "Data saved\n",
      "Waiting                                                       \n"
     ]
    },
    {
     "data": {
      "application/vnd.jupyter.widget-view+json": {
       "model_id": "f1d42c0966204250979c878e0a4eb29c",
       "version_major": 2,
       "version_minor": 0
      },
      "text/plain": [
       "Voltage sweep:   0%|          | 0/100 [00:00<?, ?it/s]"
      ]
     },
     "metadata": {},
     "output_type": "display_data"
    },
    {
     "name": "stdout",
     "output_type": "stream",
     "text": [
      "Saving as: CS610B-3_CV_0217221824_15kHz                              \n",
      "Measurement complete\n",
      "Data saved\n",
      "Waiting                                                        \n"
     ]
    },
    {
     "data": {
      "application/vnd.jupyter.widget-view+json": {
       "model_id": "a2ef3e5fdb8a49fca5c6b5f1244cc69c",
       "version_major": 2,
       "version_minor": 0
      },
      "text/plain": [
       "Voltage sweep:   0%|          | 0/100 [00:00<?, ?it/s]"
      ]
     },
     "metadata": {},
     "output_type": "display_data"
    },
    {
     "name": "stdout",
     "output_type": "stream",
     "text": [
      "Saving as: CS610B-3_CV_0217221833_17kHz                            \n",
      "Measurement complete\n",
      "Data saved\n",
      "Waiting                                                       \n"
     ]
    },
    {
     "data": {
      "application/vnd.jupyter.widget-view+json": {
       "model_id": "c4e8d674b42c4f08bb76475a63907223",
       "version_major": 2,
       "version_minor": 0
      },
      "text/plain": [
       "Voltage sweep:   0%|          | 0/100 [00:00<?, ?it/s]"
      ]
     },
     "metadata": {},
     "output_type": "display_data"
    },
    {
     "name": "stdout",
     "output_type": "stream",
     "text": [
      "Saving as: CS610B-3_CV_0217221839_18kHz                            \n",
      "Measurement complete\n",
      "Data saved\n",
      "Waiting                                                         \n"
     ]
    },
    {
     "data": {
      "application/vnd.jupyter.widget-view+json": {
       "model_id": "319cc99c40694b4bb570d29ffaa3a601",
       "version_major": 2,
       "version_minor": 0
      },
      "text/plain": [
       "Voltage sweep:   0%|          | 0/100 [00:00<?, ?it/s]"
      ]
     },
     "metadata": {},
     "output_type": "display_data"
    },
    {
     "name": "stdout",
     "output_type": "stream",
     "text": [
      "Saving as: CS610B-3_CV_0217221846_20kHz                            \n",
      "Measurement complete\n",
      "Data saved\n",
      "Waiting                                                      \n"
     ]
    },
    {
     "data": {
      "application/vnd.jupyter.widget-view+json": {
       "model_id": "f63d6899e61c4b31976add2d399b4f38",
       "version_major": 2,
       "version_minor": 0
      },
      "text/plain": [
       "Voltage sweep:   0%|          | 0/100 [00:00<?, ?it/s]"
      ]
     },
     "metadata": {},
     "output_type": "display_data"
    },
    {
     "name": "stdout",
     "output_type": "stream",
     "text": [
      "Saving as: CS610B-3_CV_0217221856_22kHz                            \n",
      "Measurement complete\n",
      "Data saved\n",
      "Waiting                                                         \n"
     ]
    },
    {
     "data": {
      "application/vnd.jupyter.widget-view+json": {
       "model_id": "d8f3f929ac91451f95093df74f775046",
       "version_major": 2,
       "version_minor": 0
      },
      "text/plain": [
       "Voltage sweep:   0%|          | 0/100 [00:00<?, ?it/s]"
      ]
     },
     "metadata": {},
     "output_type": "display_data"
    },
    {
     "name": "stdout",
     "output_type": "stream",
     "text": [
      "Saving as: CS610B-3_CV_0217221905_24kHz                            \n",
      "Measurement complete\n",
      "Data saved\n",
      "Waiting                                                       \n"
     ]
    },
    {
     "data": {
      "application/vnd.jupyter.widget-view+json": {
       "model_id": "085ddca4ae00405e84a503b067a002f0",
       "version_major": 2,
       "version_minor": 0
      },
      "text/plain": [
       "Voltage sweep:   0%|          | 0/100 [00:00<?, ?it/s]"
      ]
     },
     "metadata": {},
     "output_type": "display_data"
    },
    {
     "name": "stdout",
     "output_type": "stream",
     "text": [
      "Saving as: CS610B-3_CV_0217221913_27kHz                            \n",
      "Measurement complete\n",
      "Data saved\n",
      "Waiting                                                       \n"
     ]
    },
    {
     "data": {
      "application/vnd.jupyter.widget-view+json": {
       "model_id": "805608dc068e4d0fa6c4e27bde47b693",
       "version_major": 2,
       "version_minor": 0
      },
      "text/plain": [
       "Voltage sweep:   0%|          | 0/100 [00:00<?, ?it/s]"
      ]
     },
     "metadata": {},
     "output_type": "display_data"
    },
    {
     "name": "stdout",
     "output_type": "stream",
     "text": [
      "Saving as: CS610B-3_CV_0217221921_29kHz                            \n",
      "Measurement complete\n",
      "Data saved\n",
      "Waiting                                                       \n"
     ]
    },
    {
     "data": {
      "application/vnd.jupyter.widget-view+json": {
       "model_id": "15a71647242744a593ab93a9aedc667c",
       "version_major": 2,
       "version_minor": 0
      },
      "text/plain": [
       "Voltage sweep:   0%|          | 0/100 [00:00<?, ?it/s]"
      ]
     },
     "metadata": {},
     "output_type": "display_data"
    },
    {
     "name": "stdout",
     "output_type": "stream",
     "text": [
      "Saving as: CS610B-3_CV_0217221929_32kHz                            \n",
      "Measurement complete\n",
      "Data saved\n",
      "Waiting                                                         \n"
     ]
    },
    {
     "data": {
      "application/vnd.jupyter.widget-view+json": {
       "model_id": "77ee289b6e61402fafb77be89bdf0268",
       "version_major": 2,
       "version_minor": 0
      },
      "text/plain": [
       "Voltage sweep:   0%|          | 0/100 [00:00<?, ?it/s]"
      ]
     },
     "metadata": {},
     "output_type": "display_data"
    },
    {
     "name": "stdout",
     "output_type": "stream",
     "text": [
      "Saving as: CS610B-3_CV_0217221939_35kHz                            \n",
      "Measurement complete\n",
      "Data saved\n",
      "Waiting                                                        \n"
     ]
    },
    {
     "data": {
      "application/vnd.jupyter.widget-view+json": {
       "model_id": "6d055ec63b694651914ff7195a8d4711",
       "version_major": 2,
       "version_minor": 0
      },
      "text/plain": [
       "Voltage sweep:   0%|          | 0/100 [00:00<?, ?it/s]"
      ]
     },
     "metadata": {},
     "output_type": "display_data"
    },
    {
     "name": "stdout",
     "output_type": "stream",
     "text": [
      "Saving as: CS610B-3_CV_0217221949_39kHz                            \n",
      "Measurement complete\n",
      "Data saved\n",
      "Waiting                                                         \n"
     ]
    },
    {
     "data": {
      "application/vnd.jupyter.widget-view+json": {
       "model_id": "9be2852692974cf0bc4e97fa2d98821a",
       "version_major": 2,
       "version_minor": 0
      },
      "text/plain": [
       "Voltage sweep:   0%|          | 0/100 [00:00<?, ?it/s]"
      ]
     },
     "metadata": {},
     "output_type": "display_data"
    },
    {
     "name": "stdout",
     "output_type": "stream",
     "text": [
      "Saving as: CS610B-3_CV_0217221957_42kHz                            \n",
      "Measurement complete\n",
      "Data saved\n",
      "Waiting                                                       \n"
     ]
    },
    {
     "data": {
      "application/vnd.jupyter.widget-view+json": {
       "model_id": "06eb6f8d53b4490ba6206e2a7602ca47",
       "version_major": 2,
       "version_minor": 0
      },
      "text/plain": [
       "Voltage sweep:   0%|          | 0/100 [00:00<?, ?it/s]"
      ]
     },
     "metadata": {},
     "output_type": "display_data"
    },
    {
     "name": "stdout",
     "output_type": "stream",
     "text": [
      "Saving as: CS610B-3_CV_0217222006_46kHz                            \n",
      "Measurement complete\n",
      "Data saved\n",
      "Waiting                                                         \n"
     ]
    },
    {
     "data": {
      "application/vnd.jupyter.widget-view+json": {
       "model_id": "072b9a5e7e6543ab901a3456a82691cc",
       "version_major": 2,
       "version_minor": 0
      },
      "text/plain": [
       "Voltage sweep:   0%|          | 0/100 [00:00<?, ?it/s]"
      ]
     },
     "metadata": {},
     "output_type": "display_data"
    },
    {
     "name": "stdout",
     "output_type": "stream",
     "text": [
      "Saving as: CS610B-3_CV_0217222014_51kHz                            \n",
      "Measurement complete\n",
      "Data saved\n",
      "Waiting                                                         \n"
     ]
    },
    {
     "data": {
      "application/vnd.jupyter.widget-view+json": {
       "model_id": "4e0ffc2053a243ee89f107c8e81c477a",
       "version_major": 2,
       "version_minor": 0
      },
      "text/plain": [
       "Voltage sweep:   0%|          | 0/100 [00:00<?, ?it/s]"
      ]
     },
     "metadata": {},
     "output_type": "display_data"
    },
    {
     "name": "stdout",
     "output_type": "stream",
     "text": [
      "Saving as: CS610B-3_CV_0217222023_56kHz                            \n",
      "Measurement complete\n",
      "Data saved\n",
      "Waiting                                                       \n"
     ]
    },
    {
     "data": {
      "application/vnd.jupyter.widget-view+json": {
       "model_id": "2b93809a9ce74c00a1351c5cf84bf482",
       "version_major": 2,
       "version_minor": 0
      },
      "text/plain": [
       "Voltage sweep:   0%|          | 0/100 [00:00<?, ?it/s]"
      ]
     },
     "metadata": {},
     "output_type": "display_data"
    },
    {
     "name": "stdout",
     "output_type": "stream",
     "text": [
      "Saving as: CS610B-3_CV_0217222033_61kHz                            \n",
      "Measurement complete\n",
      "Data saved\n",
      "Waiting                                                        \n"
     ]
    },
    {
     "data": {
      "application/vnd.jupyter.widget-view+json": {
       "model_id": "0f134f8a03574aa09f8b63eeaa7c2c8d",
       "version_major": 2,
       "version_minor": 0
      },
      "text/plain": [
       "Voltage sweep:   0%|          | 0/100 [00:00<?, ?it/s]"
      ]
     },
     "metadata": {},
     "output_type": "display_data"
    },
    {
     "name": "stdout",
     "output_type": "stream",
     "text": [
      "Saving as: CS610B-3_CV_0217222041_67kHz                            \n",
      "Measurement complete\n",
      "Data saved\n",
      "Waiting                                                         \n"
     ]
    },
    {
     "data": {
      "application/vnd.jupyter.widget-view+json": {
       "model_id": "92d8b6a9a3aa4afa9199b3b23cd240a1",
       "version_major": 2,
       "version_minor": 0
      },
      "text/plain": [
       "Voltage sweep:   0%|          | 0/100 [00:00<?, ?it/s]"
      ]
     },
     "metadata": {},
     "output_type": "display_data"
    },
    {
     "name": "stdout",
     "output_type": "stream",
     "text": [
      "Saving as: CS610B-3_CV_0217222049_74kHz                            \n",
      "Measurement complete\n",
      "Data saved\n",
      "Waiting                                                         \n"
     ]
    },
    {
     "data": {
      "application/vnd.jupyter.widget-view+json": {
       "model_id": "850a9edca2d54c04bb39863de0102cb5",
       "version_major": 2,
       "version_minor": 0
      },
      "text/plain": [
       "Voltage sweep:   0%|          | 0/100 [00:00<?, ?it/s]"
      ]
     },
     "metadata": {},
     "output_type": "display_data"
    },
    {
     "name": "stdout",
     "output_type": "stream",
     "text": [
      "Saving as: CS610B-3_CV_0217222057_81kHz                            \n",
      "Measurement complete\n",
      "Data saved\n",
      "Waiting                                                       \n"
     ]
    },
    {
     "data": {
      "application/vnd.jupyter.widget-view+json": {
       "model_id": "bb6c8749152e4024ac1d33fc7e56704e",
       "version_major": 2,
       "version_minor": 0
      },
      "text/plain": [
       "Voltage sweep:   0%|          | 0/100 [00:00<?, ?it/s]"
      ]
     },
     "metadata": {},
     "output_type": "display_data"
    },
    {
     "name": "stdout",
     "output_type": "stream",
     "text": [
      "Saving as: CS610B-3_CV_0217222104_89kHz                            \n",
      "Measurement complete\n",
      "Data saved\n",
      "Waiting                                                       \n"
     ]
    },
    {
     "data": {
      "application/vnd.jupyter.widget-view+json": {
       "model_id": "c390d1f3275743f7b9fdd340a37024e0",
       "version_major": 2,
       "version_minor": 0
      },
      "text/plain": [
       "Voltage sweep:   0%|          | 0/100 [00:00<?, ?it/s]"
      ]
     },
     "metadata": {},
     "output_type": "display_data"
    },
    {
     "name": "stdout",
     "output_type": "stream",
     "text": [
      "Saving as: CS610B-3_CV_0217222111_98kHz                            \n",
      "Measurement complete\n",
      "Data saved\n",
      "Waiting                                                       \n"
     ]
    },
    {
     "data": {
      "application/vnd.jupyter.widget-view+json": {
       "model_id": "5be3af3f73564078aaaffa9da60cf528",
       "version_major": 2,
       "version_minor": 0
      },
      "text/plain": [
       "Voltage sweep:   0%|          | 0/100 [00:00<?, ?it/s]"
      ]
     },
     "metadata": {},
     "output_type": "display_data"
    },
    {
     "name": "stdout",
     "output_type": "stream",
     "text": [
      "Saving as: CS610B-3_CV_0217222117_107kHz                           \n",
      "Measurement complete\n",
      "Data saved\n",
      "Waiting                                                         \n"
     ]
    },
    {
     "data": {
      "application/vnd.jupyter.widget-view+json": {
       "model_id": "02a537cf7a5146fea5176902f74100c9",
       "version_major": 2,
       "version_minor": 0
      },
      "text/plain": [
       "Voltage sweep:   0%|          | 0/100 [00:00<?, ?it/s]"
      ]
     },
     "metadata": {},
     "output_type": "display_data"
    },
    {
     "name": "stdout",
     "output_type": "stream",
     "text": [
      "Saving as: CS610B-3_CV_0217222127_118kHz                           \n",
      "Measurement complete\n",
      "Data saved\n",
      "Waiting                                                         \n"
     ]
    },
    {
     "data": {
      "application/vnd.jupyter.widget-view+json": {
       "model_id": "ef133de43f984990af48a2d3adaedc05",
       "version_major": 2,
       "version_minor": 0
      },
      "text/plain": [
       "Voltage sweep:   0%|          | 0/100 [00:00<?, ?it/s]"
      ]
     },
     "metadata": {},
     "output_type": "display_data"
    },
    {
     "name": "stdout",
     "output_type": "stream",
     "text": [
      "Saving as: CS610B-3_CV_0217222136_129kHz                           \n",
      "Measurement complete\n",
      "Data saved\n",
      "Waiting                                                            \n"
     ]
    },
    {
     "data": {
      "application/vnd.jupyter.widget-view+json": {
       "model_id": "910c9540e124482b9e6381685be92acc",
       "version_major": 2,
       "version_minor": 0
      },
      "text/plain": [
       "Voltage sweep:   0%|          | 0/100 [00:00<?, ?it/s]"
      ]
     },
     "metadata": {},
     "output_type": "display_data"
    },
    {
     "name": "stdout",
     "output_type": "stream",
     "text": [
      "Saving as: CS610B-3_CV_0217222145_142kHz                           \n",
      "Measurement complete\n",
      "Data saved\n",
      "Waiting                                                       \n"
     ]
    },
    {
     "data": {
      "application/vnd.jupyter.widget-view+json": {
       "model_id": "0f22f79ec7fb4e2290d47df23fb6ea42",
       "version_major": 2,
       "version_minor": 0
      },
      "text/plain": [
       "Voltage sweep:   0%|          | 0/100 [00:00<?, ?it/s]"
      ]
     },
     "metadata": {},
     "output_type": "display_data"
    },
    {
     "name": "stdout",
     "output_type": "stream",
     "text": [
      "Saving as: CS610B-3_CV_0217222153_156kHz                           \n",
      "Measurement complete\n",
      "Data saved\n",
      "Waiting                                                       \n"
     ]
    },
    {
     "data": {
      "application/vnd.jupyter.widget-view+json": {
       "model_id": "4b2633a545f04f53ada760907e71675e",
       "version_major": 2,
       "version_minor": 0
      },
      "text/plain": [
       "Voltage sweep:   0%|          | 0/100 [00:00<?, ?it/s]"
      ]
     },
     "metadata": {},
     "output_type": "display_data"
    },
    {
     "name": "stdout",
     "output_type": "stream",
     "text": [
      "Saving as: CS610B-3_CV_0217222200_171kHz                           \n",
      "Measurement complete\n",
      "Data saved\n",
      "Waiting                                                       \n"
     ]
    },
    {
     "data": {
      "application/vnd.jupyter.widget-view+json": {
       "model_id": "7b140b9a4e6c43f9a7fd6b408cbdfb70",
       "version_major": 2,
       "version_minor": 0
      },
      "text/plain": [
       "Voltage sweep:   0%|          | 0/100 [00:00<?, ?it/s]"
      ]
     },
     "metadata": {},
     "output_type": "display_data"
    },
    {
     "name": "stdout",
     "output_type": "stream",
     "text": [
      "Saving as: CS610B-3_CV_0217222207_187kHz                           \n",
      "Measurement complete\n",
      "Data saved\n",
      "Waiting                                                       \n"
     ]
    },
    {
     "data": {
      "application/vnd.jupyter.widget-view+json": {
       "model_id": "4420d6384c3144ba84a9b5c192c4e11c",
       "version_major": 2,
       "version_minor": 0
      },
      "text/plain": [
       "Voltage sweep:   0%|          | 0/100 [00:00<?, ?it/s]"
      ]
     },
     "metadata": {},
     "output_type": "display_data"
    },
    {
     "name": "stdout",
     "output_type": "stream",
     "text": [
      "Saving as: CS610B-3_CV_0217222214_206kHz                           \n",
      "Measurement complete\n",
      "Data saved\n",
      "Waiting                                                       \n"
     ]
    },
    {
     "data": {
      "application/vnd.jupyter.widget-view+json": {
       "model_id": "b5a7a6250fdc465f869882bc6868745a",
       "version_major": 2,
       "version_minor": 0
      },
      "text/plain": [
       "Voltage sweep:   0%|          | 0/100 [00:00<?, ?it/s]"
      ]
     },
     "metadata": {},
     "output_type": "display_data"
    },
    {
     "name": "stdout",
     "output_type": "stream",
     "text": [
      "Saving as: CS610B-3_CV_0217222224_226kHz                           \n",
      "Measurement complete\n",
      "Data saved\n",
      "Waiting                                                       \n"
     ]
    },
    {
     "data": {
      "application/vnd.jupyter.widget-view+json": {
       "model_id": "d8926f51875e4e088ea7a753cd1ff345",
       "version_major": 2,
       "version_minor": 0
      },
      "text/plain": [
       "Voltage sweep:   0%|          | 0/100 [00:00<?, ?it/s]"
      ]
     },
     "metadata": {},
     "output_type": "display_data"
    },
    {
     "name": "stdout",
     "output_type": "stream",
     "text": [
      "Saving as: CS610B-3_CV_0217222234_248kHz                           \n",
      "Measurement complete\n",
      "Data saved\n",
      "Waiting                                                       \n"
     ]
    },
    {
     "data": {
      "application/vnd.jupyter.widget-view+json": {
       "model_id": "fea947b5dfc1437e833556701d92a420",
       "version_major": 2,
       "version_minor": 0
      },
      "text/plain": [
       "Voltage sweep:   0%|          | 0/100 [00:00<?, ?it/s]"
      ]
     },
     "metadata": {},
     "output_type": "display_data"
    },
    {
     "name": "stdout",
     "output_type": "stream",
     "text": [
      "Saving as: CS610B-3_CV_0217222243_272kHz                           \n",
      "Measurement complete\n",
      "Data saved\n",
      "Waiting                                                         \n"
     ]
    },
    {
     "data": {
      "application/vnd.jupyter.widget-view+json": {
       "model_id": "2178ebcea50243609ec9e26621b21912",
       "version_major": 2,
       "version_minor": 0
      },
      "text/plain": [
       "Voltage sweep:   0%|          | 0/100 [00:00<?, ?it/s]"
      ]
     },
     "metadata": {},
     "output_type": "display_data"
    },
    {
     "name": "stdout",
     "output_type": "stream",
     "text": [
      "Saving as: CS610B-3_CV_0217222250_298kHz                           \n",
      "Measurement complete\n",
      "Data saved\n",
      "Waiting                                                         \n"
     ]
    },
    {
     "data": {
      "application/vnd.jupyter.widget-view+json": {
       "model_id": "d7ee73eae5c24ba49ce719827c43771e",
       "version_major": 2,
       "version_minor": 0
      },
      "text/plain": [
       "Voltage sweep:   0%|          | 0/100 [00:00<?, ?it/s]"
      ]
     },
     "metadata": {},
     "output_type": "display_data"
    },
    {
     "name": "stdout",
     "output_type": "stream",
     "text": [
      "Saving as: CS610B-3_CV_0217222256_327kHz                           \n",
      "Measurement complete\n",
      "Data saved\n",
      "Waiting                                                       \n"
     ]
    },
    {
     "data": {
      "application/vnd.jupyter.widget-view+json": {
       "model_id": "d450cc194fc64682bde17679268d29fa",
       "version_major": 2,
       "version_minor": 0
      },
      "text/plain": [
       "Voltage sweep:   0%|          | 0/100 [00:00<?, ?it/s]"
      ]
     },
     "metadata": {},
     "output_type": "display_data"
    },
    {
     "name": "stdout",
     "output_type": "stream",
     "text": [
      "Saving as: CS610B-3_CV_0217222304_359kHz                          \n",
      "Measurement complete\n",
      "Data saved\n",
      "Waiting                                                      \n"
     ]
    },
    {
     "data": {
      "application/vnd.jupyter.widget-view+json": {
       "model_id": "0f75d5c9fbf14a4db50a84a731ac9b05",
       "version_major": 2,
       "version_minor": 0
      },
      "text/plain": [
       "Voltage sweep:   0%|          | 0/100 [00:00<?, ?it/s]"
      ]
     },
     "metadata": {},
     "output_type": "display_data"
    },
    {
     "name": "stdout",
     "output_type": "stream",
     "text": [
      "Saving as: CS610B-3_CV_0217222312_394kHz                           \n",
      "Measurement complete\n",
      "Data saved\n",
      "Waiting                                                         \n"
     ]
    },
    {
     "data": {
      "application/vnd.jupyter.widget-view+json": {
       "model_id": "78e7a6ec36774911ab88e8ab5bb49c1b",
       "version_major": 2,
       "version_minor": 0
      },
      "text/plain": [
       "Voltage sweep:   0%|          | 0/100 [00:00<?, ?it/s]"
      ]
     },
     "metadata": {},
     "output_type": "display_data"
    },
    {
     "name": "stdout",
     "output_type": "stream",
     "text": [
      "Saving as: CS610B-3_CV_0217222319_433kHz                           \n",
      "Measurement complete\n",
      "Data saved\n",
      "Waiting                                                       \n"
     ]
    },
    {
     "data": {
      "application/vnd.jupyter.widget-view+json": {
       "model_id": "6b387f105c3949489fc2d4ed71c6e367",
       "version_major": 2,
       "version_minor": 0
      },
      "text/plain": [
       "Voltage sweep:   0%|          | 0/100 [00:00<?, ?it/s]"
      ]
     },
     "metadata": {},
     "output_type": "display_data"
    },
    {
     "name": "stdout",
     "output_type": "stream",
     "text": [
      "Saving as: CS610B-3_CV_0217222326_475kHz                           \n",
      "Measurement complete\n",
      "Data saved\n",
      "Waiting                                                        \n"
     ]
    },
    {
     "data": {
      "application/vnd.jupyter.widget-view+json": {
       "model_id": "9407ee318cb14356b15a3fd4018c440a",
       "version_major": 2,
       "version_minor": 0
      },
      "text/plain": [
       "Voltage sweep:   0%|          | 0/100 [00:00<?, ?it/s]"
      ]
     },
     "metadata": {},
     "output_type": "display_data"
    },
    {
     "name": "stdout",
     "output_type": "stream",
     "text": [
      "Saving as: CS610B-3_CV_0217222332_521kHz                           \n",
      "Measurement complete\n",
      "Data saved\n",
      "Waiting                                                       \n"
     ]
    },
    {
     "data": {
      "application/vnd.jupyter.widget-view+json": {
       "model_id": "054fc76f98eb44609c82b10722da9e8d",
       "version_major": 2,
       "version_minor": 0
      },
      "text/plain": [
       "Voltage sweep:   0%|          | 0/100 [00:00<?, ?it/s]"
      ]
     },
     "metadata": {},
     "output_type": "display_data"
    },
    {
     "name": "stdout",
     "output_type": "stream",
     "text": [
      "Saving as: CS610B-3_CV_0217222340_572kHz                           \n",
      "Measurement complete\n",
      "Data saved\n",
      "Waiting                                                       \n"
     ]
    },
    {
     "data": {
      "application/vnd.jupyter.widget-view+json": {
       "model_id": "04613bce2f384bb7b1966b8b61661acb",
       "version_major": 2,
       "version_minor": 0
      },
      "text/plain": [
       "Voltage sweep:   0%|          | 0/100 [00:00<?, ?it/s]"
      ]
     },
     "metadata": {},
     "output_type": "display_data"
    },
    {
     "name": "stdout",
     "output_type": "stream",
     "text": [
      "Saving as: CS610B-3_CV_0217222347_628kHz                           \n",
      "Measurement complete\n",
      "Data saved\n",
      "Waiting                                                       \n"
     ]
    },
    {
     "data": {
      "application/vnd.jupyter.widget-view+json": {
       "model_id": "849328132b92448992f9e6d30ccd72e6",
       "version_major": 2,
       "version_minor": 0
      },
      "text/plain": [
       "Voltage sweep:   0%|          | 0/100 [00:00<?, ?it/s]"
      ]
     },
     "metadata": {},
     "output_type": "display_data"
    },
    {
     "name": "stdout",
     "output_type": "stream",
     "text": [
      "Saving as: CS610B-3_CV_0217222354_689kHz                           \n",
      "Measurement complete\n",
      "Data saved\n",
      "Waiting                                                         \n"
     ]
    },
    {
     "data": {
      "application/vnd.jupyter.widget-view+json": {
       "model_id": "42f0f49dd0a04aa1bbb67af93a197596",
       "version_major": 2,
       "version_minor": 0
      },
      "text/plain": [
       "Voltage sweep:   0%|          | 0/100 [00:00<?, ?it/s]"
      ]
     },
     "metadata": {},
     "output_type": "display_data"
    },
    {
     "name": "stdout",
     "output_type": "stream",
     "text": [
      "Saving as: CS610B-3_CV_0218220001_756kHz                           \n",
      "Measurement complete\n",
      "Data saved\n",
      "Waiting                                                      \n"
     ]
    },
    {
     "data": {
      "application/vnd.jupyter.widget-view+json": {
       "model_id": "221868c82e6444ea966f0844be1dee7d",
       "version_major": 2,
       "version_minor": 0
      },
      "text/plain": [
       "Voltage sweep:   0%|          | 0/100 [00:00<?, ?it/s]"
      ]
     },
     "metadata": {},
     "output_type": "display_data"
    },
    {
     "name": "stdout",
     "output_type": "stream",
     "text": [
      "Saving as: CS610B-3_CV_0218220007_830kHz                           \n",
      "Measurement complete\n",
      "Data saved\n",
      "Waiting                                                       \n"
     ]
    },
    {
     "data": {
      "application/vnd.jupyter.widget-view+json": {
       "model_id": "62b38385383348f0aa7282e7e28659ca",
       "version_major": 2,
       "version_minor": 0
      },
      "text/plain": [
       "Voltage sweep:   0%|          | 0/100 [00:00<?, ?it/s]"
      ]
     },
     "metadata": {},
     "output_type": "display_data"
    },
    {
     "name": "stdout",
     "output_type": "stream",
     "text": [
      "Saving as: CS610B-3_CV_0218220012_911kHz                           \n",
      "Measurement complete\n",
      "Data saved\n",
      "Waiting                                                       \n"
     ]
    },
    {
     "data": {
      "application/vnd.jupyter.widget-view+json": {
       "model_id": "1f120eee90db419fb8ec66fc73130df3",
       "version_major": 2,
       "version_minor": 0
      },
      "text/plain": [
       "Voltage sweep:   0%|          | 0/100 [00:00<?, ?it/s]"
      ]
     },
     "metadata": {},
     "output_type": "display_data"
    },
    {
     "name": "stdout",
     "output_type": "stream",
     "text": [
      "Saving as: CS610B-3_CV_0218220018_1000kHz                          \n",
      "Measurement complete\n",
      "Data saved\n"
     ]
    },
    {
     "data": {
      "image/png": "[encoded data removed]",
      "text/plain": [
       "<Figure size 432x288 with 1 Axes>"
      ]
     },
     "metadata": {
      "needs_background": "light"
     },
     "output_type": "display_data"
    }
   ],
   "source": [
    "os.chdir('/home/pi/Desktop/CV')\n",
    "foldname = datetime.today().strftime('%m-%d-%Y')\n",
    "now = datetime.now()\n",
    "currtime = now.strftime(\"%m%d%y%H%M\")\n",
    "month_format=datetime.today().strftime('%m-%Y')\n",
    "currtime_format = now.strftime(\"%m/%d/%y %H:%M\")\n",
    "\n",
    "if os.path.isdir(month_format) is False:\n",
    "    os.mkdir(month_format)\n",
    "    os.chdir(month_format)\n",
    "else:\n",
    "    os.chdir(month_format)   \n",
    "\n",
    "if os.path.isdir(foldname) is False:\n",
    "    os.mkdir(foldname)\n",
    "\n",
    "os.chdir(foldname)\n",
    "\n",
    "CVFfoldname = ''.join(['CVF_',currtime])\n",
    "if os.path.isdir(CVFfoldname) is False:\n",
    "    os.mkdir(CVFfoldname)\n",
    "os.chdir(CVFfoldname)\n",
    "\n",
    "try:\n",
    "    DMM.query('*IDN?')\n",
    "except:\n",
    "    rm = pyvisa.ResourceManager()\n",
    "    DMMdev = finddev(idVendor=0x05e6, idProduct=0x2100) #Device ID for DMM\n",
    "    DMMdev.reset() \n",
    "    DMM = rm.open_resource('USB0::1510::8448::1182494::0::INSTR')\n",
    "    LCR = rm.open_resource('GPIB0::17::INSTR')\n",
    "    SMU = rm.open_resource('GPIB0::24::INSTR')\n",
    "  \n",
    "    CVCommands.LCR = LCR\n",
    "    CVCommands.SMU = SMU\n",
    "    CVCommands.DMM = DMM\n",
    "    CVCommands.SMU_configure()\n",
    "    CVCommands.playstair()\n",
    "    CVCommands.playon()\n",
    "\n",
    "CVCommands.fastScan = fastScan\n",
    "CVCommands.sampName = sampName\n",
    "CVCommands.LCR_configure()\n",
    "CVCommands.LCR_CGD()\n",
    "\n",
    "error = False\n",
    "\n",
    "time.sleep(1)\n",
    "################################################\n",
    "\n",
    "if fastScan == True:\n",
    "    if path.exists(''.join(['/home/pi/Desktop/VoltageFits/','Vfitdata_',sampName])):\n",
    "        CVCommands.fit_df = pd.read_csv(''.join(['/home/pi/Desktop/VoltageFits/','Vfitdata_',sampName]),sep='\\t')\n",
    "    else:\n",
    "        CVCommands.voltFit(V_fitmin,V_fitmax,fitby)\n",
    "        CVCommands.fit_df = pd.read_csv(''.join(['/home/pi/Desktop/VoltageFits/','Vfitdata_',sampName]),sep='\\t') \n",
    "\n",
    "\n",
    "#Sets LCR oscilation voltage\n",
    "CVCommands.set_oscVolt(amp)\n",
    "\n",
    "try:\n",
    "    start_time = time.time()\n",
    "    for k in tqdm(np.logspace(Freq_i,Freq_f,Freq_step),desc='Frequency sweep'):\n",
    "        freq = k\n",
    "\n",
    "        CVCommands.setFreq(freq)\n",
    "\n",
    "        now = datetime.now()\n",
    "        currtime = now.strftime(\"%m%d%y%H%M\")\n",
    "\n",
    "        V_arr = []\n",
    "        c_arr = []\n",
    "        f_arr = []\n",
    "        g_arr = []\n",
    "        d_arr = []\n",
    "        time_arr = []\n",
    "        if holdbias is True:\n",
    "\n",
    "            CVCommands.setBias(hold_val,True,fastScan)\n",
    "\n",
    "            print('Prebiasing device for '+str(holdval)+' seconds')\n",
    "            time.sleep(hold_time)        \n",
    "        \n",
    "        if takeJV == True:\n",
    "            JVfunctions.JVscan(sampName, A, V_jvi, V_jvf, jv_avg, jv_pts, plc, bufdelay, prebias, biasV, biastime, pulse, pulsedelay)\n",
    "            CVCommands.SMU_configure()\n",
    "            \n",
    "        for i in tqdm(np.linspace(V_i,V_f,V_step),desc=''.join(['Voltage sweep'])):\n",
    "\n",
    "            CVCommands.setBias(i,True,fastScan)\n",
    "            if soak == True:\n",
    "                time.sleep(soak_time)\n",
    "            c, g, d = CVCommands.getData()\n",
    "\n",
    "            V_arr.append(float(DMM.query(':READ?')))\n",
    "            f_arr.append(freq)\n",
    "            c_arr.append(c)\n",
    "            g_arr.append(g)\n",
    "            d_arr.append(d)\n",
    "            \n",
    "            end_time = time.time()\n",
    "            time_tot = end_time-start_time\n",
    "            time_arr.append(time_tot)\n",
    "            if pulseScan == True:\n",
    "                CVCommands.setBias(0,True,fastScan)\n",
    "                DMM.query(':READ?')\n",
    "                time.sleep(pulse_time)\n",
    "\n",
    "        \n",
    "        tempdict = {\n",
    "            'DC Bias (V)' : V_arr,\n",
    "            'Capacitance (F)' : c_arr,\n",
    "            'Conductance (S)' : g_arr,\n",
    "            'Dissipation (D)' : d_arr,\n",
    "            'Frequency (Hz)' : f_arr,\n",
    "            'Scan time (s)' : time_arr\n",
    "\n",
    "        }\n",
    "\n",
    "\n",
    "\n",
    "        info_labels = ['Sample Name: ','Cell Number: ','V start: ','V final: ','V steps: ','Freq start: ','Freq final: ','Freq steps: ','AC amp: ','Start time: ']\n",
    "        info_data = [sampName,cellNum,V_i,V_f,V_step,10**Freq_i,10**Freq_f,Freq_step,amp,currtime_format]\n",
    "\n",
    "        dictlen = len(tempdict[list(tempdict.keys())[0]])\n",
    "        infolen = len(info_data)\n",
    "\n",
    "        if dictlen >= infolen:\n",
    "            info_labels = info_labels+[np.nan]*(dictlen-infolen)\n",
    "            info_data = info_data+[np.nan]*(dictlen-infolen)\n",
    "        else:\n",
    "            for i in tempdict:\n",
    "                tempdict[i] = tempdict[i]+[np.nan]*(infolen-dictlen)\n",
    "\n",
    "        tempdict['Info1'] = info_labels\n",
    "        tempdict['Info2'] = info_data\n",
    "        \n",
    "        print('Saving as: '+''.join([sampName,'_CV','_',currtime,'_',\"{:.0f}\".format(freq/1000),'kHz']))\n",
    "        globals()[''.join([sampName,'_CV','_',currtime,'_',\"{:.0f}\".format(freq/1000),'kHz'])] = pd.DataFrame(tempdict)\n",
    "        globals()[''.join([sampName,'_CV','_',currtime,'_',\"{:.0f}\".format(freq/1000),'kHz'])].to_csv(''.join([sampName,'_CV','_',currtime,'_',\"{:.0f}\".format(freq/1000),'kHz']),sep='\\t')\n",
    "\n",
    "        CVCommands.offBias()\n",
    "\n",
    "\n",
    "        print('Measurement complete')\n",
    "        print('Data saved')\n",
    "\n",
    "        plt.plot(globals()[''.join([sampName,'_CV','_',currtime,'_',\"{:.0f}\".format(freq/1000),'kHz'])]['DC Bias (V)']\n",
    "                 ,globals()[''.join([sampName,'_CV','_',currtime,'_',\"{:.0f}\".format(freq/1000),'kHz'])]['Capacitance (F)'])\n",
    "        #clear_output(wait=True)\n",
    "except KeyboardInterrupt as e:\n",
    "    CVCommands.offBias()\n",
    "    error = True\n",
    "    print(e)\n",
    "    print('Interrupt')\n",
    "LCR.write(':TRIG INT')  \n",
    "if error == False:\n",
    "    time.sleep(0.5)\n",
    "    CVCommands.playchest()\n",
    "else:\n",
    "    CVCommands.playrand(10,0.05)"
   ]
  },
  {
   "cell_type": "code",
   "execution_count": null,
   "id": "d07c8bec",
   "metadata": {},
   "outputs": [],
   "source": []
  },
  {
   "cell_type": "code",
   "execution_count": null,
   "id": "d69f0b24-1fbd-4a78-889b-b72bd9de1e03",
   "metadata": {},
   "outputs": [],
   "source": []
  },
  {
   "cell_type": "code",
   "execution_count": null,
   "id": "a0e47a6e-d980-4322-bb4a-d9f1e6c34156",
   "metadata": {},
   "outputs": [],
   "source": []
  }
 ],
 "metadata": {
  "kernelspec": {
   "display_name": "Python 3 (ipykernel)",
   "language": "python",
   "name": "python3"
  },
  "language_info": {
   "codemirror_mode": {
    "name": "ipython",
    "version": 3
   },
   "file_extension": ".py",
   "mimetype": "text/x-python",
   "name": "python",
   "nbconvert_exporter": "python",
   "pygments_lexer": "ipython3",
   "version": "3.7.3"
  }
 },
 "nbformat": 4,
 "nbformat_minor": 5
}
