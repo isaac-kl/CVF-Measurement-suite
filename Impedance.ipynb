{
 "cells": [
  {
   "cell_type": "code",
   "execution_count": 11,
   "id": "ce6bb8d3",
   "metadata": {},
   "outputs": [],
   "source": [
    "import pyvisa\n",
    "import numpy as np\n",
    "import time\n",
    "import pandas as pd\n",
    "import os\n",
    "import math\n",
    "import CVCommands\n",
    "from pyvisa import ResourceManager, constants\n",
    "from scipy.optimize import curve_fit, minimize, leastsq\n",
    "from datetime import datetime\n",
    "from simple_pid import PID\n",
    "from tqdm import tqdm, trange\n",
    "from matplotlib import pyplot as plt\n",
    "from usb.core import find as finddev"
   ]
  },
  {
   "cell_type": "code",
   "execution_count": 12,
   "id": "dc5c5c55",
   "metadata": {},
   "outputs": [],
   "source": [
    "sampName = 'CS519C_001'\n",
    "\n",
    "Vbias=.945\n",
    "\n",
    "freq_i = 1 #Initial freq order of magnitude (Hz)\n",
    "freq_f = 6 #Final freq order of magnitude (Hz)\n",
    "freq_step = 100 #Number of steps\n",
    "\n",
    "\n",
    "num_avg = 5 #Number of measurements to average\n",
    "\n",
    "delay = .1 #Delay between changing to new value\n",
    "\n",
    "amp=0.05\n",
    "holdbias = True #Toggle to hold device at bias before measurement\n",
    "hold_val = Vbias #Voltage to hold at in V\n",
    "hold_time = 60 #Time to hold voltage in s\n",
    "\n",
    "ϵ = 25 #relative permitivity\n",
    "ϵo=8.85e-12 #permitivity of free space (m-3 kg-1 s4 A2)\n",
    "q=1.602e-19 #elementary charge (A.s)\n",
    "A = 0.17*1e-4 #cell area (m)\n",
    "\n",
    "####################################################\n",
    "\n",
    "#PID tuning parameters for V setpoint\n",
    "Ku = 1.3\n",
    "Tu = 1\n",
    "CVCommands.P = 0.45*Ku    #3.06\n",
    "CVCommands.I = 0.54*Ku/Tu    #2.8\n",
    "CVCommands.D = 0.0\n",
    "\n",
    "CVCommands.offset = 0.005 #Acceptable tolerance for voltage setpoint in V\n",
    "\n",
    "CVCommands.reset_i = 0 #Subtract this value from voltage setpoint to improve PID speed\n",
    "CVCommands.reset = 5 #Subtract value from setpoint after reset trigger\n",
    "\n",
    "CVCommands.reset_val = 1000 #Trigger voltage setpoint reset after iterations\n",
    "CVCommands.shutoff_val = 1000 #Max iterations before shutdown\n",
    "CVCommands.num_avg = num_avg\n",
    "CVCommands.mvavg_num = 20 #Number of points to calculate voltage setpoint moving average\n",
    "\n",
    "CVCommands.v_ceiling = 35 #Max allowable voltage sent to SMU, maximum value 35\n",
    "\n",
    "CVCommands.trig_delay = 0.1\n",
    "CVCommands.meas_speed = 'SLOW2' #FAST, MED, SLOW, SLOW2\n",
    "CVCommands.lowz = 'ON'\n",
    "\n",
    "CVCommands.LCR_timeout = 600*1000 #Timeout in ms for LCR query\n",
    "\n"
   ]
  },
  {
   "cell_type": "code",
   "execution_count": 13,
   "id": "5b7fe128",
   "metadata": {},
   "outputs": [
    {
     "name": "stdout",
     "output_type": "stream",
     "text": [
      "DC Bias set to 0.945V                                            \n",
      "\n",
      "Waiting\n"
     ]
    },
    {
     "name": "stderr",
     "output_type": "stream",
     "text": [
      "  0%|          | 0/100 [00:00<?, ?it/s]"
     ]
    },
    {
     "name": "stdout",
     "output_type": "stream",
     "text": [
      "AC Voltage set to 0.05V                        \r"
     ]
    },
    {
     "name": "stderr",
     "output_type": "stream",
     "text": [
      "100%|██████████| 100/100 [08:15<00:00,  4.96s/it]\n"
     ]
    },
    {
     "name": "stdout",
     "output_type": "stream",
     "text": [
      "Saving as: CS519C_001_impedance_1011211712_1V\n"
     ]
    },
    {
     "data": {
      "image/png": "[encoded data removed]",
      "text/plain": [
       "<Figure size 432x288 with 1 Axes>"
      ]
     },
     "metadata": {
      "needs_background": "light"
     },
     "output_type": "display_data"
    }
   ],
   "source": [
    "os.chdir('/home/pi/Desktop/Impedance')\n",
    "foldname = datetime.today().strftime('%m-%d-%Y')\n",
    "now = datetime.now()\n",
    "currtime = now.strftime(\"%m%d%y%H%M\")\n",
    "currtime_format = now.strftime(\"%m/%d/%y %H:%M\")\n",
    "\n",
    "if os.path.isdir(foldname) is False:\n",
    "    os.mkdir(foldname)\n",
    "\n",
    "os.chdir(foldname)\n",
    "\n",
    "try:\n",
    "    DMM.query('*IDN?')\n",
    "except:\n",
    "    rm = pyvisa.ResourceManager()\n",
    "    rm.list_resources()\n",
    "    DMMdev = finddev(idVendor=0x05e6, idProduct=0x2100) #Device ID for DMM\n",
    "    DMMdev.reset() \n",
    "    DMM = rm.open_resource('USB0::1510::8448::1182494::0::INSTR')\n",
    "    LCR = rm.open_resource('GPIB0::17::INSTR')\n",
    "    SMU = rm.open_resource('GPIB0::24::INSTR')\n",
    "  \n",
    "    CVCommands.LCR = LCR\n",
    "    CVCommands.SMU = SMU\n",
    "    CVCommands.DMM = DMM\n",
    "    CVCommands.SMU_configure()\n",
    "    CVCommands.playstair()\n",
    "    CVCommands.playon()\n",
    "\n",
    "error = False\n",
    "\n",
    "CVCommands.sampName = sampName\n",
    "CVCommands.LCR_configure()\n",
    "CVCommands.LCR_ZTD()\n",
    "\n",
    "#Function to collect LCR output (num = number of points to average over, delay = delay between measurements in s)\n",
    "\n",
    "#Collect measurement (iAmpl = initial AC amplitude in V, fAmpl = final AC amplitude in V\n",
    "#step_ampl = number of AC amplitude steps, num_avg = number of measurements to average over\n",
    "#avg_delay = delay between measurements in s, delay = delay between changing conditions in s,\n",
    "#measbias = the setpoint DC bias)\n",
    "\n",
    "\n",
    "######################################################\n",
    "\n",
    "if holdbias is True:\n",
    "\n",
    "    CVCommands.setBias(hold_val,True,False)\n",
    "\n",
    "    print('Waiting')\n",
    "    time.sleep(hold_time)\n",
    "\n",
    "CVCommands.set_oscVolt(amp)\n",
    "\n",
    "#This is the actual scan\n",
    "#setBias(Vbias,True)\n",
    "\n",
    "Z_arr = []\n",
    "θ_arr = []\n",
    "D_arr = []\n",
    "F_arr = []\n",
    "\n",
    "for i in tqdm(np.logspace(freq_i,freq_f,freq_step)):\n",
    "    CVCommands.setFreq(i)\n",
    "    \n",
    "    Z_temp, θ_temp, D_temp= CVCommands.getData()\n",
    "    \n",
    "    Z_arr.append(Z_temp)\n",
    "    θ_arr.append(θ_temp)\n",
    "    D_arr.append(D_temp)\n",
    "    F_arr.append(float(LCR.query(':FREQ?')))\n",
    "\n",
    "\n",
    "        \n",
    "CVCommands.offBias()\n",
    "LCR.write(':TRIG INT')\n",
    "x = [Z_arr[i]*np.cos(math.pi/180*θ_arr[i]) for i in range(len(Z_arr))]\n",
    "y = [-Z_arr[i]*np.sin(math.pi/180*θ_arr[i]) for i in range(len(Z_arr))]\n",
    "for i in range(len(x)):\n",
    "    if math.isnan(x[i]):\n",
    "        F_arr[i] = np.nan\n",
    "\n",
    "tempdict = {\n",
    "    'Zre' : x,\n",
    "    '-Zim' : y,\n",
    "    'D' : D_arr,\n",
    "    'Frequency (F)' : F_arr\n",
    "}\n",
    "\n",
    "info_labels = ['Sample Name: ','V bias: ','Freq start: ','Freq final: ','Freq steps: ','Time: ']\n",
    "info_data = [sampName,Vbias,freq_i,freq_f,freq_step,currtime_format]\n",
    "\n",
    "dictlen = len(tempdict[list(tempdict.keys())[0]])\n",
    "infolen = len(info_data)\n",
    "\n",
    "if dictlen >= infolen:\n",
    "    info_labels = info_labels+[np.nan]*(dictlen-infolen)\n",
    "    info_data = info_data+[np.nan]*(dictlen-infolen)\n",
    "else:\n",
    "    for i in tempdict:\n",
    "        tempdict[i] = tempdict[i]+[np.nan]*(infolen-dictlen)\n",
    "\n",
    "tempdict['Info1'] = info_labels\n",
    "tempdict['Info2'] = info_data\n",
    "        \n",
    "print('Saving as: '+''.join([sampName,'_impedance','_',currtime,'_',\"{:.0f}\".format(Vbias),'V']))\n",
    "globals()[''.join([sampName,'_impedance','_',currtime,'_',\"{:.0f}\".format(Vbias),'V'])] = pd.DataFrame(tempdict)\n",
    "globals()[''.join([sampName,'_impedance','_',currtime,'_',\"{:.0f}\".format(Vbias),'V'])].to_csv(''.join([sampName,'_CV','_',currtime,'_',\"{:.0f}\".format(Vbias),'V']),sep='\\t')\n",
    "\n",
    "\n",
    "plt.scatter(x,y,c=np.log10(F_arr),cmap='gist_rainbow')\n",
    "#plt.yscale('log')\n",
    "\n",
    "if error == False:\n",
    "    time.sleep(0.5)\n",
    "    CVCommands.playchest()\n",
    "else:\n",
    "    CVCommands.playrand(10,0.05)"
   ]
  },
  {
   "cell_type": "code",
   "execution_count": 5,
   "id": "55f37c78",
   "metadata": {},
   "outputs": [
    {
     "data": {
      "text/plain": [
       "<matplotlib.collections.PathCollection at 0xaa01ff30>"
      ]
     },
     "execution_count": 5,
     "metadata": {},
     "output_type": "execute_result"
    },
    {
     "data": {
      "image/png": "[encoded data removed]",
      "text/plain": [
       "<Figure size 432x288 with 1 Axes>"
      ]
     },
     "metadata": {
      "needs_background": "light"
     },
     "output_type": "display_data"
    }
   ],
   "source": [
    "plt.scatter(x,y,c=np.log10(F_arr),cmap='gist_rainbow')"
   ]
  },
  {
   "cell_type": "code",
   "execution_count": 20,
   "id": "2f12dcad",
   "metadata": {},
   "outputs": [
    {
     "name": "stdout",
     "output_type": "stream",
     "text": [
      "Saving as: CS506A_004_impedance_0916211556_1V\n"
     ]
    },
    {
     "data": {
      "text/plain": [
       "<matplotlib.collections.PathCollection at 0xa9e73e10>"
      ]
     },
     "execution_count": 20,
     "metadata": {},
     "output_type": "execute_result"
    },
    {
     "data": {
      "image/png": "[encoded data removed]",
      "text/plain": [
       "<Figure size 432x288 with 1 Axes>"
      ]
     },
     "metadata": {
      "needs_background": "light"
     },
     "output_type": "display_data"
    }
   ],
   "source": [
    "info_labels = ['Sample Name: ','V bias: ','Freq start: ','Freq final: ','Freq steps: ','Time: ']\n",
    "info_data = [sampName,Vbias,freq_i,freq_f,freq_step,currtime_format]\n",
    "\n",
    "dictlen = len(tempdict[list(tempdict.keys())[0]])\n",
    "infolen = len(info_data)\n",
    "\n",
    "if dictlen >= infolen:\n",
    "    info_labels = info_labels+[np.nan]*(dictlen-infolen)\n",
    "    info_data = info_data+[np.nan]*(dictlen-infolen)\n",
    "else:\n",
    "    for i in tempdict:\n",
    "        tempdict[i] = tempdict[i]+[np.nan]*(infolen-dictlen)\n",
    "\n",
    "tempdict['Info1'] = info_labels\n",
    "tempdict['Info2'] = info_data\n",
    "        \n",
    "print('Saving as: '+''.join([sampName,'_impedance','_',currtime,'_',\"{:.0f}\".format(Vbias),'V']))\n",
    "globals()[''.join([sampName,'_impedance','_',currtime,'_',\"{:.0f}\".format(Vbias),'V'])] = pd.DataFrame(tempdict)\n",
    "globals()[''.join([sampName,'_impedance','_',currtime,'_',\"{:.0f}\".format(Vbias),'V'])].to_csv(''.join([sampName,'_CV','_',currtime,'_',\"{:.0f}\".format(Vbias),'V']),sep='\\t')\n",
    "\n",
    "        \n",
    "plt.scatter(x,y,c=F_arr,cmap='gist_rainbow')"
   ]
  },
  {
   "cell_type": "code",
   "execution_count": null,
   "id": "5ab9d815",
   "metadata": {},
   "outputs": [],
   "source": []
  }
 ],
 "metadata": {
  "kernelspec": {
   "display_name": "Python 3",
   "language": "python",
   "name": "python3"
  },
  "language_info": {
   "codemirror_mode": {
    "name": "ipython",
    "version": 3
   },
   "file_extension": ".py",
   "mimetype": "text/x-python",
   "name": "python",
   "nbconvert_exporter": "python",
   "pygments_lexer": "ipython3",
   "version": "3.7.3"
  }
 },
 "nbformat": 4,
 "nbformat_minor": 5
}
