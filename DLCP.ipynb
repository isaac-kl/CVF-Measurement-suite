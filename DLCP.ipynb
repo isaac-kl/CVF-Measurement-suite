{
 "cells": [
  {
   "cell_type": "code",
   "execution_count": 2,
   "id": "0f71cec2",
   "metadata": {},
   "outputs": [],
   "source": [
    "import pyvisa\n",
    "import numpy as np\n",
    "import time\n",
    "import pandas as pd\n",
    "import os\n",
    "import CVCommands\n",
    "from simple_pid import PID\n",
    "from datetime import datetime\n",
    "from scipy.optimize import curve_fit, minimize, leastsq\n",
    "from pyvisa import ResourceManager, constants\n",
    "from matplotlib import pyplot as plt\n",
    "from tqdm import tqdm, trange\n",
    "from usb.core import find as finddev"
   ]
  },
  {
   "cell_type": "code",
   "execution_count": 5,
   "id": "cb78fe87",
   "metadata": {},
   "outputs": [],
   "source": [
    "sampName = 'CS519C1'\n",
    "\n",
    "#Values for CIGS fine scan\n",
    "V_i = 0.95 #Initial bias V (V)\n",
    "V_f = 0.0 #Final bias V (V)\n",
    "V_step = 30 #Number of steps\n",
    "\n",
    "freq_i = 3 #Initial freq order of magnitude (Hz)\n",
    "freq_f = 5 #Final freq order of magnitude (Hz)\n",
    "freq_step = 5 #Number of steps\n",
    "\n",
    "ampl_i = 0.05 #Initial V amplitude (V)\n",
    "ampl_f = 0.3 #Final V amplitude (V)\n",
    "ampl_step = 15 #Number of steps\n",
    "num_avg = 5 #Number of measurements to average\n",
    "\n",
    "delay = .1 #Delay between changing to new value\\\n",
    "\n",
    "holdbias = True #Toggle to hold device at bias before measurement\n",
    "hold_val = V_i #Voltage to hold at in V\n",
    "hold_time = 30 #Time to hold voltage in s\n",
    "\n",
    "\n",
    "\n",
    "ϵ = 25 #relative permitivity\n",
    "ϵo=8.85e-12 #permitivity of free space (m-3 kg-1 s4 A2)\n",
    "q=1.602e-19 #elementary charge (A.s-1)\n",
    "A = 0.17*1e-4 #cell area (m2)\n",
    "\n",
    "#PID tuning parameters for V setpoint\n",
    "Ku = 1.3\n",
    "Tu = 1\n",
    "CVCommands.P = 0.45*Ku    #3.06\n",
    "CVCommands.I = 0.54*Ku/Tu    #2.8\n",
    "CVCommands.D = 0.0\n",
    "\n",
    "CVCommands.offset = 0.005 #Acceptable tolerance for voltage setpoint in V\n",
    "\n",
    "CVCommands.reset_i = 0 #Subtract this value from voltage setpoint to improve PID speed\n",
    "CVCommands.reset = 5 #Subtract value from setpoint after reset trigger\n",
    "\n",
    "CVCommands.reset_val = 1000 #Trigger voltage setpoint reset after iterations\n",
    "CVCommands.shutoff_val = 1000 #Max iterations before shutdown\n",
    "CVCommands.num_avg = num_avg\n",
    "CVCommands.mvavg_num = 20 #Number of points to calculate voltage setpoint moving average\n",
    "\n",
    "CVCommands.v_ceiling = 35 #Max allowable voltage sent to SMU, maximum value 35\n",
    "\n",
    "CVCommands.trig_delay = 0.1\n",
    "CVCommands.meas_speed = 'SLOW2' #FAST, MED, SLOW, SLOW2\n",
    "CVCommands.lowz = 'ON'\n",
    "CVCommands.LCR_timeout = 60*1000\n"
   ]
  },
  {
   "cell_type": "code",
   "execution_count": 6,
   "id": "7e1c98e7",
   "metadata": {},
   "outputs": [
    {
     "name": "stdout",
     "output_type": "stream",
     "text": [
      "DC Bias set to 0.95V                                               \n",
      "\n",
      "Prebias for  30  seconds\n"
     ]
    },
    {
     "name": "stderr",
     "output_type": "stream",
     "text": [
      "Freq sweep:   0%|          | 0/5 [00:00<?, ?it/s]\n",
      "Bias sweep:   0%|          | 0/30 [00:00<?, ?it/s]\u001b[A"
     ]
    },
    {
     "name": "stdout",
     "output_type": "stream",
     "text": [
      "Frequency set to: 1.0kHz\n",
      "DC Bias set to 0.95V                                            \n",
      "\n",
      "AC Voltage set to 0.3V                          \r"
     ]
    },
    {
     "name": "stderr",
     "output_type": "stream",
     "text": [
      "\n",
      "Bias sweep:   3%|▎         | 1/30 [05:33<2:41:14, 333.60s/it]\u001b[A"
     ]
    },
    {
     "name": "stdout",
     "output_type": "stream",
     "text": [
      "DC Bias set to 0.917V                                           \n",
      "\n",
      "AC Voltage set to 0.3V                          \r"
     ]
    },
    {
     "name": "stderr",
     "output_type": "stream",
     "text": [
      "\n",
      "Bias sweep:   7%|▋         | 2/30 [10:31<2:25:58, 312.80s/it]\u001b[A"
     ]
    },
    {
     "name": "stdout",
     "output_type": "stream",
     "text": [
      "DC Bias set to 0.884V                                           \n",
      "\n",
      "AC Voltage set to 0.3V                          \r"
     ]
    },
    {
     "name": "stderr",
     "output_type": "stream",
     "text": [
      "\n",
      "Bias sweep:  10%|█         | 3/30 [15:07<2:13:02, 295.66s/it]\u001b[A"
     ]
    },
    {
     "name": "stdout",
     "output_type": "stream",
     "text": [
      "DC Bias set to 0.852V                                           \n",
      "\n",
      "AC Voltage set to 0.3V                          \r"
     ]
    },
    {
     "name": "stderr",
     "output_type": "stream",
     "text": [
      "\n",
      "Bias sweep:  13%|█▎        | 4/30 [19:24<2:01:33, 280.51s/it]\u001b[A"
     ]
    },
    {
     "name": "stdout",
     "output_type": "stream",
     "text": [
      "DC Bias set to 0.819V                                           \n",
      "\n",
      "AC Voltage set to 0.3V                          \r"
     ]
    },
    {
     "name": "stderr",
     "output_type": "stream",
     "text": [
      "\n",
      "Bias sweep:  17%|█▋        | 5/30 [23:31<1:51:52, 268.51s/it]\u001b[A"
     ]
    },
    {
     "name": "stdout",
     "output_type": "stream",
     "text": [
      "DC Bias set to 0.786V                                           \n",
      "\n",
      "AC Voltage set to 0.3V                          \r"
     ]
    },
    {
     "name": "stderr",
     "output_type": "stream",
     "text": [
      "\n",
      "Bias sweep:  20%|██        | 6/30 [27:32<1:43:35, 258.97s/it]\u001b[A"
     ]
    },
    {
     "name": "stdout",
     "output_type": "stream",
     "text": [
      "DC Bias set to 0.753V                                           \n",
      "\n",
      "AC Voltage set to 0.3V                          \r"
     ]
    },
    {
     "name": "stderr",
     "output_type": "stream",
     "text": [
      "\n",
      "Bias sweep:  23%|██▎       | 7/30 [31:22<1:35:43, 249.70s/it]\u001b[A"
     ]
    },
    {
     "name": "stdout",
     "output_type": "stream",
     "text": [
      "DC Bias set to 0.721V                                           \n",
      "\n",
      "AC Voltage set to 0.3V                          \r"
     ]
    },
    {
     "name": "stderr",
     "output_type": "stream",
     "text": [
      "\n",
      "Bias sweep:  27%|██▋       | 8/30 [35:07<1:28:38, 241.73s/it]\u001b[A"
     ]
    },
    {
     "name": "stdout",
     "output_type": "stream",
     "text": [
      "DC Bias set to 0.688V                                           \n",
      "\n",
      "AC Voltage set to 0.3V                          \r"
     ]
    },
    {
     "name": "stderr",
     "output_type": "stream",
     "text": [
      "\n",
      "Bias sweep:  30%|███       | 9/30 [38:45<1:22:02, 234.41s/it]\u001b[A"
     ]
    },
    {
     "name": "stdout",
     "output_type": "stream",
     "text": [
      "DC Bias set to 0.655V                                           \n",
      "\n",
      "AC Voltage set to 0.3V                          \r"
     ]
    },
    {
     "name": "stderr",
     "output_type": "stream",
     "text": [
      "\n",
      "Bias sweep:  33%|███▎      | 10/30 [42:18<1:15:57, 227.86s/it]\u001b[A"
     ]
    },
    {
     "name": "stdout",
     "output_type": "stream",
     "text": [
      "DC Bias set to 0.622V                                           \n",
      "\n",
      "AC Voltage set to 0.3V                          \r"
     ]
    },
    {
     "name": "stderr",
     "output_type": "stream",
     "text": [
      "\n",
      "Bias sweep:  37%|███▋      | 11/30 [45:47<1:10:18, 222.05s/it]\u001b[A"
     ]
    },
    {
     "name": "stdout",
     "output_type": "stream",
     "text": [
      "DC Bias set to 0.59V                                            \n",
      "\n",
      "AC Voltage set to 0.3V                          \r"
     ]
    },
    {
     "name": "stderr",
     "output_type": "stream",
     "text": [
      "\n",
      "Bias sweep:  40%|████      | 12/30 [49:13<1:05:05, 216.94s/it]\u001b[A"
     ]
    },
    {
     "name": "stdout",
     "output_type": "stream",
     "text": [
      "DC Bias set to 0.557V                                           \n",
      "\n",
      "AC Voltage set to 0.3V                          \r"
     ]
    },
    {
     "name": "stderr",
     "output_type": "stream",
     "text": [
      "\n",
      "Bias sweep:  43%|████▎     | 13/30 [52:26<59:24, 209.70s/it]  \u001b[A"
     ]
    },
    {
     "name": "stdout",
     "output_type": "stream",
     "text": [
      "DC Bias set to 0.524V                                           \n",
      "\n",
      "AC Voltage set to 0.3V                          \r"
     ]
    },
    {
     "name": "stderr",
     "output_type": "stream",
     "text": [
      "\n",
      "Bias sweep:  47%|████▋     | 14/30 [55:38<54:31, 204.46s/it]\u001b[A"
     ]
    },
    {
     "name": "stdout",
     "output_type": "stream",
     "text": [
      "DC Bias set to 0.491V                                           \n",
      "\n",
      "AC Voltage set to 0.3V                          \r"
     ]
    },
    {
     "name": "stderr",
     "output_type": "stream",
     "text": [
      "\n",
      "Bias sweep:  50%|█████     | 15/30 [58:55<50:33, 202.22s/it]\u001b[A"
     ]
    },
    {
     "name": "stdout",
     "output_type": "stream",
     "text": [
      "DC Bias set to 0.459V                                           \n",
      "\n",
      "AC Voltage set to 0.3V                          \r"
     ]
    },
    {
     "name": "stderr",
     "output_type": "stream",
     "text": [
      "\n",
      "Bias sweep:  53%|█████▎    | 16/30 [1:02:18<47:15, 202.53s/it]\u001b[A"
     ]
    },
    {
     "name": "stdout",
     "output_type": "stream",
     "text": [
      "DC Bias set to 0.426V                                           \n",
      "\n",
      "AC Voltage set to 0.3V                          \r"
     ]
    },
    {
     "name": "stderr",
     "output_type": "stream",
     "text": [
      "\n",
      "Bias sweep:  57%|█████▋    | 17/30 [1:05:53<44:39, 206.13s/it]\u001b[A"
     ]
    },
    {
     "name": "stdout",
     "output_type": "stream",
     "text": [
      "DC Bias set to 0.393V                                            \n",
      "\n",
      "AC Voltage set to 0.3V                          \r"
     ]
    },
    {
     "name": "stderr",
     "output_type": "stream",
     "text": [
      "\n",
      "Bias sweep:  60%|██████    | 18/30 [1:09:34<42:07, 210.59s/it]\u001b[A"
     ]
    },
    {
     "name": "stdout",
     "output_type": "stream",
     "text": [
      "DC Bias set to 0.36V                                             \n",
      "\n",
      "AC Voltage set to 0.3V                          \r"
     ]
    },
    {
     "name": "stderr",
     "output_type": "stream",
     "text": [
      "\n",
      "Bias sweep:  63%|██████▎   | 19/30 [1:13:08<38:50, 211.84s/it]\u001b[A"
     ]
    },
    {
     "name": "stdout",
     "output_type": "stream",
     "text": [
      "DC Bias set to 0.328V                                            \n",
      "\n",
      "AC Voltage set to 0.3V                          \r"
     ]
    },
    {
     "name": "stderr",
     "output_type": "stream",
     "text": [
      "\n",
      "Bias sweep:  67%|██████▋   | 20/30 [1:16:41<35:21, 212.11s/it]\u001b[A"
     ]
    },
    {
     "name": "stdout",
     "output_type": "stream",
     "text": [
      "DC Bias set to 0.295V                                            \n",
      "\n",
      "AC Voltage set to 0.3V                          \r"
     ]
    },
    {
     "name": "stderr",
     "output_type": "stream",
     "text": [
      "\n",
      "Bias sweep:  70%|███████   | 21/30 [1:19:47<30:39, 204.35s/it]\u001b[A"
     ]
    },
    {
     "name": "stdout",
     "output_type": "stream",
     "text": [
      "DC Bias set to 0.262V                                              \n",
      "\n",
      "AC Voltage set to 0.3V                          \r"
     ]
    },
    {
     "name": "stderr",
     "output_type": "stream",
     "text": [
      "\n",
      "Bias sweep:  73%|███████▎  | 22/30 [1:22:53<26:28, 198.62s/it]\u001b[A"
     ]
    },
    {
     "name": "stdout",
     "output_type": "stream",
     "text": [
      "DC Bias set to 0.229V                                             \n",
      "\n",
      "AC Voltage set to 0.3V                          \r"
     ]
    },
    {
     "name": "stderr",
     "output_type": "stream",
     "text": [
      "\n",
      "Bias sweep:  77%|███████▋  | 23/30 [1:25:56<22:38, 194.01s/it]\u001b[A"
     ]
    },
    {
     "name": "stdout",
     "output_type": "stream",
     "text": [
      "DC Bias set to 0.197V                                             \n",
      "\n",
      "AC Voltage set to 0.3V                          \r"
     ]
    },
    {
     "name": "stderr",
     "output_type": "stream",
     "text": [
      "\n",
      "Bias sweep:  80%|████████  | 24/30 [1:28:48<18:44, 187.42s/it]\u001b[A"
     ]
    },
    {
     "name": "stdout",
     "output_type": "stream",
     "text": [
      "DC Bias set to 0.164V                                            \n",
      "\n",
      "AC Voltage set to 0.3V                          \r"
     ]
    },
    {
     "name": "stderr",
     "output_type": "stream",
     "text": [
      "\n",
      "Bias sweep:  83%|████████▎ | 25/30 [1:31:53<15:32, 186.60s/it]\u001b[A"
     ]
    },
    {
     "name": "stdout",
     "output_type": "stream",
     "text": [
      "DC Bias set to 0.131V                                            \n",
      "\n",
      "AC Voltage set to 0.3V                          \r"
     ]
    },
    {
     "name": "stderr",
     "output_type": "stream",
     "text": [
      "\n",
      "Bias sweep:  87%|████████▋ | 26/30 [1:35:13<12:42, 190.60s/it]\u001b[A"
     ]
    },
    {
     "name": "stdout",
     "output_type": "stream",
     "text": [
      "DC Bias set to 0.098V                                             \n",
      "\n",
      "AC Voltage set to 0.3V                          \r"
     ]
    },
    {
     "name": "stderr",
     "output_type": "stream",
     "text": [
      "\n",
      "Bias sweep:  90%|█████████ | 27/30 [1:38:25<09:33, 191.17s/it]\u001b[A"
     ]
    },
    {
     "name": "stdout",
     "output_type": "stream",
     "text": [
      "DC Bias set to 0.066V                                            \n",
      "\n",
      "AC Voltage set to 0.3V                          \r"
     ]
    },
    {
     "name": "stderr",
     "output_type": "stream",
     "text": [
      "\n",
      "Bias sweep:  93%|█████████▎| 28/30 [1:41:35<06:21, 190.91s/it]\u001b[A"
     ]
    },
    {
     "name": "stdout",
     "output_type": "stream",
     "text": [
      "DC Bias set to 0.033V                                             \n",
      "\n",
      "AC Voltage set to 0.3V                          \r"
     ]
    },
    {
     "name": "stderr",
     "output_type": "stream",
     "text": [
      "\n",
      "Bias sweep:  97%|█████████▋| 29/30 [1:44:17<03:02, 182.11s/it]\u001b[A"
     ]
    },
    {
     "name": "stdout",
     "output_type": "stream",
     "text": [
      "DC Bias set to 0.0V                                                \n",
      "\n",
      "AC Voltage set to 0.3V                          \r"
     ]
    },
    {
     "name": "stderr",
     "output_type": "stream",
     "text": [
      "\n",
      "Bias sweep: 100%|██████████| 30/30 [1:46:40<00:00, 213.37s/it]\u001b[A\n",
      "Freq sweep:  20%|██        | 1/5 [1:46:41<7:06:44, 6401.14s/it]\n",
      "Bias sweep:   0%|          | 0/30 [00:00<?, ?it/s]\u001b[A"
     ]
    },
    {
     "name": "stdout",
     "output_type": "stream",
     "text": [
      "Saving as: CS519C1_ndl1kHz\n",
      "Frequency set to: 3.16kHz\n",
      "DC Bias set to 0.95V                                              \n",
      "\n",
      "AC Voltage set to 0.3V                          \r"
     ]
    },
    {
     "name": "stderr",
     "output_type": "stream",
     "text": [
      "\n",
      "Bias sweep:   3%|▎         | 1/30 [05:55<2:51:58, 355.81s/it]\u001b[A"
     ]
    },
    {
     "name": "stdout",
     "output_type": "stream",
     "text": [
      "DC Bias set to 0.917V                                           \n",
      "\n",
      "AC Voltage set to 0.3V                          \r"
     ]
    },
    {
     "name": "stderr",
     "output_type": "stream",
     "text": [
      "\n",
      "Bias sweep:   7%|▋         | 2/30 [11:27<2:39:22, 341.50s/it]\u001b[A"
     ]
    },
    {
     "name": "stdout",
     "output_type": "stream",
     "text": [
      "DC Bias set to 0.884V                                           \n",
      "\n",
      "AC Voltage set to 0.3V                          \r"
     ]
    },
    {
     "name": "stderr",
     "output_type": "stream",
     "text": [
      "\n",
      "Bias sweep:  10%|█         | 3/30 [16:38<2:27:22, 327.48s/it]\u001b[A"
     ]
    },
    {
     "name": "stdout",
     "output_type": "stream",
     "text": [
      "DC Bias set to 0.852V                                           \n",
      "\n",
      "AC Voltage set to 0.3V                          \r"
     ]
    },
    {
     "name": "stderr",
     "output_type": "stream",
     "text": [
      "\n",
      "Bias sweep:  13%|█▎        | 4/30 [21:31<2:16:03, 313.96s/it]\u001b[A"
     ]
    },
    {
     "name": "stdout",
     "output_type": "stream",
     "text": [
      "DC Bias set to 0.819V                                           \n",
      "\n",
      "AC Voltage set to 0.3V                          \r"
     ]
    },
    {
     "name": "stderr",
     "output_type": "stream",
     "text": [
      "\n",
      "Bias sweep:  17%|█▋        | 5/30 [26:13<2:06:05, 302.62s/it]\u001b[A"
     ]
    },
    {
     "name": "stdout",
     "output_type": "stream",
     "text": [
      "DC Bias set to 0.786V                                           \n",
      "\n",
      "AC Voltage set to 0.3V                          \r"
     ]
    },
    {
     "name": "stderr",
     "output_type": "stream",
     "text": [
      "\n",
      "Bias sweep:  20%|██        | 6/30 [30:48<1:57:15, 293.14s/it]\u001b[A"
     ]
    },
    {
     "name": "stdout",
     "output_type": "stream",
     "text": [
      "DC Bias set to 0.753V                                           \n",
      "\n",
      "AC Voltage set to 0.3V                          \r"
     ]
    },
    {
     "name": "stderr",
     "output_type": "stream",
     "text": [
      "\n",
      "Bias sweep:  23%|██▎       | 7/30 [35:14<1:49:00, 284.36s/it]\u001b[A"
     ]
    },
    {
     "name": "stdout",
     "output_type": "stream",
     "text": [
      "DC Bias set to 0.721V                                           \n",
      "\n",
      "AC Voltage set to 0.3V                          \r"
     ]
    },
    {
     "name": "stderr",
     "output_type": "stream",
     "text": [
      "\n",
      "Bias sweep:  27%|██▋       | 8/30 [39:38<1:41:48, 277.65s/it]\u001b[A"
     ]
    },
    {
     "name": "stdout",
     "output_type": "stream",
     "text": [
      "DC Bias set to 0.688V                                           \n",
      "\n",
      "AC Voltage set to 0.3V                          \r"
     ]
    },
    {
     "name": "stderr",
     "output_type": "stream",
     "text": [
      "\n",
      "Bias sweep:  30%|███       | 9/30 [43:54<1:34:51, 271.02s/it]\u001b[A"
     ]
    },
    {
     "name": "stdout",
     "output_type": "stream",
     "text": [
      "DC Bias set to 0.655V                                           \n",
      "\n",
      "AC Voltage set to 0.3V                          \r"
     ]
    },
    {
     "name": "stderr",
     "output_type": "stream",
     "text": [
      "\n",
      "Bias sweep:  33%|███▎      | 10/30 [48:06<1:28:25, 265.26s/it]\u001b[A"
     ]
    },
    {
     "name": "stdout",
     "output_type": "stream",
     "text": [
      "DC Bias set to 0.622V                                           \n",
      "\n",
      "AC Voltage set to 0.3V                          \r"
     ]
    },
    {
     "name": "stderr",
     "output_type": "stream",
     "text": [
      "\n",
      "Bias sweep:  37%|███▋      | 11/30 [52:15<1:22:21, 260.06s/it]\u001b[A"
     ]
    },
    {
     "name": "stdout",
     "output_type": "stream",
     "text": [
      "DC Bias set to 0.59V                                            \n",
      "\n",
      "AC Voltage set to 0.3V                          \r"
     ]
    },
    {
     "name": "stderr",
     "output_type": "stream",
     "text": [
      "\n",
      "Bias sweep:  40%|████      | 12/30 [56:19<1:16:36, 255.34s/it]\u001b[A"
     ]
    },
    {
     "name": "stdout",
     "output_type": "stream",
     "text": [
      "DC Bias set to 0.557V                                           \n",
      "\n",
      "AC Voltage set to 0.3V                          \r"
     ]
    },
    {
     "name": "stderr",
     "output_type": "stream",
     "text": [
      "\n",
      "Bias sweep:  43%|████▎     | 13/30 [1:00:20<1:11:07, 251.00s/it]\u001b[A"
     ]
    },
    {
     "name": "stdout",
     "output_type": "stream",
     "text": [
      "DC Bias set to 0.524V                                           \n",
      "\n",
      "AC Voltage set to 0.3V                          \r"
     ]
    },
    {
     "name": "stderr",
     "output_type": "stream",
     "text": [
      "\n",
      "Bias sweep:  47%|████▋     | 14/30 [1:04:17<1:05:46, 246.66s/it]\u001b[A"
     ]
    },
    {
     "name": "stdout",
     "output_type": "stream",
     "text": [
      "DC Bias set to 0.491V                                           \n",
      "\n",
      "AC Voltage set to 0.3V                          \r"
     ]
    },
    {
     "name": "stderr",
     "output_type": "stream",
     "text": [
      "\n",
      "Bias sweep:  50%|█████     | 15/30 [1:08:06<1:00:21, 241.43s/it]\u001b[A"
     ]
    },
    {
     "name": "stdout",
     "output_type": "stream",
     "text": [
      "DC Bias set to 0.459V                                           \n",
      "\n",
      "AC Voltage set to 0.3V                          \r"
     ]
    },
    {
     "name": "stderr",
     "output_type": "stream",
     "text": [
      "\n",
      "Bias sweep:  53%|█████▎    | 16/30 [1:11:48<54:59, 235.64s/it]  \u001b[A"
     ]
    },
    {
     "name": "stdout",
     "output_type": "stream",
     "text": [
      "DC Bias set to 0.426V                                           \n",
      "\n",
      "AC Voltage set to 0.3V                          \r"
     ]
    },
    {
     "name": "stderr",
     "output_type": "stream",
     "text": [
      "\n",
      "Bias sweep:  57%|█████▋    | 17/30 [1:15:29<50:03, 231.04s/it]\u001b[A"
     ]
    },
    {
     "name": "stdout",
     "output_type": "stream",
     "text": [
      "DC Bias set to 0.393V                                           \n",
      "\n",
      "AC Voltage set to 0.3V                          \r"
     ]
    },
    {
     "name": "stderr",
     "output_type": "stream",
     "text": [
      "\n",
      "Bias sweep:  60%|██████    | 18/30 [1:19:11<45:38, 228.25s/it]\u001b[A"
     ]
    },
    {
     "name": "stdout",
     "output_type": "stream",
     "text": [
      "DC Bias set to 0.36V                                            \n",
      "\n",
      "AC Voltage set to 0.3V                          \r"
     ]
    },
    {
     "name": "stderr",
     "output_type": "stream",
     "text": [
      "\n",
      "Bias sweep:  63%|██████▎   | 19/30 [1:22:45<41:03, 223.97s/it]\u001b[A"
     ]
    },
    {
     "name": "stdout",
     "output_type": "stream",
     "text": [
      "DC Bias set to 0.328V                                            \n",
      "\n",
      "AC Voltage set to 0.3V                          \r"
     ]
    },
    {
     "name": "stderr",
     "output_type": "stream",
     "text": [
      "\n",
      "Bias sweep:  67%|██████▋   | 20/30 [1:26:09<36:20, 218.08s/it]\u001b[A"
     ]
    },
    {
     "name": "stdout",
     "output_type": "stream",
     "text": [
      "DC Bias set to 0.295V                                            \n",
      "\n",
      "AC Voltage set to 0.3V                          \r"
     ]
    },
    {
     "name": "stderr",
     "output_type": "stream",
     "text": [
      "\n",
      "Bias sweep:  70%|███████   | 21/30 [1:29:20<31:28, 209.85s/it]\u001b[A"
     ]
    },
    {
     "name": "stdout",
     "output_type": "stream",
     "text": [
      "DC Bias set to 0.262V                                             \n",
      "\n",
      "AC Voltage set to 0.3V                          \r"
     ]
    },
    {
     "name": "stderr",
     "output_type": "stream",
     "text": [
      "\n",
      "Bias sweep:  73%|███████▎  | 22/30 [1:32:16<26:39, 199.98s/it]\u001b[A"
     ]
    },
    {
     "name": "stdout",
     "output_type": "stream",
     "text": [
      "DC Bias set to 0.229V                                             \n",
      "\n",
      "AC Voltage set to 0.3V                          \r"
     ]
    },
    {
     "name": "stderr",
     "output_type": "stream",
     "text": [
      "\n",
      "Bias sweep:  77%|███████▋  | 23/30 [1:35:08<22:21, 191.59s/it]\u001b[A"
     ]
    },
    {
     "name": "stdout",
     "output_type": "stream",
     "text": [
      "DC Bias set to 0.197V                                              \n",
      "\n",
      "AC Voltage set to 0.3V                          \r"
     ]
    },
    {
     "name": "stderr",
     "output_type": "stream",
     "text": [
      "\n",
      "Bias sweep:  80%|████████  | 24/30 [1:38:01<18:35, 185.92s/it]\u001b[A"
     ]
    },
    {
     "name": "stdout",
     "output_type": "stream",
     "text": [
      "DC Bias set to 0.164V                                              \n",
      "\n",
      "AC Voltage set to 0.3V                          \r"
     ]
    },
    {
     "name": "stderr",
     "output_type": "stream",
     "text": [
      "\n",
      "Bias sweep:  83%|████████▎ | 25/30 [1:40:50<15:04, 180.90s/it]\u001b[A"
     ]
    },
    {
     "name": "stdout",
     "output_type": "stream",
     "text": [
      "DC Bias set to 0.131V                                            \n",
      "\n",
      "AC Voltage set to 0.3V                          \r"
     ]
    },
    {
     "name": "stderr",
     "output_type": "stream",
     "text": [
      "\n",
      "Bias sweep:  87%|████████▋ | 26/30 [1:43:35<11:44, 176.06s/it]\u001b[A"
     ]
    },
    {
     "name": "stdout",
     "output_type": "stream",
     "text": [
      "DC Bias set to 0.098V                                             \n",
      "\n",
      "AC Voltage set to 0.3V                          \r"
     ]
    },
    {
     "name": "stderr",
     "output_type": "stream",
     "text": [
      "\n",
      "Bias sweep:  90%|█████████ | 27/30 [1:46:33<08:49, 176.51s/it]\u001b[A"
     ]
    },
    {
     "name": "stdout",
     "output_type": "stream",
     "text": [
      "DC Bias set to 0.066V                                             \n",
      "\n",
      "AC Voltage set to 0.3V                          \r"
     ]
    },
    {
     "name": "stderr",
     "output_type": "stream",
     "text": [
      "\n",
      "Bias sweep:  93%|█████████▎| 28/30 [1:49:37<05:57, 178.96s/it]\u001b[A"
     ]
    },
    {
     "name": "stdout",
     "output_type": "stream",
     "text": [
      "DC Bias set to 0.033V                                             \n",
      "\n",
      "AC Voltage set to 0.3V                          \r"
     ]
    },
    {
     "name": "stderr",
     "output_type": "stream",
     "text": [
      "\n",
      "Bias sweep:  97%|█████████▋| 29/30 [1:52:52<03:03, 183.64s/it]\u001b[A"
     ]
    },
    {
     "name": "stdout",
     "output_type": "stream",
     "text": [
      "DC Bias set to 0.0V                                                 \n",
      "\n",
      "AC Voltage set to 0.3V                          \r"
     ]
    },
    {
     "name": "stderr",
     "output_type": "stream",
     "text": [
      "\n",
      "Bias sweep: 100%|██████████| 30/30 [1:56:15<00:00, 232.51s/it]\u001b[A\n",
      "Freq sweep:  40%|████      | 2/5 [3:42:56<5:36:56, 6738.90s/it]\n",
      "Bias sweep:   0%|          | 0/30 [00:00<?, ?it/s]\u001b[A"
     ]
    },
    {
     "name": "stdout",
     "output_type": "stream",
     "text": [
      "Saving as: CS519C1_ndl3kHz\n",
      "Frequency set to: 10.0kHz\n",
      "DC Bias set to 0.95V                                             \n",
      "\n",
      "AC Voltage set to 0.3V                          \r"
     ]
    },
    {
     "name": "stderr",
     "output_type": "stream",
     "text": [
      "\n",
      "Bias sweep:   3%|▎         | 1/30 [05:20<2:34:49, 320.34s/it]\u001b[A"
     ]
    },
    {
     "name": "stdout",
     "output_type": "stream",
     "text": [
      "DC Bias set to 0.917V                                           \n",
      "\n",
      "AC Voltage set to 0.3V                          \r"
     ]
    },
    {
     "name": "stderr",
     "output_type": "stream",
     "text": [
      "\n",
      "Bias sweep:   7%|▋         | 2/30 [10:16<2:22:56, 306.31s/it]\u001b[A"
     ]
    },
    {
     "name": "stdout",
     "output_type": "stream",
     "text": [
      "DC Bias set to 0.884V                                           \n",
      "\n",
      "AC Voltage set to 0.3V                          \r"
     ]
    },
    {
     "name": "stderr",
     "output_type": "stream",
     "text": [
      "\n",
      "Bias sweep:  10%|█         | 3/30 [14:52<2:11:30, 292.25s/it]\u001b[A"
     ]
    },
    {
     "name": "stdout",
     "output_type": "stream",
     "text": [
      "DC Bias set to 0.852V                                           \n",
      "\n",
      "AC Voltage set to 0.3V                          \r"
     ]
    },
    {
     "name": "stderr",
     "output_type": "stream",
     "text": [
      "\n",
      "Bias sweep:  13%|█▎        | 4/30 [19:12<2:01:12, 279.72s/it]\u001b[A"
     ]
    },
    {
     "name": "stdout",
     "output_type": "stream",
     "text": [
      "DC Bias set to 0.819V                                           \n",
      "\n",
      "AC Voltage set to 0.3V                          \r"
     ]
    },
    {
     "name": "stderr",
     "output_type": "stream",
     "text": [
      "\n",
      "Bias sweep:  17%|█▋        | 5/30 [23:22<1:51:59, 268.78s/it]\u001b[A"
     ]
    },
    {
     "name": "stdout",
     "output_type": "stream",
     "text": [
      "DC Bias set to 0.786V                                           \n",
      "\n",
      "AC Voltage set to 0.3V                          \r"
     ]
    },
    {
     "name": "stderr",
     "output_type": "stream",
     "text": [
      "\n",
      "Bias sweep:  20%|██        | 6/30 [27:23<1:43:42, 259.26s/it]\u001b[A"
     ]
    },
    {
     "name": "stdout",
     "output_type": "stream",
     "text": [
      "DC Bias set to 0.753V                                           \n",
      "\n",
      "AC Voltage set to 0.3V                          \r"
     ]
    },
    {
     "name": "stderr",
     "output_type": "stream",
     "text": [
      "\n",
      "Bias sweep:  23%|██▎       | 7/30 [31:19<1:36:31, 251.82s/it]\u001b[A"
     ]
    },
    {
     "name": "stdout",
     "output_type": "stream",
     "text": [
      "DC Bias set to 0.721V                                           \n",
      "\n",
      "AC Voltage set to 0.3V                          \r"
     ]
    },
    {
     "name": "stderr",
     "output_type": "stream",
     "text": [
      "\n",
      "Bias sweep:  27%|██▋       | 8/30 [35:10<1:29:56, 245.27s/it]\u001b[A"
     ]
    },
    {
     "name": "stdout",
     "output_type": "stream",
     "text": [
      "DC Bias set to 0.688V                                           \n",
      "\n",
      "AC Voltage set to 0.3V                          \r"
     ]
    },
    {
     "name": "stderr",
     "output_type": "stream",
     "text": [
      "\n",
      "Bias sweep:  30%|███       | 9/30 [38:57<1:23:47, 239.40s/it]\u001b[A"
     ]
    },
    {
     "name": "stdout",
     "output_type": "stream",
     "text": [
      "DC Bias set to 0.655V                                           \n",
      "\n",
      "AC Voltage set to 0.3V                          \r"
     ]
    },
    {
     "name": "stderr",
     "output_type": "stream",
     "text": [
      "\n",
      "Bias sweep:  33%|███▎      | 10/30 [42:39<1:18:00, 234.01s/it]\u001b[A"
     ]
    },
    {
     "name": "stdout",
     "output_type": "stream",
     "text": [
      "DC Bias set to 0.622V                                           \n",
      "\n",
      "AC Voltage set to 0.3V                          \r"
     ]
    },
    {
     "name": "stderr",
     "output_type": "stream",
     "text": [
      "\n",
      "Bias sweep:  37%|███▋      | 11/30 [46:16<1:12:27, 228.79s/it]\u001b[A"
     ]
    },
    {
     "name": "stdout",
     "output_type": "stream",
     "text": [
      "DC Bias set to 0.59V                                            \n",
      "\n",
      "AC Voltage set to 0.3V                          \r"
     ]
    },
    {
     "name": "stderr",
     "output_type": "stream",
     "text": [
      "\n",
      "Bias sweep:  40%|████      | 12/30 [49:49<1:07:15, 224.20s/it]\u001b[A"
     ]
    },
    {
     "name": "stdout",
     "output_type": "stream",
     "text": [
      "DC Bias set to 0.557V                                           \n",
      "\n",
      "AC Voltage set to 0.3V                          \r"
     ]
    },
    {
     "name": "stderr",
     "output_type": "stream",
     "text": [
      "\n",
      "Bias sweep:  43%|████▎     | 13/30 [53:19<1:02:17, 219.84s/it]\u001b[A"
     ]
    },
    {
     "name": "stdout",
     "output_type": "stream",
     "text": [
      "DC Bias set to 0.524V                                           \n",
      "\n",
      "AC Voltage set to 0.3V                          \r"
     ]
    },
    {
     "name": "stderr",
     "output_type": "stream",
     "text": [
      "\n",
      "Bias sweep:  47%|████▋     | 14/30 [56:44<57:25, 215.35s/it]  \u001b[A"
     ]
    },
    {
     "name": "stdout",
     "output_type": "stream",
     "text": [
      "DC Bias set to 0.491V                                           \n",
      "\n",
      "AC Voltage set to 0.3V                          \r"
     ]
    },
    {
     "name": "stderr",
     "output_type": "stream",
     "text": [
      "\n",
      "Bias sweep:  50%|█████     | 15/30 [1:00:03<52:34, 210.30s/it]\u001b[A"
     ]
    },
    {
     "name": "stdout",
     "output_type": "stream",
     "text": [
      "DC Bias set to 0.459V                                           \n",
      "\n",
      "AC Voltage set to 0.3V                          \r"
     ]
    },
    {
     "name": "stderr",
     "output_type": "stream",
     "text": [
      "\n",
      "Bias sweep:  53%|█████▎    | 16/30 [1:03:15<47:48, 204.87s/it]\u001b[A"
     ]
    },
    {
     "name": "stdout",
     "output_type": "stream",
     "text": [
      "DC Bias set to 0.426V                                           \n",
      "\n",
      "AC Voltage set to 0.3V                          \r"
     ]
    },
    {
     "name": "stderr",
     "output_type": "stream",
     "text": [
      "\n",
      "Bias sweep:  57%|█████▋    | 17/30 [1:06:36<44:08, 203.75s/it]\u001b[A"
     ]
    },
    {
     "name": "stdout",
     "output_type": "stream",
     "text": [
      "DC Bias set to 0.393V                                           \n",
      "\n",
      "AC Voltage set to 0.3V                          \r"
     ]
    },
    {
     "name": "stderr",
     "output_type": "stream",
     "text": [
      "\n",
      "Bias sweep:  60%|██████    | 18/30 [1:09:49<40:04, 200.37s/it]\u001b[A"
     ]
    },
    {
     "name": "stdout",
     "output_type": "stream",
     "text": [
      "DC Bias set to 0.36V                                            \n",
      "\n",
      "AC Voltage set to 0.3V                          \r"
     ]
    },
    {
     "name": "stderr",
     "output_type": "stream",
     "text": [
      "\n",
      "Bias sweep:  63%|██████▎   | 19/30 [1:12:57<36:04, 196.73s/it]\u001b[A"
     ]
    },
    {
     "name": "stdout",
     "output_type": "stream",
     "text": [
      "DC Bias set to 0.328V                                            \n",
      "\n",
      "AC Voltage set to 0.3V                          \r"
     ]
    },
    {
     "name": "stderr",
     "output_type": "stream",
     "text": [
      "\n",
      "Bias sweep:  67%|██████▋   | 20/30 [1:15:54<31:49, 190.95s/it]\u001b[A"
     ]
    },
    {
     "name": "stdout",
     "output_type": "stream",
     "text": [
      "DC Bias set to 0.295V                                            \n",
      "\n",
      "AC Voltage set to 0.3V                          \r"
     ]
    },
    {
     "name": "stderr",
     "output_type": "stream",
     "text": [
      "\n",
      "Bias sweep:  70%|███████   | 21/30 [1:18:34<27:13, 181.51s/it]\u001b[A"
     ]
    },
    {
     "name": "stdout",
     "output_type": "stream",
     "text": [
      "DC Bias set to 0.262V                                               \n",
      "\n",
      "AC Voltage set to 0.3V                          \r"
     ]
    },
    {
     "name": "stderr",
     "output_type": "stream",
     "text": [
      "\n",
      "Bias sweep:  73%|███████▎  | 22/30 [1:21:03<22:55, 171.90s/it]\u001b[A"
     ]
    },
    {
     "name": "stdout",
     "output_type": "stream",
     "text": [
      "DC Bias set to 0.229V                                             \n",
      "\n",
      "AC Voltage set to 0.3V                          \r"
     ]
    },
    {
     "name": "stderr",
     "output_type": "stream",
     "text": [
      "\n",
      "Bias sweep:  77%|███████▋  | 23/30 [1:23:24<18:56, 162.43s/it]\u001b[A"
     ]
    },
    {
     "name": "stdout",
     "output_type": "stream",
     "text": [
      "DC Bias set to 0.197V                                              \n",
      "\n",
      "AC Voltage set to 0.3V                          \r"
     ]
    },
    {
     "name": "stderr",
     "output_type": "stream",
     "text": [
      "\n",
      "Bias sweep:  80%|████████  | 24/30 [1:25:41<15:29, 154.87s/it]\u001b[A"
     ]
    },
    {
     "name": "stdout",
     "output_type": "stream",
     "text": [
      "DC Bias set to 0.164V                                             \n",
      "\n",
      "AC Voltage set to 0.3V                          \r"
     ]
    },
    {
     "name": "stderr",
     "output_type": "stream",
     "text": [
      "\n",
      "Bias sweep:  83%|████████▎ | 25/30 [1:28:00<12:29, 149.99s/it]\u001b[A"
     ]
    },
    {
     "name": "stdout",
     "output_type": "stream",
     "text": [
      "DC Bias set to 0.131V                                             \n",
      "\n",
      "AC Voltage set to 0.3V                          \r"
     ]
    },
    {
     "name": "stderr",
     "output_type": "stream",
     "text": [
      "\n",
      "Bias sweep:  87%|████████▋ | 26/30 [1:30:24<09:53, 148.26s/it]\u001b[A"
     ]
    },
    {
     "name": "stdout",
     "output_type": "stream",
     "text": [
      "DC Bias set to 0.098V                                            \n",
      "\n",
      "AC Voltage set to 0.3V                          \r"
     ]
    },
    {
     "name": "stderr",
     "output_type": "stream",
     "text": [
      "\n",
      "Bias sweep:  90%|█████████ | 27/30 [1:32:51<07:23, 147.90s/it]\u001b[A"
     ]
    },
    {
     "name": "stdout",
     "output_type": "stream",
     "text": [
      "DC Bias set to 0.066V                                            \n",
      "\n",
      "AC Voltage set to 0.3V                          \r"
     ]
    },
    {
     "name": "stderr",
     "output_type": "stream",
     "text": [
      "\n",
      "Bias sweep:  93%|█████████▎| 28/30 [1:35:24<04:59, 149.50s/it]\u001b[A"
     ]
    },
    {
     "name": "stdout",
     "output_type": "stream",
     "text": [
      "DC Bias set to 0.033V                                               \n",
      "\n",
      "AC Voltage set to 0.3V                          \r"
     ]
    },
    {
     "name": "stderr",
     "output_type": "stream",
     "text": [
      "\n",
      "Bias sweep:  97%|█████████▋| 29/30 [1:38:08<02:33, 153.88s/it]\u001b[A"
     ]
    },
    {
     "name": "stdout",
     "output_type": "stream",
     "text": [
      "DC Bias set to 0.0V                                                \n",
      "\n",
      "AC Voltage set to 0.3V                          \r"
     ]
    },
    {
     "name": "stderr",
     "output_type": "stream",
     "text": [
      "\n",
      "Bias sweep: 100%|██████████| 30/30 [1:40:57<00:00, 201.91s/it]\u001b[A\n",
      "Freq sweep:  60%|██████    | 3/5 [5:23:54<3:34:15, 6427.78s/it]\n",
      "Bias sweep:   0%|          | 0/30 [00:00<?, ?it/s]\u001b[A"
     ]
    },
    {
     "name": "stdout",
     "output_type": "stream",
     "text": [
      "Saving as: CS519C1_ndl10kHz\n",
      "Frequency set to: 31.62kHz\n",
      "DC Bias set to 0.95V                                              \n",
      "\n",
      "AC Voltage set to 0.3V                          \r"
     ]
    },
    {
     "name": "stderr",
     "output_type": "stream",
     "text": [
      "\n",
      "Bias sweep:   3%|▎         | 1/30 [05:49<2:48:51, 349.37s/it]\u001b[A"
     ]
    },
    {
     "name": "stdout",
     "output_type": "stream",
     "text": [
      "DC Bias set to 0.917V                                           \n",
      "\n",
      "AC Voltage set to 0.3V                          \r"
     ]
    },
    {
     "name": "stderr",
     "output_type": "stream",
     "text": [
      "\n",
      "Bias sweep:   7%|▋         | 2/30 [11:12<2:35:48, 333.86s/it]\u001b[A"
     ]
    },
    {
     "name": "stdout",
     "output_type": "stream",
     "text": [
      "DC Bias set to 0.884V                                           \n",
      "\n",
      "AC Voltage set to 0.3V                          \r"
     ]
    },
    {
     "name": "stderr",
     "output_type": "stream",
     "text": [
      "\n",
      "Bias sweep:  10%|█         | 3/30 [16:17<2:24:15, 320.58s/it]\u001b[A"
     ]
    },
    {
     "name": "stdout",
     "output_type": "stream",
     "text": [
      "DC Bias set to 0.852V                                           \n",
      "\n",
      "AC Voltage set to 0.3V                          \r"
     ]
    },
    {
     "name": "stderr",
     "output_type": "stream",
     "text": [
      "\n",
      "Bias sweep:  13%|█▎        | 4/30 [21:06<2:13:33, 308.21s/it]\u001b[A"
     ]
    },
    {
     "name": "stdout",
     "output_type": "stream",
     "text": [
      "DC Bias set to 0.819V                                           \n",
      "\n",
      "AC Voltage set to 0.3V                          \r"
     ]
    },
    {
     "name": "stderr",
     "output_type": "stream",
     "text": [
      "\n",
      "Bias sweep:  17%|█▋        | 5/30 [25:45<2:04:04, 297.77s/it]\u001b[A"
     ]
    },
    {
     "name": "stdout",
     "output_type": "stream",
     "text": [
      "DC Bias set to 0.786V                                           \n",
      "\n",
      "AC Voltage set to 0.3V                          \r"
     ]
    },
    {
     "name": "stderr",
     "output_type": "stream",
     "text": [
      "\n",
      "Bias sweep:  20%|██        | 6/30 [30:16<1:55:30, 288.78s/it]\u001b[A"
     ]
    },
    {
     "name": "stdout",
     "output_type": "stream",
     "text": [
      "DC Bias set to 0.753V                                           \n",
      "\n",
      "AC Voltage set to 0.3V                          \r"
     ]
    },
    {
     "name": "stderr",
     "output_type": "stream",
     "text": [
      "\n",
      "Bias sweep:  23%|██▎       | 7/30 [34:40<1:47:28, 280.36s/it]\u001b[A"
     ]
    },
    {
     "name": "stdout",
     "output_type": "stream",
     "text": [
      "DC Bias set to 0.721V                                           \n",
      "\n",
      "AC Voltage set to 0.3V                          \r"
     ]
    },
    {
     "name": "stderr",
     "output_type": "stream",
     "text": [
      "\n",
      "Bias sweep:  27%|██▋       | 8/30 [38:58<1:40:14, 273.41s/it]\u001b[A"
     ]
    },
    {
     "name": "stdout",
     "output_type": "stream",
     "text": [
      "DC Bias set to 0.688V                                           \n",
      "\n",
      "AC Voltage set to 0.3V                          \r"
     ]
    },
    {
     "name": "stderr",
     "output_type": "stream",
     "text": [
      "\n",
      "Bias sweep:  30%|███       | 9/30 [43:14<1:33:48, 268.02s/it]\u001b[A"
     ]
    },
    {
     "name": "stdout",
     "output_type": "stream",
     "text": [
      "DC Bias set to 0.655V                                           \n",
      "\n",
      "AC Voltage set to 0.3V                          \r"
     ]
    },
    {
     "name": "stderr",
     "output_type": "stream",
     "text": [
      "\n",
      "Bias sweep:  33%|███▎      | 10/30 [47:25<1:27:34, 262.70s/it]\u001b[A"
     ]
    },
    {
     "name": "stdout",
     "output_type": "stream",
     "text": [
      "DC Bias set to 0.622V                                           \n",
      "\n",
      "AC Voltage set to 0.3V                          \r"
     ]
    },
    {
     "name": "stderr",
     "output_type": "stream",
     "text": [
      "\n",
      "Bias sweep:  37%|███▋      | 11/30 [51:33<1:21:45, 258.21s/it]\u001b[A"
     ]
    },
    {
     "name": "stdout",
     "output_type": "stream",
     "text": [
      "DC Bias set to 0.59V                                            \n",
      "\n",
      "AC Voltage set to 0.3V                          \r"
     ]
    },
    {
     "name": "stderr",
     "output_type": "stream",
     "text": [
      "\n",
      "Bias sweep:  40%|████      | 12/30 [55:38<1:16:15, 254.21s/it]\u001b[A"
     ]
    },
    {
     "name": "stdout",
     "output_type": "stream",
     "text": [
      "DC Bias set to 0.557V                                           \n",
      "\n",
      "AC Voltage set to 0.3V                          \r"
     ]
    },
    {
     "name": "stderr",
     "output_type": "stream",
     "text": [
      "\n",
      "Bias sweep:  43%|████▎     | 13/30 [59:39<1:10:51, 250.06s/it]\u001b[A"
     ]
    },
    {
     "name": "stdout",
     "output_type": "stream",
     "text": [
      "DC Bias set to 0.524V                                           \n",
      "\n",
      "AC Voltage set to 0.3V                          \r"
     ]
    },
    {
     "name": "stderr",
     "output_type": "stream",
     "text": [
      "\n",
      "Bias sweep:  47%|████▋     | 14/30 [1:03:34<1:05:31, 245.73s/it]\u001b[A"
     ]
    },
    {
     "name": "stdout",
     "output_type": "stream",
     "text": [
      "DC Bias set to 0.491V                                           \n",
      "\n",
      "AC Voltage set to 0.3V                          \r"
     ]
    },
    {
     "name": "stderr",
     "output_type": "stream",
     "text": [
      "\n",
      "Bias sweep:  50%|█████     | 15/30 [1:07:26<1:00:20, 241.36s/it]\u001b[A"
     ]
    },
    {
     "name": "stdout",
     "output_type": "stream",
     "text": [
      "DC Bias set to 0.459V                                           \n",
      "\n",
      "AC Voltage set to 0.3V                          \r"
     ]
    },
    {
     "name": "stderr",
     "output_type": "stream",
     "text": [
      "\n",
      "Bias sweep:  53%|█████▎    | 16/30 [1:11:11<55:10, 236.48s/it]  \u001b[A"
     ]
    },
    {
     "name": "stdout",
     "output_type": "stream",
     "text": [
      "DC Bias set to 0.426V                                           \n",
      "\n",
      "AC Voltage set to 0.3V                          \r"
     ]
    },
    {
     "name": "stderr",
     "output_type": "stream",
     "text": [
      "\n",
      "Bias sweep:  57%|█████▋    | 17/30 [1:14:53<50:19, 232.31s/it]\u001b[A"
     ]
    },
    {
     "name": "stdout",
     "output_type": "stream",
     "text": [
      "DC Bias set to 0.393V                                           \n",
      "\n",
      "AC Voltage set to 0.3V                          \r"
     ]
    },
    {
     "name": "stderr",
     "output_type": "stream",
     "text": [
      "\n",
      "Bias sweep:  60%|██████    | 18/30 [1:18:31<45:33, 227.79s/it]\u001b[A"
     ]
    },
    {
     "name": "stdout",
     "output_type": "stream",
     "text": [
      "DC Bias set to 0.36V                                            \n",
      "\n",
      "AC Voltage set to 0.3V                          \r"
     ]
    },
    {
     "name": "stderr",
     "output_type": "stream",
     "text": [
      "\n",
      "Bias sweep:  63%|██████▎   | 19/30 [1:22:00<40:44, 222.26s/it]\u001b[A"
     ]
    },
    {
     "name": "stdout",
     "output_type": "stream",
     "text": [
      "DC Bias set to 0.328V                                           \n",
      "\n",
      "AC Voltage set to 0.3V                          \r"
     ]
    },
    {
     "name": "stderr",
     "output_type": "stream",
     "text": [
      "\n",
      "Bias sweep:  67%|██████▋   | 20/30 [1:25:20<35:56, 215.66s/it]\u001b[A"
     ]
    },
    {
     "name": "stdout",
     "output_type": "stream",
     "text": [
      "DC Bias set to 0.295V                                            \n",
      "\n",
      "AC Voltage set to 0.3V                          \r"
     ]
    },
    {
     "name": "stderr",
     "output_type": "stream",
     "text": [
      "\n",
      "Bias sweep:  70%|███████   | 21/30 [1:28:25<30:58, 206.45s/it]\u001b[A"
     ]
    },
    {
     "name": "stdout",
     "output_type": "stream",
     "text": [
      "DC Bias set to 0.262V                                               \n",
      "\n",
      "AC Voltage set to 0.3V                          \r"
     ]
    },
    {
     "name": "stderr",
     "output_type": "stream",
     "text": [
      "\n",
      "Bias sweep:  73%|███████▎  | 22/30 [1:31:19<26:13, 196.63s/it]\u001b[A"
     ]
    },
    {
     "name": "stdout",
     "output_type": "stream",
     "text": [
      "DC Bias set to 0.229V                                             \n",
      "\n",
      "AC Voltage set to 0.3V                          \r"
     ]
    },
    {
     "name": "stderr",
     "output_type": "stream",
     "text": [
      "\n",
      "Bias sweep:  77%|███████▋  | 23/30 [1:34:08<21:59, 188.47s/it]\u001b[A"
     ]
    },
    {
     "name": "stdout",
     "output_type": "stream",
     "text": [
      "DC Bias set to 0.197V                                              \n",
      "\n",
      "AC Voltage set to 0.3V                          \r"
     ]
    },
    {
     "name": "stderr",
     "output_type": "stream",
     "text": [
      "\n",
      "Bias sweep:  80%|████████  | 24/30 [1:36:56<18:13, 182.28s/it]\u001b[A"
     ]
    },
    {
     "name": "stdout",
     "output_type": "stream",
     "text": [
      "DC Bias set to 0.164V                                             \n",
      "\n",
      "AC Voltage set to 0.3V                          \r"
     ]
    },
    {
     "name": "stderr",
     "output_type": "stream",
     "text": [
      "\n",
      "Bias sweep:  83%|████████▎ | 25/30 [1:39:43<14:47, 177.56s/it]\u001b[A"
     ]
    },
    {
     "name": "stdout",
     "output_type": "stream",
     "text": [
      "DC Bias set to 0.131V                                             \n",
      "\n",
      "AC Voltage set to 0.3V                          \r"
     ]
    },
    {
     "name": "stderr",
     "output_type": "stream",
     "text": [
      "\n",
      "Bias sweep:  87%|████████▋ | 26/30 [1:42:35<11:44, 176.03s/it]\u001b[A"
     ]
    },
    {
     "name": "stdout",
     "output_type": "stream",
     "text": [
      "DC Bias set to 0.098V                                            \n",
      "\n",
      "AC Voltage set to 0.3V                          \r"
     ]
    },
    {
     "name": "stderr",
     "output_type": "stream",
     "text": [
      "\n",
      "Bias sweep:  90%|█████████ | 27/30 [1:45:31<08:47, 175.91s/it]\u001b[A"
     ]
    },
    {
     "name": "stdout",
     "output_type": "stream",
     "text": [
      "DC Bias set to 0.066V                                             \n",
      "\n",
      "AC Voltage set to 0.3V                          \r"
     ]
    },
    {
     "name": "stderr",
     "output_type": "stream",
     "text": [
      "\n",
      "Bias sweep:  93%|█████████▎| 28/30 [1:48:29<05:53, 176.73s/it]\u001b[A"
     ]
    },
    {
     "name": "stdout",
     "output_type": "stream",
     "text": [
      "DC Bias set to 0.033V                                             \n",
      "\n",
      "AC Voltage set to 0.3V                          \r"
     ]
    },
    {
     "name": "stderr",
     "output_type": "stream",
     "text": [
      "\n",
      "Bias sweep:  97%|█████████▋| 29/30 [1:51:40<03:00, 180.74s/it]\u001b[A"
     ]
    },
    {
     "name": "stdout",
     "output_type": "stream",
     "text": [
      "DC Bias set to 0.0V                                                 \n",
      "\n",
      "AC Voltage set to 0.3V                          \r"
     ]
    },
    {
     "name": "stderr",
     "output_type": "stream",
     "text": [
      "\n",
      "Bias sweep: 100%|██████████| 30/30 [1:55:01<00:00, 230.03s/it]\u001b[A\n",
      "Freq sweep:  80%|████████  | 4/5 [7:18:55<1:50:14, 6614.66s/it]\n",
      "Bias sweep:   0%|          | 0/30 [00:00<?, ?it/s]\u001b[A"
     ]
    },
    {
     "name": "stdout",
     "output_type": "stream",
     "text": [
      "Saving as: CS519C1_ndl32kHz\n",
      "Frequency set to: 100.0kHz\n",
      "DC Bias set to 0.95V                                             \n",
      "\n",
      "AC Voltage set to 0.3V                          \r"
     ]
    },
    {
     "name": "stderr",
     "output_type": "stream",
     "text": [
      "\n",
      "Bias sweep:   3%|▎         | 1/30 [05:11<2:30:38, 311.66s/it]\u001b[A"
     ]
    },
    {
     "name": "stdout",
     "output_type": "stream",
     "text": [
      "DC Bias set to 0.917V                                           \n",
      "\n",
      "AC Voltage set to 0.3V                          \r"
     ]
    },
    {
     "name": "stderr",
     "output_type": "stream",
     "text": [
      "\n",
      "Bias sweep:   7%|▋         | 2/30 [10:02<2:19:41, 299.34s/it]\u001b[A"
     ]
    },
    {
     "name": "stdout",
     "output_type": "stream",
     "text": [
      "DC Bias set to 0.884V                                           \n",
      "\n",
      "AC Voltage set to 0.3V                          \r"
     ]
    },
    {
     "name": "stderr",
     "output_type": "stream",
     "text": [
      "\n",
      "Bias sweep:  10%|█         | 3/30 [14:34<2:09:07, 286.93s/it]\u001b[A"
     ]
    },
    {
     "name": "stdout",
     "output_type": "stream",
     "text": [
      "DC Bias set to 0.852V                                           \n",
      "\n",
      "AC Voltage set to 0.3V                          \r"
     ]
    },
    {
     "name": "stderr",
     "output_type": "stream",
     "text": [
      "\n",
      "Bias sweep:  13%|█▎        | 4/30 [18:49<1:58:50, 274.25s/it]\u001b[A"
     ]
    },
    {
     "name": "stdout",
     "output_type": "stream",
     "text": [
      "DC Bias set to 0.819V                                           \n",
      "\n",
      "AC Voltage set to 0.3V                          \r"
     ]
    },
    {
     "name": "stderr",
     "output_type": "stream",
     "text": [
      "\n",
      "Bias sweep:  17%|█▋        | 5/30 [22:55<1:50:02, 264.12s/it]\u001b[A"
     ]
    },
    {
     "name": "stdout",
     "output_type": "stream",
     "text": [
      "DC Bias set to 0.786V                                           \n",
      "\n",
      "AC Voltage set to 0.3V                          \r"
     ]
    },
    {
     "name": "stderr",
     "output_type": "stream",
     "text": [
      "\n",
      "Bias sweep:  20%|██        | 6/30 [26:54<1:42:13, 255.58s/it]\u001b[A"
     ]
    },
    {
     "name": "stdout",
     "output_type": "stream",
     "text": [
      "DC Bias set to 0.753V                                           \n",
      "\n",
      "AC Voltage set to 0.3V                          \r"
     ]
    },
    {
     "name": "stderr",
     "output_type": "stream",
     "text": [
      "\n",
      "Bias sweep:  23%|██▎       | 7/30 [30:48<1:35:13, 248.43s/it]\u001b[A"
     ]
    },
    {
     "name": "stdout",
     "output_type": "stream",
     "text": [
      "DC Bias set to 0.721V                                           \n",
      "\n",
      "AC Voltage set to 0.3V                          \r"
     ]
    },
    {
     "name": "stderr",
     "output_type": "stream",
     "text": [
      "\n",
      "Bias sweep:  27%|██▋       | 8/30 [34:38<1:28:59, 242.70s/it]\u001b[A"
     ]
    },
    {
     "name": "stdout",
     "output_type": "stream",
     "text": [
      "DC Bias set to 0.688V                                           \n",
      "\n",
      "AC Voltage set to 0.3V                          \r"
     ]
    },
    {
     "name": "stderr",
     "output_type": "stream",
     "text": [
      "\n",
      "Bias sweep:  30%|███       | 9/30 [38:25<1:23:09, 237.59s/it]\u001b[A"
     ]
    },
    {
     "name": "stdout",
     "output_type": "stream",
     "text": [
      "DC Bias set to 0.655V                                           \n",
      "\n",
      "AC Voltage set to 0.3V                          \r"
     ]
    },
    {
     "name": "stderr",
     "output_type": "stream",
     "text": [
      "\n",
      "Bias sweep:  33%|███▎      | 10/30 [42:07<1:17:41, 233.06s/it]\u001b[A"
     ]
    },
    {
     "name": "stdout",
     "output_type": "stream",
     "text": [
      "DC Bias set to 0.622V                                           \n",
      "\n",
      "AC Voltage set to 0.3V                          \r"
     ]
    },
    {
     "name": "stderr",
     "output_type": "stream",
     "text": [
      "\n",
      "Bias sweep:  37%|███▋      | 11/30 [45:47<1:12:28, 228.87s/it]\u001b[A"
     ]
    },
    {
     "name": "stdout",
     "output_type": "stream",
     "text": [
      "DC Bias set to 0.59V                                            \n",
      "\n",
      "AC Voltage set to 0.3V                          \r"
     ]
    },
    {
     "name": "stderr",
     "output_type": "stream",
     "text": [
      "\n",
      "Bias sweep:  40%|████      | 12/30 [49:24<1:07:38, 225.44s/it]\u001b[A"
     ]
    },
    {
     "name": "stdout",
     "output_type": "stream",
     "text": [
      "DC Bias set to 0.557V                                           \n",
      "\n",
      "AC Voltage set to 0.3V                          \r"
     ]
    },
    {
     "name": "stderr",
     "output_type": "stream",
     "text": [
      "\n",
      "Bias sweep:  43%|████▎     | 13/30 [52:58<1:02:52, 221.91s/it]\u001b[A"
     ]
    },
    {
     "name": "stdout",
     "output_type": "stream",
     "text": [
      "DC Bias set to 0.524V                                           \n",
      "\n",
      "AC Voltage set to 0.3V                          \r"
     ]
    },
    {
     "name": "stderr",
     "output_type": "stream",
     "text": [
      "\n",
      "Bias sweep:  47%|████▋     | 14/30 [56:27<58:06, 217.90s/it]  \u001b[A"
     ]
    },
    {
     "name": "stdout",
     "output_type": "stream",
     "text": [
      "DC Bias set to 0.491V                                           \n",
      "\n",
      "AC Voltage set to 0.3V                          \r"
     ]
    },
    {
     "name": "stderr",
     "output_type": "stream",
     "text": [
      "\n",
      "Bias sweep:  50%|█████     | 15/30 [59:52<53:30, 214.04s/it]\u001b[A"
     ]
    },
    {
     "name": "stdout",
     "output_type": "stream",
     "text": [
      "DC Bias set to 0.459V                                           \n",
      "\n",
      "AC Voltage set to 0.3V                          \r"
     ]
    },
    {
     "name": "stderr",
     "output_type": "stream",
     "text": [
      "\n",
      "Bias sweep:  53%|█████▎    | 16/30 [1:03:11<48:54, 209.58s/it]\u001b[A"
     ]
    },
    {
     "name": "stdout",
     "output_type": "stream",
     "text": [
      "DC Bias set to 0.426V                                           \n",
      "\n",
      "AC Voltage set to 0.3V                          \r"
     ]
    },
    {
     "name": "stderr",
     "output_type": "stream",
     "text": [
      "\n",
      "Bias sweep:  57%|█████▋    | 17/30 [1:06:25<44:23, 204.92s/it]\u001b[A"
     ]
    },
    {
     "name": "stdout",
     "output_type": "stream",
     "text": [
      "DC Bias set to 0.393V                                           \n",
      "\n",
      "AC Voltage set to 0.3V                          \r"
     ]
    },
    {
     "name": "stderr",
     "output_type": "stream",
     "text": [
      "\n",
      "Bias sweep:  60%|██████    | 18/30 [1:09:33<39:56, 199.72s/it]\u001b[A"
     ]
    },
    {
     "name": "stdout",
     "output_type": "stream",
     "text": [
      "DC Bias set to 0.36V                                             \n",
      "\n",
      "AC Voltage set to 0.3V                          \r"
     ]
    },
    {
     "name": "stderr",
     "output_type": "stream",
     "text": [
      "\n",
      "Bias sweep:  63%|██████▎   | 19/30 [1:12:32<35:29, 193.59s/it]\u001b[A"
     ]
    },
    {
     "name": "stdout",
     "output_type": "stream",
     "text": [
      "DC Bias set to 0.328V                                           \n",
      "\n",
      "AC Voltage set to 0.3V                          \r"
     ]
    },
    {
     "name": "stderr",
     "output_type": "stream",
     "text": [
      "\n",
      "Bias sweep:  67%|██████▋   | 20/30 [1:15:24<31:10, 187.04s/it]\u001b[A"
     ]
    },
    {
     "name": "stdout",
     "output_type": "stream",
     "text": [
      "DC Bias set to 0.295V                                            \n",
      "\n",
      "AC Voltage set to 0.3V                          \r"
     ]
    },
    {
     "name": "stderr",
     "output_type": "stream",
     "text": [
      "\n",
      "Bias sweep:  70%|███████   | 21/30 [1:17:59<26:38, 177.58s/it]\u001b[A"
     ]
    },
    {
     "name": "stdout",
     "output_type": "stream",
     "text": [
      "DC Bias set to 0.262V                                              \n",
      "\n",
      "AC Voltage set to 0.3V                          \r"
     ]
    },
    {
     "name": "stderr",
     "output_type": "stream",
     "text": [
      "\n",
      "Bias sweep:  73%|███████▎  | 22/30 [1:20:27<22:27, 168.49s/it]\u001b[A"
     ]
    },
    {
     "name": "stdout",
     "output_type": "stream",
     "text": [
      "DC Bias set to 0.229V                                             \n",
      "\n",
      "AC Voltage set to 0.3V                          \r"
     ]
    },
    {
     "name": "stderr",
     "output_type": "stream",
     "text": [
      "\n",
      "Bias sweep:  77%|███████▋  | 23/30 [1:22:49<18:44, 160.68s/it]\u001b[A"
     ]
    },
    {
     "name": "stdout",
     "output_type": "stream",
     "text": [
      "DC Bias set to 0.197V                                              \n",
      "\n",
      "AC Voltage set to 0.3V                          \r"
     ]
    },
    {
     "name": "stderr",
     "output_type": "stream",
     "text": [
      "\n",
      "Bias sweep:  80%|████████  | 24/30 [1:25:11<15:29, 154.87s/it]\u001b[A"
     ]
    },
    {
     "name": "stdout",
     "output_type": "stream",
     "text": [
      "DC Bias set to 0.164V                                             \n",
      "\n",
      "AC Voltage set to 0.3V                          \r"
     ]
    },
    {
     "name": "stderr",
     "output_type": "stream",
     "text": [
      "\n",
      "Bias sweep:  83%|████████▎ | 25/30 [1:27:30<12:31, 150.29s/it]\u001b[A"
     ]
    },
    {
     "name": "stdout",
     "output_type": "stream",
     "text": [
      "DC Bias set to 0.131V                                            \n",
      "\n",
      "AC Voltage set to 0.3V                          \r"
     ]
    },
    {
     "name": "stderr",
     "output_type": "stream",
     "text": [
      "\n",
      "Bias sweep:  87%|████████▋ | 26/30 [1:29:51<09:49, 147.37s/it]\u001b[A"
     ]
    },
    {
     "name": "stdout",
     "output_type": "stream",
     "text": [
      "DC Bias set to 0.098V                                             \n",
      "\n",
      "AC Voltage set to 0.3V                          \r"
     ]
    },
    {
     "name": "stderr",
     "output_type": "stream",
     "text": [
      "\n",
      "Bias sweep:  90%|█████████ | 27/30 [1:32:15<07:19, 146.51s/it]\u001b[A"
     ]
    },
    {
     "name": "stdout",
     "output_type": "stream",
     "text": [
      "DC Bias set to 0.066V                                             \n",
      "\n",
      "AC Voltage set to 0.3V                          \r"
     ]
    },
    {
     "name": "stderr",
     "output_type": "stream",
     "text": [
      "\n",
      "Bias sweep:  93%|█████████▎| 28/30 [1:34:47<04:56, 148.08s/it]\u001b[A"
     ]
    },
    {
     "name": "stdout",
     "output_type": "stream",
     "text": [
      "DC Bias set to 0.033V                                             \n",
      "\n",
      "AC Voltage set to 0.3V                          \r"
     ]
    },
    {
     "name": "stderr",
     "output_type": "stream",
     "text": [
      "\n",
      "Bias sweep:  97%|█████████▋| 29/30 [1:37:29<02:32, 152.42s/it]\u001b[A"
     ]
    },
    {
     "name": "stdout",
     "output_type": "stream",
     "text": [
      "DC Bias set to 0.0V                                                \n",
      "\n",
      "AC Voltage set to 0.3V                          \r"
     ]
    },
    {
     "name": "stderr",
     "output_type": "stream",
     "text": [
      "\n",
      "Bias sweep: 100%|██████████| 30/30 [1:40:21<00:00, 200.72s/it]\u001b[A\n",
      "Freq sweep: 100%|██████████| 5/5 [8:59:16<00:00, 6471.37s/it]  \n"
     ]
    },
    {
     "name": "stdout",
     "output_type": "stream",
     "text": [
      "Saving as: CS519C1_ndl100kHz\n",
      "Measurement complete\n",
      "Files saved: \n",
      "['CS519C1_ndl1kHz', 'CS519C1_ndl3kHz', 'CS519C1_ndl10kHz', 'CS519C1_ndl32kHz', 'CS519C1_ndl100kHz']\n"
     ]
    }
   ],
   "source": [
    "os.chdir('/home/pi/Desktop/DLCP')\n",
    "foldname = datetime.today().strftime('%m-%d-%Y')\n",
    "now = datetime.now()\n",
    "currtime_format = now.strftime(\"%m/%d/%y %H:%M\")\n",
    "\n",
    "if os.path.isdir(foldname) is False:\n",
    "    os.mkdir(foldname)\n",
    "\n",
    "os.chdir(foldname)\n",
    "\n",
    "try:\n",
    "    DMM.query('*IDN?')\n",
    "except:\n",
    "    rm = pyvisa.ResourceManager()\n",
    "    DMMdev = finddev(idVendor=0x05e6, idProduct=0x2100) #Device ID for DMM\n",
    "    DMMdev.reset() \n",
    "    DMM = rm.open_resource('USB0::1510::8448::1182494::0::INSTR')\n",
    "    LCR = rm.open_resource('GPIB0::17::INSTR')\n",
    "    SMU = rm.open_resource('GPIB0::24::INSTR')\n",
    "  \n",
    "    CVCommands.LCR = LCR\n",
    "    CVCommands.SMU = SMU\n",
    "    CVCommands.DMM = DMM\n",
    "    CVCommands.SMU_configure()\n",
    "    CVCommands.playstair()\n",
    "    CVCommands.playon()\n",
    "    \n",
    "CVCommands.sampName = sampName    \n",
    "CVCommands.LCR_configure()\n",
    "CVCommands.LCR_CGD()\n",
    "error = False\n",
    "time.sleep(1)\n",
    "#Collect measurement (iAmpl = initial AC amplitude in V, fAmpl = final AC amplitude in V\n",
    "#step_ampl = number of AC amplitude steps, num_avg = number of measurements to average over\n",
    "#avg_delay = delay between measurements in s, delay = delay between changing conditions in s,\n",
    "#measbias = the setpoint DC bias)\n",
    "def takeMeasu(iAmpl,fAmpl,step_ampl):\n",
    "    \n",
    "    ampl_arr = []\n",
    "    c_arr = []\n",
    "    g_arr = []\n",
    "    d_arr = []\n",
    "    gw_arr = []\n",
    "    \n",
    "    for i in np.linspace(iAmpl,fAmpl,step_ampl):\n",
    "        \n",
    "        CVCommands.set_oscVolt(i)\n",
    "        \n",
    "        \n",
    "        CVCommands.setBias(measbias-i,False,False)\n",
    "        #print('Amplitude set to: '+str(LCR.query('VOLT?')))\n",
    "        c, g, d = CVCommands.getData()\n",
    "\n",
    "        ampl_arr.append(float(LCR.query(':MONI?').split(',')[0]))\n",
    "        c_arr.append(c)\n",
    "        g_arr.append(g)\n",
    "        d_arr.append(d)\n",
    "\n",
    "    tempdict = {\n",
    "        'Amplitude (V)' : ampl_arr,\n",
    "        'Capacitance (F)' : c_arr,\n",
    "        'Dissipation (D)' : d_arr\n",
    "    }\n",
    "\n",
    "    output_df = pd.DataFrame(tempdict)\n",
    "    \n",
    "    return output_df\n",
    "\n",
    "\n",
    "######################################################\n",
    "\n",
    "if holdbias is True:\n",
    "\n",
    "    CVCommands.setBias(hold_val,True,False)\n",
    "\n",
    "    print('Prebias for ',hold_time,' seconds')\n",
    "    time.sleep(hold_time)\n",
    "\n",
    "\n",
    "fits = []\n",
    "N_dl_4 = []\n",
    "x_4 = []\n",
    "V_arr=[]\n",
    "C0=[]\n",
    "C1=[]\n",
    "C2=[]\n",
    "amp_arr=[]\n",
    "cap_arr=[]\n",
    "freq_arr = []\n",
    "\n",
    "##############################################\n",
    "\n",
    "names_arr = []\n",
    "try:\n",
    "    for j in tqdm(np.logspace(freq_i,freq_f,freq_step),desc=''.join(['Freq sweep'])):\n",
    "\n",
    "        CVCommands.setFreq(j)\n",
    "        time.sleep(delay)\n",
    "        print('Frequency set to: '+str(round(j/1000,2))+'kHz')\n",
    "        fits = []\n",
    "        #N_dl_1 = []\n",
    "        #x_1 = []\n",
    "        #N_dl_2 = []\n",
    "        #x_2 = []\n",
    "        #N_dl_3 = []\n",
    "        #x_3 = []\n",
    "        N_dl_4 = []\n",
    "        x_4 = []\n",
    "        V_arr = []\n",
    "        C0 = []\n",
    "        C1 = []\n",
    "        C2 = []\n",
    "        amp_arr = []\n",
    "        cap_arr = []\n",
    "        freq_arr = []\n",
    "        d_arr=[]\n",
    "        for i in tqdm(np.linspace(V_i,V_f,V_step),desc=''.join(['Bias sweep'])):\n",
    "\n",
    "            CVCommands.setBias(i,True,False)\n",
    "\n",
    "            measbias = float(DMM.query(':READ?'))\n",
    "\n",
    "            time.sleep(delay)\n",
    "            out = takeMeasu(ampl_i,ampl_f,ampl_step)\n",
    "\n",
    "            fits = np.polyfit(out['Amplitude (V)'],out['Capacitance (F)'],2)\n",
    "            #print(fit)\n",
    "            #fits.append(fit)\n",
    "\n",
    "\n",
    "    #         #def func1(x, c0, c1, c2):\n",
    "    #             return c0 + c1*x + c2*x**2\n",
    "\n",
    "    #         #def func2(x, c0, c1):\n",
    "    #             return c0 + c1*x + 2*c1**2/c0*x**2\n",
    "\n",
    "    #         #def func3(x, c0, c1):\n",
    "    #             return c0 + c1*x + 2*c1**2/c0*x**2 + 5*c1**3/c0**2*x**3\n",
    "\n",
    "\n",
    "            #popt1, pcov1 = curve_fit( func1, out['Amplitude (V)'], out['Capacitance (F)'], p0=fits, bounds=([-1e-5,0,-1e-5],[1e-5,1e-5,1e-5]))\n",
    "\n",
    "            #popt2, pcov2 = curve_fit( func2, out['Amplitude (V)'], out['Capacitance (F)'], p0=fits[:-1], bounds=([-1e-5,0],[1e-5,1e-5]))\n",
    "\n",
    "            #popt3, pcov3 = curve_fit( func3, out['Amplitude (V)'], out['Capacitance (F)'], p0=fits[:-1], bounds=([-1e-5,0],[1e-5,1e-5]))\n",
    "\n",
    "            #print(popt1)\n",
    "            #print(popt2)\n",
    "            #print(popt3)\n",
    "            #y_fit1 = func1(x, *popt1)\n",
    "            #y_fit2 = func2(x, *popt2)\n",
    "            #y_fit3 = func3(x, *popt3)        \n",
    "\n",
    "            #N_dl_1.append(-popt1[0]**3/(2*q*ϵ*ϵo*A**2*popt1[1])*1e-6) #multiply by 10^-6 to get from m^-3 to cm^-3\n",
    "            #x_1.append(ϵ*ϵo*A/popt1[0])\n",
    "\n",
    "            #N_dl_2.append(-popt2[0]**3/(2*q*ϵ*ϵo*A**2*popt2[1])*1e-6) #multiply by 10^-6 to get from m^-3 to cm^-3\n",
    "            #x_2.append(ϵ*ϵo*A/popt2[0])\n",
    "\n",
    "            #N_dl_3.append(-popt3[0]**3/(2*q*ϵ*ϵo*A**2*popt3[1])*1e-6) #multiply by 10^-6 to get from m^-3 to cm^-3\n",
    "            #x_3.append(ϵ*ϵo*A/popt3[0])\n",
    "\n",
    "            N_dl_4.append(-fits[0]**3/(2*q*ϵ*ϵo*A**2*fits[1])*1e-6) #F3/V3/(C)/(m-3 kg-1 s4 C2 s-2)/(m^2)/(F)-->1/(C3.s2.m-1.kg-1) #multiply by 10^-6 to get from m^-3 to cm^-3\n",
    "            x_4.append(ϵ*ϵo*A/fits[0]*1e9) #Multiply by 1e9 to get in nm\n",
    "\n",
    "            C0.append(fits[0])\n",
    "            C1.append(fits[1])\n",
    "            C2.append(fits[2])\n",
    "\n",
    "            amp_arr.append(out[\"Amplitude (V)\"].tolist())\n",
    "            cap_arr.append(out['Capacitance (F)'].tolist())\n",
    "            d_arr.append(out['Dissipation (D)'].tolist())\n",
    "\n",
    "\n",
    "            V_arr.append(measbias)\n",
    "            freq_arr.append(LCR.query('FREQ?'))\n",
    "\n",
    "\n",
    "        tempdict = {\n",
    "            'Ndl' : N_dl_4,\n",
    "            'x' : x_4,\n",
    "            'Vreal' : V_arr,\n",
    "            'freq' : freq_arr,\n",
    "            'C0' : C0,\n",
    "            'C1' : C1,\n",
    "            'C2' : C2,\n",
    "            'Ampl arr' : amp_arr,\n",
    "            'Cap arr' : cap_arr,\n",
    "            'D arr' : d_arr\n",
    "        }\n",
    "\n",
    "        info_labels = ['Sample Name: ','V start: ','V final: ','V steps: ','Freq start: ','Freq final: ','Freq steps: ','AC amp start: ','AC amp final: ','AC amp steps: ','Time: ']\n",
    "        info_data = [sampName,V_i,V_f,V_step,10**freq_i,10**freq_f,freq_step,ampl_i,ampl_f,ampl_step,currtime_format]\n",
    "\n",
    "        dictlen = len(tempdict[list(tempdict.keys())[0]])\n",
    "        infolen = len(info_data)\n",
    "\n",
    "        if dictlen >= infolen:\n",
    "            info_labels = info_labels+[np.nan]*(dictlen-infolen)\n",
    "            info_data = info_data+[np.nan]*(dictlen-infolen)\n",
    "        else:\n",
    "            for i in tempdict:\n",
    "                tempdict[i] = tempdict[i]+[np.nan]*(infolen-dictlen)\n",
    "\n",
    "        tempdict['Info1'] = info_labels\n",
    "        tempdict['Info2'] = info_data\n",
    "\n",
    "        print('Saving as: '+''.join([sampName,'_ndl',\"{:.0f}\".format(j/1000),'kHz']))\n",
    "        globals()[''.join([sampName,'_ndl',\"{:.0f}\".format(j/1000),'kHz'])] = pd.DataFrame(tempdict)\n",
    "        globals()[''.join([sampName,'_ndl',\"{:.0f}\".format(j/1000),'kHz'])].to_csv(''.join([sampName,'_ndl',\"{:.0f}\".format(j/1000),'kHz']),sep='\\t')\n",
    "        names_arr.append(''.join([sampName,'_ndl',\"{:.0f}\".format(j/1000),'kHz']))\n",
    "except KeyboardInterrupt as e:\n",
    "    CVCommands.offBias()\n",
    "    error = True\n",
    "    print(e)\n",
    "    print('Interrupt')\n",
    "CVCommands.offBias()\n",
    "LCR.write(':TRIG INT')\n",
    "print('Measurement complete')\n",
    "print('Files saved: ')\n",
    "print(names_arr)\n",
    "\n",
    "if error == False:\n",
    "    time.sleep(0.5)\n",
    "    CVCommands.playchest()\n",
    "else:\n",
    "    CVCommands.playrand(10,0.05)"
   ]
  },
  {
   "cell_type": "code",
   "execution_count": null,
   "id": "7b0a4226",
   "metadata": {},
   "outputs": [],
   "source": []
  }
 ],
 "metadata": {
  "kernelspec": {
   "display_name": "Python 3 (ipykernel)",
   "language": "python",
   "name": "python3"
  },
  "language_info": {
   "codemirror_mode": {
    "name": "ipython",
    "version": 3
   },
   "file_extension": ".py",
   "mimetype": "text/x-python",
   "name": "python",
   "nbconvert_exporter": "python",
   "pygments_lexer": "ipython3",
   "version": "3.7.3"
  }
 },
 "nbformat": 4,
 "nbformat_minor": 5
}
