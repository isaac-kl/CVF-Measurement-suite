{
 "cells": [
  {
   "cell_type": "code",
   "execution_count": 1,
   "id": "386c86ab",
   "metadata": {
    "tags": []
   },
   "outputs": [],
   "source": [
    "import pyvisa\n",
    "import numpy as np\n",
    "import time\n",
    "import pandas as pd\n",
    "import os\n",
    "import CVCommands\n",
    "from os import path\n",
    "from datetime import datetime\n",
    "from tqdm import tqdm, trange\n",
    "from matplotlib import pyplot as plt\n",
    "from pyvisa import ResourceManager, constants\n",
    "from usb.core import find as finddev\n",
    "from IPython.display import clear_output"
   ]
  },
  {
   "cell_type": "code",
   "execution_count": 6,
   "id": "320b11b0",
   "metadata": {
    "tags": []
   },
   "outputs": [],
   "source": [
    "sampName = 'OPV001'\n",
    "cellNum = '003'\n",
    "comment = ''\n",
    "\n",
    "#Scan range\n",
    "V_i = -.5 #Initial bias V (V)\n",
    "V_f = 1.5 #Final bias V (V)\n",
    "V_step = 30 #Number of steps\n",
    "#Voltage set function\n",
    "fastScan = False #Uses a voltage fit to speed up scan time, if fit is not available one will be made\n",
    "V_fitmax = 7 #Maximum Vsmu output\n",
    "V_fitmin = -10 #Minimum Vsmu output\n",
    "fitby = 'SMU' #'SMU' or 'CONTROL', fit by setting the value of the [SMU] or by [CONTROL]ling to setpoint value fitting by SMU is much faster\n",
    "#Scan settings\n",
    "freq = 1e5 #Measurement frequency in Hz\n",
    "amp = 0.05 #Measurement AC amplitude in V\n",
    "num_avg = 5 #Number of waveforms to average for each measurement\n",
    "delay = 0.1 #Delay between changing to new value\n",
    "#Pre-bias settings\n",
    "holdbias = False #Toggle to hold device at bias before measurement\n",
    "hold_val = V_i #Voltage to hold at in V\n",
    "hold_time = 5*60 #Time to hold voltage in s\n",
    "#Pulsed measurement settings\n",
    "pulseScan = False #Measurement V pulse on or off\n",
    "pulse_time = 5 #Pulse time in s\n",
    "#Soak at voltage before taking measurement\n",
    "soak = False #Soak on/off\n",
    "soak_time=1*60 #Soak time in s\n",
    "####################################################\n",
    "\n",
    "#PID tuning parameters for V setpoint\n",
    "Ku = 1.3\n",
    "Tu = 1\n",
    "CVCommands.P = 0.45*Ku\n",
    "CVCommands.I = 0.54*Ku/Tu\n",
    "CVCommands.D = 0.0\n",
    "\n",
    "CVCommands.offset = 0.01 #Acceptable tolerance for voltage setpoint in V\n",
    "\n",
    "CVCommands.reset_i = 0 #Subtract this value from voltage setpoint to improve PID speed\n",
    "CVCommands.reset = 5 #Subtract value from setpoint after reset trigger\n",
    "\n",
    "CVCommands.reset_val = 500 #Trigger voltage setpoint reset after iterations\n",
    "CVCommands.shutoff_val = 500 #Max iterations before shutdown\n",
    "CVCommands.num_avg = num_avg\n",
    "CVCommands.mvavg_num = 20 #Number of points to calculate voltage setpoint moving average\n",
    "\n",
    "CVCommands.v_ceiling = 35 #Max allowable voltage sent to SMU, maximum value 35\n",
    "\n",
    "CVCommands.trig_delay = 1 #Delay before triggering measurement\n",
    "CVCommands.meas_speed = 'SLOW2' #FAST, MED, SLOW, SLOW2\n",
    "CVCommands.lowz = 'ON' #LCR low Z mode\n",
    "\n",
    "CVCommands.LCR_timeout = 600*1000 #Timeout in ms for LCR query\n",
    "\n"
   ]
  },
  {
   "cell_type": "code",
   "execution_count": 7,
   "id": "a209684e",
   "metadata": {
    "tags": []
   },
   "outputs": [
    {
     "name": "stderr",
     "output_type": "stream",
     "text": [
      "Voltage sweep:   0%|          | 0/30 [00:00<?, ?it/s]"
     ]
    },
    {
     "name": "stdout",
     "output_type": "stream",
     "text": [
      "Fast scan = False\n",
      "Pulse scan = False\n",
      "Pre-bias = False\n",
      "Soak = False\n",
      "\n",
      "\n",
      "DC Bias set to -0.5V                                              \n",
      "\n"
     ]
    },
    {
     "name": "stderr",
     "output_type": "stream",
     "text": [
      "Voltage sweep:   3%|▎         | 1/30 [00:14<06:54, 14.28s/it]"
     ]
    },
    {
     "name": "stdout",
     "output_type": "stream",
     "text": [
      "DC Bias set to -0.431V                                             \n",
      "\n"
     ]
    },
    {
     "name": "stderr",
     "output_type": "stream",
     "text": [
      "Voltage sweep:   7%|▋         | 2/30 [00:28<06:45, 14.47s/it]"
     ]
    },
    {
     "name": "stdout",
     "output_type": "stream",
     "text": [
      "DC Bias set to -0.362V                                             \n",
      "\n"
     ]
    },
    {
     "name": "stderr",
     "output_type": "stream",
     "text": [
      "Voltage sweep:  10%|█         | 3/30 [00:41<06:02, 13.43s/it]"
     ]
    },
    {
     "name": "stdout",
     "output_type": "stream",
     "text": [
      "DC Bias set to -0.293V                                              \n",
      "\n"
     ]
    },
    {
     "name": "stderr",
     "output_type": "stream",
     "text": [
      "Voltage sweep:  13%|█▎        | 4/30 [00:52<05:29, 12.68s/it]"
     ]
    },
    {
     "name": "stdout",
     "output_type": "stream",
     "text": [
      "DC Bias set to -0.224V                                            \n",
      "\n"
     ]
    },
    {
     "name": "stderr",
     "output_type": "stream",
     "text": [
      "Voltage sweep:  17%|█▋        | 5/30 [01:02<04:53, 11.73s/it]"
     ]
    },
    {
     "name": "stdout",
     "output_type": "stream",
     "text": [
      "DC Bias set to -0.155V                                            \n",
      "\n"
     ]
    },
    {
     "name": "stderr",
     "output_type": "stream",
     "text": [
      "Voltage sweep:  20%|██        | 6/30 [01:12<04:25, 11.08s/it]"
     ]
    },
    {
     "name": "stdout",
     "output_type": "stream",
     "text": [
      "DC Bias set to -0.086V                                             \n",
      "\n"
     ]
    },
    {
     "name": "stderr",
     "output_type": "stream",
     "text": [
      "Voltage sweep:  23%|██▎       | 7/30 [01:20<03:52, 10.12s/it]"
     ]
    },
    {
     "name": "stdout",
     "output_type": "stream",
     "text": [
      "DC Bias set to -0.017V                                               \n",
      "\n"
     ]
    },
    {
     "name": "stderr",
     "output_type": "stream",
     "text": [
      "Voltage sweep:  27%|██▋       | 8/30 [01:26<03:11,  8.72s/it]"
     ]
    },
    {
     "name": "stdout",
     "output_type": "stream",
     "text": [
      "DC Bias set to 0.052V                                              \n",
      "\n"
     ]
    },
    {
     "name": "stderr",
     "output_type": "stream",
     "text": [
      "Voltage sweep:  30%|███       | 9/30 [01:33<02:49,  8.08s/it]"
     ]
    },
    {
     "name": "stdout",
     "output_type": "stream",
     "text": [
      "DC Bias set to 0.121V                                            \n",
      "\n"
     ]
    },
    {
     "name": "stderr",
     "output_type": "stream",
     "text": [
      "Voltage sweep:  33%|███▎      | 10/30 [01:42<02:48,  8.44s/it]"
     ]
    },
    {
     "name": "stdout",
     "output_type": "stream",
     "text": [
      "DC Bias set to 0.19V                                             \n",
      "\n"
     ]
    },
    {
     "name": "stderr",
     "output_type": "stream",
     "text": [
      "Voltage sweep:  37%|███▋      | 11/30 [01:52<02:48,  8.88s/it]"
     ]
    },
    {
     "name": "stdout",
     "output_type": "stream",
     "text": [
      "DC Bias set to 0.259V                                           \n",
      "\n"
     ]
    },
    {
     "name": "stderr",
     "output_type": "stream",
     "text": [
      "Voltage sweep:  40%|████      | 12/30 [02:02<02:49,  9.40s/it]"
     ]
    },
    {
     "name": "stdout",
     "output_type": "stream",
     "text": [
      "DC Bias set to 0.328V                                           \n",
      "\n"
     ]
    },
    {
     "name": "stderr",
     "output_type": "stream",
     "text": [
      "Voltage sweep:  43%|████▎     | 13/30 [02:13<02:48,  9.93s/it]"
     ]
    },
    {
     "name": "stdout",
     "output_type": "stream",
     "text": [
      "DC Bias set to 0.397V                                           \n",
      "\n"
     ]
    },
    {
     "name": "stderr",
     "output_type": "stream",
     "text": [
      "Voltage sweep:  47%|████▋     | 14/30 [02:25<02:45, 10.34s/it]"
     ]
    },
    {
     "name": "stdout",
     "output_type": "stream",
     "text": [
      "DC Bias set to 0.466V                                           \n",
      "\n"
     ]
    },
    {
     "name": "stderr",
     "output_type": "stream",
     "text": [
      "Voltage sweep:  50%|█████     | 15/30 [02:36<02:41, 10.78s/it]"
     ]
    },
    {
     "name": "stdout",
     "output_type": "stream",
     "text": [
      "DC Bias set to 0.534V                                           \n",
      "\n"
     ]
    },
    {
     "name": "stderr",
     "output_type": "stream",
     "text": [
      "Voltage sweep:  53%|█████▎    | 16/30 [02:49<02:36, 11.18s/it]"
     ]
    },
    {
     "name": "stdout",
     "output_type": "stream",
     "text": [
      "DC Bias set to 0.603V                                           \n",
      "\n"
     ]
    },
    {
     "name": "stderr",
     "output_type": "stream",
     "text": [
      "Voltage sweep:  57%|█████▋    | 17/30 [03:01<02:30, 11.54s/it]"
     ]
    },
    {
     "name": "stdout",
     "output_type": "stream",
     "text": [
      "DC Bias set to 0.672V                                           \n",
      "\n"
     ]
    },
    {
     "name": "stderr",
     "output_type": "stream",
     "text": [
      "Voltage sweep:  60%|██████    | 18/30 [03:14<02:22, 11.91s/it]"
     ]
    },
    {
     "name": "stdout",
     "output_type": "stream",
     "text": [
      "DC Bias set to 0.741V                                           \n",
      "\n"
     ]
    },
    {
     "name": "stderr",
     "output_type": "stream",
     "text": [
      "Voltage sweep:  63%|██████▎   | 19/30 [03:27<02:14, 12.21s/it]"
     ]
    },
    {
     "name": "stdout",
     "output_type": "stream",
     "text": [
      "DC Bias set to 0.81V                                            \n",
      "\n"
     ]
    },
    {
     "name": "stderr",
     "output_type": "stream",
     "text": [
      "Voltage sweep:  67%|██████▋   | 20/30 [03:40<02:05, 12.53s/it]"
     ]
    },
    {
     "name": "stdout",
     "output_type": "stream",
     "text": [
      "DC Bias set to 0.879V                                           \n",
      "\n"
     ]
    },
    {
     "name": "stderr",
     "output_type": "stream",
     "text": [
      "Voltage sweep:  70%|███████   | 21/30 [03:53<01:54, 12.76s/it]"
     ]
    },
    {
     "name": "stdout",
     "output_type": "stream",
     "text": [
      "DC Bias set to 0.948V                                           \n",
      "\n"
     ]
    },
    {
     "name": "stderr",
     "output_type": "stream",
     "text": [
      "Voltage sweep:  73%|███████▎  | 22/30 [04:07<01:43, 12.93s/it]"
     ]
    },
    {
     "name": "stdout",
     "output_type": "stream",
     "text": [
      "DC Bias set to 1.017V                                           \n",
      "\n"
     ]
    },
    {
     "name": "stderr",
     "output_type": "stream",
     "text": [
      "Voltage sweep:  77%|███████▋  | 23/30 [04:20<01:31, 13.14s/it]"
     ]
    },
    {
     "name": "stdout",
     "output_type": "stream",
     "text": [
      "DC Bias set to 1.086V                                           \n",
      "\n"
     ]
    },
    {
     "name": "stderr",
     "output_type": "stream",
     "text": [
      "Voltage sweep:  80%|████████  | 24/30 [04:34<01:19, 13.24s/it]"
     ]
    },
    {
     "name": "stdout",
     "output_type": "stream",
     "text": [
      "DC Bias set to 1.155V                                           \n",
      "\n"
     ]
    },
    {
     "name": "stderr",
     "output_type": "stream",
     "text": [
      "Voltage sweep:  83%|████████▎ | 25/30 [04:48<01:07, 13.43s/it]"
     ]
    },
    {
     "name": "stdout",
     "output_type": "stream",
     "text": [
      "DC Bias set to 1.224V                                           \n",
      "\n"
     ]
    },
    {
     "name": "stderr",
     "output_type": "stream",
     "text": [
      "Voltage sweep:  87%|████████▋ | 26/30 [05:01<00:54, 13.57s/it]"
     ]
    },
    {
     "name": "stdout",
     "output_type": "stream",
     "text": [
      "DC Bias set to 1.293V                                           \n",
      "\n"
     ]
    },
    {
     "name": "stderr",
     "output_type": "stream",
     "text": [
      "Voltage sweep:  90%|█████████ | 27/30 [05:15<00:41, 13.68s/it]"
     ]
    },
    {
     "name": "stdout",
     "output_type": "stream",
     "text": [
      "DC Bias set to 1.362V                                           \n",
      "\n"
     ]
    },
    {
     "name": "stderr",
     "output_type": "stream",
     "text": [
      "Voltage sweep:  93%|█████████▎| 28/30 [05:29<00:27, 13.77s/it]"
     ]
    },
    {
     "name": "stdout",
     "output_type": "stream",
     "text": [
      "DC Bias set to 1.431V                                           \n",
      "\n"
     ]
    },
    {
     "name": "stderr",
     "output_type": "stream",
     "text": [
      "Voltage sweep:  97%|█████████▋| 29/30 [05:44<00:13, 13.98s/it]"
     ]
    },
    {
     "name": "stdout",
     "output_type": "stream",
     "text": [
      "DC Bias set to 1.5V                                             \n",
      "\n"
     ]
    },
    {
     "name": "stderr",
     "output_type": "stream",
     "text": [
      "Voltage sweep: 100%|██████████| 30/30 [05:58<00:00, 11.96s/it]\n"
     ]
    },
    {
     "name": "stdout",
     "output_type": "stream",
     "text": [
      "Saving as: OPV001_CV_1013211521_100kHz\n",
      "Measurement complete\n",
      "Data saved\n"
     ]
    },
    {
     "data": {
      "image/png": "[encoded data removed]",
      "text/plain": [
       "<Figure size 432x288 with 1 Axes>"
      ]
     },
     "metadata": {
      "needs_background": "light"
     },
     "output_type": "display_data"
    }
   ],
   "source": [
    "os.chdir('/home/pi/Desktop/CV')\n",
    "foldname = datetime.today().strftime('%m-%d-%Y')\n",
    "now = datetime.now()\n",
    "currtime = now.strftime(\"%m%d%y%H%M\")\n",
    "currtime_format = now.strftime(\"%m/%d/%y %H:%M\")\n",
    "month_format=datetime.today().strftime('%m-%Y')\n",
    "\n",
    "if os.path.isdir(month_format) is False:\n",
    "    os.mkdir(month_format)\n",
    "    os.chdir(month_format)\n",
    "else:\n",
    "    os.chdir(month_format) \n",
    "\n",
    "try:\n",
    "    DMM.query('*IDN?')\n",
    "except:\n",
    "    rm = pyvisa.ResourceManager()\n",
    "    rm.list_resources()\n",
    "    DMMdev = finddev(idVendor=0x05e6, idProduct=0x2100) #Device ID for DMM\n",
    "    DMMdev.reset() \n",
    "    DMM = rm.open_resource('USB0::1510::8448::1182494::0::INSTR')\n",
    "    LCR = rm.open_resource('GPIB0::17::INSTR')\n",
    "    SMU = rm.open_resource('GPIB0::24::INSTR')\n",
    "    CVCommands.LCR = LCR\n",
    "    CVCommands.SMU = SMU\n",
    "    CVCommands.DMM = DMM\n",
    "    CVCommands.SMU_configure()\n",
    "    CVCommands.playstair()\n",
    "    CVCommands.playon()   \n",
    "if os.path.isdir(foldname) is False:\n",
    "    os.mkdir(foldname)\n",
    "\n",
    "os.chdir(foldname)\n",
    "\n",
    "CVCommands.fastScan = fastScan\n",
    "CVCommands.sampName = sampName\n",
    "CVCommands.LCR_configure()\n",
    "CVCommands.LCR_CGD()\n",
    "\n",
    "error = False\n",
    "time.sleep(1)\n",
    "################################################\n",
    "print('Fast scan = '+str(fastScan))\n",
    "print('Pulse scan = '+str(pulseScan))\n",
    "print('Pre-bias = '+str(holdbias))\n",
    "print('Soak = '+str(holdbias))\n",
    "print('\\n')\n",
    "\n",
    "if fastScan == True:\n",
    "    if path.exists(''.join(['/home/pi/Desktop/VoltageFits/','Vfitdata_',sampName])):\n",
    "        CVCommands.fit_df = pd.read_csv(''.join(['/home/pi/Desktop/VoltageFits/','Vfitdata_',sampName]),sep='\\t')\n",
    "    else:\n",
    "        CVCommands.voltFit(V_fitmin,V_fitmax,fitby)\n",
    "        CVCommands.fit_df = pd.read_csv(''.join(['/home/pi/Desktop/VoltageFits/','Vfitdata_',sampName]),sep='\\t') \n",
    "\n",
    "\n",
    "\n",
    "CVCommands.setFreq(freq)\n",
    "CVCommands.set_oscVolt(amp)\n",
    "try:  \n",
    "    V_arr = []\n",
    "    c_arr = []\n",
    "    g_arr = []\n",
    "    d_arr = []\n",
    "    f_arr = []\n",
    "    if holdbias is True:\n",
    "\n",
    "        CVCommands.setBias(hold_val,True,fastScan)\n",
    "\n",
    "        print('Prebiasing at '+str(hold_val)+'                               ')\n",
    "        time.sleep(hold_time)\n",
    "    for i in tqdm(np.linspace(V_i,V_f,V_step),desc=''.join(['Voltage sweep'])):\n",
    "        \n",
    "        CVCommands.setBias(i,True,fastScan)\n",
    "        if soak == True:\n",
    "            time.sleep(soak_time)\n",
    "        c, g, d = CVCommands.getData()\n",
    "        V_arr.append(float(DMM.query(':READ?')))\n",
    "        c_arr.append(c)\n",
    "        g_arr.append(g)\n",
    "        d_arr.append(d)\n",
    "        f_arr.append(freq)\n",
    "        if pulseScan == True:\n",
    "            CVCommands.setBias(0,True,fastScan)\n",
    "            DMM.query(':READ?')\n",
    "            time.sleep(pulse_time)\n",
    "    \n",
    "except KeyboardInterrupt as e:\n",
    "    error = True\n",
    "    print(e)\n",
    "    print('Interrupt')\n",
    "CVCommands.offBias()\n",
    "LCR.write(':TRIG INT')\n",
    "\n",
    "tempdict = {\n",
    "    'DC Bias (V)' : V_arr,\n",
    "    'Capacitance (F)' : c_arr,\n",
    "    'Conductance (S)' : g_arr,\n",
    "    'Dissipation (D)' : d_arr,\n",
    "    'Frequency (Hz)' : f_arr,\n",
    "}\n",
    "\n",
    "if pulseScan == False:\n",
    "    pulse_time = 0\n",
    "if soak == False:\n",
    "    soak_time = 0\n",
    "if holdbias == False:\n",
    "    hold_time = 0\n",
    "info_labels = ['Sample Name: ','Cell Number: ','Comment: ','V start: ','V final: ','V steps: ','Freq: ','AC amp: ','Time: '\n",
    "               ,'Pulse time: ','Pre-bias: ','LCR averaging: ','Soak time: ']\n",
    "info_data = [sampName,cellNum,comment,V_i,V_f,V_step,freq,amp,currtime_format,pulse_time,hold_time,num_avg,soak_time]\n",
    "\n",
    "dictlen = len(tempdict[list(tempdict.keys())[0]])\n",
    "\n",
    "infolen = len(info_data)\n",
    "\n",
    "if dictlen >= infolen:\n",
    "    info_labels = info_labels+[np.nan]*(dictlen-infolen)\n",
    "    info_data = info_data+[np.nan]*(dictlen-infolen)\n",
    "else:\n",
    "    for i in tempdict:\n",
    "        tempdict[i] = tempdict[i]+[np.nan]*(infolen-dictlen)\n",
    "\n",
    "tempdict['Info1'] = info_labels\n",
    "tempdict['Info2'] = info_data\n",
    "    \n",
    "print('Saving as: '+''.join([sampName,'_CV','_',currtime,'_',\"{:.0f}\".format(freq/1000),'kHz']))\n",
    "globals()[''.join([sampName,'_CV','_',currtime,'_',\"{:.0f}\".format(freq/1000),'kHz'])] = pd.DataFrame(tempdict)\n",
    "globals()[''.join([sampName,'_CV','_',currtime,'_',\"{:.0f}\".format(freq/1000),'kHz'])].to_csv(''.join([sampName,'_CV','_',currtime,'_',\"{:.0f}\".format(freq/1000),'kHz']),sep='\\t')\n",
    "\n",
    "print('Measurement complete')\n",
    "print('Data saved')\n",
    "    \n",
    "plt.scatter(globals()[''.join([sampName,'_CV','_',currtime,'_',\"{:.0f}\".format(freq/1000),'kHz'])]['DC Bias (V)']\n",
    "         ,globals()[''.join([sampName,'_CV','_',currtime,'_',\"{:.0f}\".format(freq/1000),'kHz'])]['Capacitance (F)'])\n",
    "\n",
    "if error == False:\n",
    "    time.sleep(0.5)\n",
    "    #CVCommands.playchest()\n",
    "else:\n",
    "    CVCommands.playrand(10,0.05)"
   ]
  },
  {
   "cell_type": "code",
   "execution_count": null,
   "id": "0d495d2d",
   "metadata": {},
   "outputs": [],
   "source": []
  }
 ],
 "metadata": {
  "kernelspec": {
   "display_name": "Python 3",
   "language": "python",
   "name": "python3"
  },
  "language_info": {
   "codemirror_mode": {
    "name": "ipython",
    "version": 3
   },
   "file_extension": ".py",
   "mimetype": "text/x-python",
   "name": "python",
   "nbconvert_exporter": "python",
   "pygments_lexer": "ipython3",
   "version": "3.7.3"
  }
 },
 "nbformat": 4,
 "nbformat_minor": 5
}
